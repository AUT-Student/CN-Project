{
  "nbformat": 4,
  "nbformat_minor": 0,
  "metadata": {
    "colab": {
      "provenance": [],
      "toc_visible": true,
      "authorship_tag": "ABX9TyMwERcYTkstqbTlRfzquaNF",
      "include_colab_link": true
    },
    "kernelspec": {
      "name": "python3",
      "display_name": "Python 3"
    },
    "language_info": {
      "name": "python"
    },
    "gpuClass": "standard"
  },
  "cells": [
    {
      "cell_type": "markdown",
      "metadata": {
        "id": "view-in-github",
        "colab_type": "text"
      },
      "source": [
        "<a href=\"https://colab.research.google.com/github/AUT-Student/CN-Project/blob/main/CN_Project_Q1.ipynb\" target=\"_parent\"><img src=\"https://colab.research.google.com/assets/colab-badge.svg\" alt=\"Open In Colab\"/></a>"
      ]
    },
    {
      "cell_type": "markdown",
      "source": [
        "# Libraries"
      ],
      "metadata": {
        "id": "cb__SSZSsooQ"
      }
    },
    {
      "cell_type": "code",
      "execution_count": 1,
      "metadata": {
        "id": "5_eFYCPpsYEh"
      },
      "outputs": [],
      "source": [
        "import pandas as pd\n",
        "import numpy as np"
      ]
    },
    {
      "cell_type": "code",
      "source": [
        "import torch\n",
        "from torch import Tensor\n",
        "from torch.nn import Linear, ReLU\n",
        "import torch.nn.functional as F"
      ],
      "metadata": {
        "id": "18zUntL68PqD"
      },
      "execution_count": 2,
      "outputs": []
    },
    {
      "cell_type": "code",
      "source": [
        "torch.__version__"
      ],
      "metadata": {
        "colab": {
          "base_uri": "https://localhost:8080/",
          "height": 35
        },
        "id": "uE-LvmdB8baR",
        "outputId": "689745a1-c39e-45b2-c666-3b048ce7c319"
      },
      "execution_count": 3,
      "outputs": [
        {
          "output_type": "execute_result",
          "data": {
            "text/plain": [
              "'1.13.1+cu116'"
            ],
            "application/vnd.google.colaboratory.intrinsic+json": {
              "type": "string"
            }
          },
          "metadata": {},
          "execution_count": 3
        }
      ]
    },
    {
      "cell_type": "code",
      "source": [
        "!pip install pyg-lib torch-scatter torch-sparse -f https://data.pyg.org/whl/torch-1.13.0+cu116.html\n",
        "!pip install torch-geometric\n",
        "!pip install torch-cluster torch-spline-conv -f https://data.pyg.org/whl/torch-1.13.0+cu116.html"
      ],
      "metadata": {
        "colab": {
          "base_uri": "https://localhost:8080/",
          "height": 1000
        },
        "id": "wRi13M887k7O",
        "outputId": "6b74aeae-2360-45ab-81c8-b86ce9884dc6"
      },
      "execution_count": 4,
      "outputs": [
        {
          "output_type": "stream",
          "name": "stdout",
          "text": [
            "Looking in indexes: https://pypi.org/simple, https://us-python.pkg.dev/colab-wheels/public/simple/\n",
            "Looking in links: https://data.pyg.org/whl/torch-1.13.0+cu116.html\n",
            "Collecting pyg-lib\n",
            "  Downloading https://data.pyg.org/whl/torch-1.13.0%2Bcu116/pyg_lib-0.1.0%2Bpt113cu116-cp38-cp38-linux_x86_64.whl (1.9 MB)\n",
            "\u001b[2K     \u001b[90m━━━━━━━━━━━━━━━━━━━━━━━━━━━━━━━━━━━━━━━━\u001b[0m \u001b[32m1.9/1.9 MB\u001b[0m \u001b[31m14.9 MB/s\u001b[0m eta \u001b[36m0:00:00\u001b[0m\n",
            "\u001b[?25hCollecting torch-scatter\n",
            "  Downloading https://data.pyg.org/whl/torch-1.13.0%2Bcu116/torch_scatter-2.1.0%2Bpt113cu116-cp38-cp38-linux_x86_64.whl (9.4 MB)\n",
            "\u001b[2K     \u001b[90m━━━━━━━━━━━━━━━━━━━━━━━━━━━━━━━━━━━━━━━━\u001b[0m \u001b[32m9.4/9.4 MB\u001b[0m \u001b[31m75.2 MB/s\u001b[0m eta \u001b[36m0:00:00\u001b[0m\n",
            "\u001b[?25hCollecting torch-sparse\n",
            "  Downloading https://data.pyg.org/whl/torch-1.13.0%2Bcu116/torch_sparse-0.6.16%2Bpt113cu116-cp38-cp38-linux_x86_64.whl (4.5 MB)\n",
            "\u001b[2K     \u001b[90m━━━━━━━━━━━━━━━━━━━━━━━━━━━━━━━━━━━━━━━━\u001b[0m \u001b[32m4.5/4.5 MB\u001b[0m \u001b[31m74.8 MB/s\u001b[0m eta \u001b[36m0:00:00\u001b[0m\n",
            "\u001b[?25hRequirement already satisfied: scipy in /usr/local/lib/python3.8/dist-packages (from torch-sparse) (1.7.3)\n",
            "Requirement already satisfied: numpy<1.23.0,>=1.16.5 in /usr/local/lib/python3.8/dist-packages (from scipy->torch-sparse) (1.21.6)\n",
            "Installing collected packages: torch-scatter, pyg-lib, torch-sparse\n",
            "Successfully installed pyg-lib-0.1.0+pt113cu116 torch-scatter-2.1.0+pt113cu116 torch-sparse-0.6.16+pt113cu116\n",
            "Looking in indexes: https://pypi.org/simple, https://us-python.pkg.dev/colab-wheels/public/simple/\n",
            "Collecting torch-geometric\n",
            "  Downloading torch_geometric-2.2.0.tar.gz (564 kB)\n",
            "\u001b[2K     \u001b[90m━━━━━━━━━━━━━━━━━━━━━━━━━━━━━━━━━━━━━━━\u001b[0m \u001b[32m565.0/565.0 KB\u001b[0m \u001b[31m9.9 MB/s\u001b[0m eta \u001b[36m0:00:00\u001b[0m\n",
            "\u001b[?25h  Preparing metadata (setup.py) ... \u001b[?25l\u001b[?25hdone\n",
            "Requirement already satisfied: tqdm in /usr/local/lib/python3.8/dist-packages (from torch-geometric) (4.64.1)\n",
            "Requirement already satisfied: numpy in /usr/local/lib/python3.8/dist-packages (from torch-geometric) (1.21.6)\n",
            "Requirement already satisfied: scipy in /usr/local/lib/python3.8/dist-packages (from torch-geometric) (1.7.3)\n",
            "Requirement already satisfied: jinja2 in /usr/local/lib/python3.8/dist-packages (from torch-geometric) (2.11.3)\n",
            "Requirement already satisfied: requests in /usr/local/lib/python3.8/dist-packages (from torch-geometric) (2.25.1)\n",
            "Requirement already satisfied: pyparsing in /usr/local/lib/python3.8/dist-packages (from torch-geometric) (3.0.9)\n",
            "Requirement already satisfied: scikit-learn in /usr/local/lib/python3.8/dist-packages (from torch-geometric) (1.0.2)\n",
            "Collecting psutil>=5.8.0\n",
            "  Downloading psutil-5.9.4-cp36-abi3-manylinux_2_12_x86_64.manylinux2010_x86_64.manylinux_2_17_x86_64.manylinux2014_x86_64.whl (280 kB)\n",
            "\u001b[2K     \u001b[90m━━━━━━━━━━━━━━━━━━━━━━━━━━━━━━━━━━━━━━\u001b[0m \u001b[32m280.2/280.2 KB\u001b[0m \u001b[31m25.5 MB/s\u001b[0m eta \u001b[36m0:00:00\u001b[0m\n",
            "\u001b[?25hRequirement already satisfied: MarkupSafe>=0.23 in /usr/local/lib/python3.8/dist-packages (from jinja2->torch-geometric) (2.0.1)\n",
            "Requirement already satisfied: chardet<5,>=3.0.2 in /usr/local/lib/python3.8/dist-packages (from requests->torch-geometric) (4.0.0)\n",
            "Requirement already satisfied: certifi>=2017.4.17 in /usr/local/lib/python3.8/dist-packages (from requests->torch-geometric) (2022.12.7)\n",
            "Requirement already satisfied: urllib3<1.27,>=1.21.1 in /usr/local/lib/python3.8/dist-packages (from requests->torch-geometric) (1.24.3)\n",
            "Requirement already satisfied: idna<3,>=2.5 in /usr/local/lib/python3.8/dist-packages (from requests->torch-geometric) (2.10)\n",
            "Requirement already satisfied: joblib>=0.11 in /usr/local/lib/python3.8/dist-packages (from scikit-learn->torch-geometric) (1.2.0)\n",
            "Requirement already satisfied: threadpoolctl>=2.0.0 in /usr/local/lib/python3.8/dist-packages (from scikit-learn->torch-geometric) (3.1.0)\n",
            "Building wheels for collected packages: torch-geometric\n",
            "  Building wheel for torch-geometric (setup.py) ... \u001b[?25l\u001b[?25hdone\n",
            "  Created wheel for torch-geometric: filename=torch_geometric-2.2.0-py3-none-any.whl size=773302 sha256=a8401488b75590331d124cf6189aac5ea29adbc3614f50c726e5aaaf74b1d2e1\n",
            "  Stored in directory: /root/.cache/pip/wheels/59/a3/20/198928106d3169865ae73afcbd3d3d1796cf6b429b55c65378\n",
            "Successfully built torch-geometric\n",
            "Installing collected packages: psutil, torch-geometric\n",
            "  Attempting uninstall: psutil\n",
            "    Found existing installation: psutil 5.4.8\n",
            "    Uninstalling psutil-5.4.8:\n",
            "      Successfully uninstalled psutil-5.4.8\n",
            "Successfully installed psutil-5.9.4 torch-geometric-2.2.0\n"
          ]
        },
        {
          "output_type": "display_data",
          "data": {
            "application/vnd.colab-display-data+json": {
              "pip_warning": {
                "packages": [
                  "psutil"
                ]
              }
            }
          },
          "metadata": {}
        },
        {
          "output_type": "stream",
          "name": "stdout",
          "text": [
            "Looking in indexes: https://pypi.org/simple, https://us-python.pkg.dev/colab-wheels/public/simple/\n",
            "Looking in links: https://data.pyg.org/whl/torch-1.13.0+cu116.html\n",
            "Collecting torch-cluster\n",
            "  Downloading https://data.pyg.org/whl/torch-1.13.0%2Bcu116/torch_cluster-1.6.0%2Bpt113cu116-cp38-cp38-linux_x86_64.whl (3.2 MB)\n",
            "\u001b[2K     \u001b[90m━━━━━━━━━━━━━━━━━━━━━━━━━━━━━━━━━━━━━━━━\u001b[0m \u001b[32m3.2/3.2 MB\u001b[0m \u001b[31m22.0 MB/s\u001b[0m eta \u001b[36m0:00:00\u001b[0m\n",
            "\u001b[?25hCollecting torch-spline-conv\n",
            "  Downloading https://data.pyg.org/whl/torch-1.13.0%2Bcu116/torch_spline_conv-1.2.1%2Bpt113cu116-cp38-cp38-linux_x86_64.whl (873 kB)\n",
            "\u001b[2K     \u001b[90m━━━━━━━━━━━━━━━━━━━━━━━━━━━━━━━━━━━━━━\u001b[0m \u001b[32m873.9/873.9 KB\u001b[0m \u001b[31m41.0 MB/s\u001b[0m eta \u001b[36m0:00:00\u001b[0m\n",
            "\u001b[?25hRequirement already satisfied: scipy in /usr/local/lib/python3.8/dist-packages (from torch-cluster) (1.7.3)\n",
            "Requirement already satisfied: numpy<1.23.0,>=1.16.5 in /usr/local/lib/python3.8/dist-packages (from scipy->torch-cluster) (1.21.6)\n",
            "Installing collected packages: torch-spline-conv, torch-cluster\n",
            "Successfully installed torch-cluster-1.6.0+pt113cu116 torch-spline-conv-1.2.1+pt113cu116\n"
          ]
        }
      ]
    },
    {
      "cell_type": "code",
      "source": [
        "import torch_geometric"
      ],
      "metadata": {
        "id": "IibwB8xc9fbL"
      },
      "execution_count": 4,
      "outputs": []
    },
    {
      "cell_type": "markdown",
      "source": [
        "# Dataset"
      ],
      "metadata": {
        "id": "itHVOI5VsvN3"
      }
    },
    {
      "cell_type": "markdown",
      "source": [
        "## Dataset DBLP"
      ],
      "metadata": {
        "id": "6HsoWndJ8JHb"
      }
    },
    {
      "cell_type": "markdown",
      "source": [
        "### Load"
      ],
      "metadata": {
        "id": "VbFjHPhOFjSg"
      }
    },
    {
      "cell_type": "code",
      "source": [
        "from torch_geometric.datasets.dblp import DBLP"
      ],
      "metadata": {
        "id": "M7BzI6Ul9of7"
      },
      "execution_count": null,
      "outputs": []
    },
    {
      "cell_type": "code",
      "source": [
        "dblp = DBLP(\"/content\")"
      ],
      "metadata": {
        "colab": {
          "base_uri": "https://localhost:8080/"
        },
        "id": "Z4UxYt6e9xGR",
        "outputId": "04ff884d-ea9a-4546-8a79-f1dedc97e5cd"
      },
      "execution_count": null,
      "outputs": [
        {
          "output_type": "stream",
          "name": "stderr",
          "text": [
            "Downloading https://www.dropbox.com/s/yh4grpeks87ugr2/DBLP_processed.zip?dl=1\n",
            "Extracting /content/raw/DBLP_processed.zip\n",
            "Processing...\n",
            "Done!\n"
          ]
        }
      ]
    },
    {
      "cell_type": "markdown",
      "source": [
        "### Overview"
      ],
      "metadata": {
        "id": "Xkl_zfnHFhyN"
      }
    },
    {
      "cell_type": "code",
      "source": [
        "# Source: https://github.com/pyg-team/pytorch_geometric/blob/master/torch_geometric/datasets/dblp.py"
      ],
      "metadata": {
        "id": "bxGf58v6aDpF"
      },
      "execution_count": null,
      "outputs": []
    },
    {
      "cell_type": "code",
      "source": [
        "dblp.data"
      ],
      "metadata": {
        "colab": {
          "base_uri": "https://localhost:8080/"
        },
        "id": "IznadPNZ__4s",
        "outputId": "63979ad9-aa53-47d2-d28a-d54e46b834c3"
      },
      "execution_count": null,
      "outputs": [
        {
          "output_type": "execute_result",
          "data": {
            "text/plain": [
              "HeteroData(\n",
              "  \u001b[1mauthor\u001b[0m={\n",
              "    x=[4057, 334],\n",
              "    y=[4057],\n",
              "    train_mask=[4057],\n",
              "    val_mask=[4057],\n",
              "    test_mask=[4057]\n",
              "  },\n",
              "  \u001b[1mpaper\u001b[0m={ x=[14328, 4231] },\n",
              "  \u001b[1mterm\u001b[0m={ x=[7723, 50] },\n",
              "  \u001b[1mconference\u001b[0m={ num_nodes=20 },\n",
              "  \u001b[1m(author, to, paper)\u001b[0m={ edge_index=[2, 19645] },\n",
              "  \u001b[1m(paper, to, author)\u001b[0m={ edge_index=[2, 19645] },\n",
              "  \u001b[1m(paper, to, term)\u001b[0m={ edge_index=[2, 85810] },\n",
              "  \u001b[1m(paper, to, conference)\u001b[0m={ edge_index=[2, 14328] },\n",
              "  \u001b[1m(term, to, paper)\u001b[0m={ edge_index=[2, 85810] },\n",
              "  \u001b[1m(conference, to, paper)\u001b[0m={ edge_index=[2, 14328] }\n",
              ")"
            ]
          },
          "metadata": {},
          "execution_count": 9
        }
      ]
    },
    {
      "cell_type": "code",
      "source": [
        "dblp.num_edge_features"
      ],
      "metadata": {
        "colab": {
          "base_uri": "https://localhost:8080/"
        },
        "id": "rZtsPk5MoRlA",
        "outputId": "7298b41b-30e7-4fa9-e78b-552bae36a97b"
      },
      "execution_count": null,
      "outputs": [
        {
          "output_type": "execute_result",
          "data": {
            "text/plain": [
              "{('author', 'to', 'paper'): 0,\n",
              " ('paper', 'to', 'author'): 0,\n",
              " ('paper', 'to', 'term'): 0,\n",
              " ('paper', 'to', 'conference'): 0,\n",
              " ('term', 'to', 'paper'): 0,\n",
              " ('conference', 'to', 'paper'): 0}"
            ]
          },
          "metadata": {},
          "execution_count": 10
        }
      ]
    },
    {
      "cell_type": "code",
      "source": [
        "dblp.num_features"
      ],
      "metadata": {
        "colab": {
          "base_uri": "https://localhost:8080/"
        },
        "id": "Q_P4uvZroX7-",
        "outputId": "69869cc9-8702-4b46-df5e-0c786f52e3b1"
      },
      "execution_count": null,
      "outputs": [
        {
          "output_type": "execute_result",
          "data": {
            "text/plain": [
              "{'author': 334, 'paper': 4231, 'term': 50, 'conference': 0}"
            ]
          },
          "metadata": {},
          "execution_count": 12
        }
      ]
    },
    {
      "cell_type": "code",
      "source": [
        "dblp.data['author']"
      ],
      "metadata": {
        "colab": {
          "base_uri": "https://localhost:8080/"
        },
        "id": "E5M0Em8qAlzn",
        "outputId": "9038f421-d8ba-4484-9bac-2cb281738bfd"
      },
      "execution_count": null,
      "outputs": [
        {
          "output_type": "execute_result",
          "data": {
            "text/plain": [
              "{'x': tensor([[0., 0., 1.,  ..., 0., 0., 0.],\n",
              "        [0., 0., 0.,  ..., 0., 0., 0.],\n",
              "        [0., 0., 0.,  ..., 0., 0., 0.],\n",
              "        ...,\n",
              "        [0., 0., 0.,  ..., 0., 0., 0.],\n",
              "        [0., 0., 0.,  ..., 0., 0., 0.],\n",
              "        [0., 0., 0.,  ..., 0., 0., 0.]]), 'y': tensor([2, 2, 3,  ..., 0, 0, 0]), 'train_mask': tensor([False, False, False,  ..., False, False, False]), 'val_mask': tensor([False, False,  True,  ..., False, False, False]), 'test_mask': tensor([ True,  True, False,  ...,  True,  True,  True])}"
            ]
          },
          "metadata": {},
          "execution_count": 13
        }
      ]
    },
    {
      "cell_type": "code",
      "source": [
        "dblp.data['paper']"
      ],
      "metadata": {
        "colab": {
          "base_uri": "https://localhost:8080/"
        },
        "id": "5rxesw-2uK_E",
        "outputId": "2b2b26a1-e0d5-498e-e02b-702ffe73b40e"
      },
      "execution_count": null,
      "outputs": [
        {
          "output_type": "execute_result",
          "data": {
            "text/plain": [
              "{'x': tensor([[0., 0., 0.,  ..., 0., 0., 0.],\n",
              "        [0., 0., 0.,  ..., 0., 0., 0.],\n",
              "        [0., 0., 0.,  ..., 0., 0., 0.],\n",
              "        ...,\n",
              "        [0., 0., 0.,  ..., 0., 0., 0.],\n",
              "        [0., 0., 0.,  ..., 0., 0., 0.],\n",
              "        [0., 0., 0.,  ..., 0., 0., 0.]])}"
            ]
          },
          "metadata": {},
          "execution_count": 28
        }
      ]
    },
    {
      "cell_type": "code",
      "source": [
        "set(dblp.data['author'][\"y\"].numpy())"
      ],
      "metadata": {
        "colab": {
          "base_uri": "https://localhost:8080/"
        },
        "id": "IblNsyoKBj_c",
        "outputId": "708802f9-9965-4424-95f4-3844b6cb4dbf"
      },
      "execution_count": null,
      "outputs": [
        {
          "output_type": "execute_result",
          "data": {
            "text/plain": [
              "{0, 1, 2, 3}"
            ]
          },
          "metadata": {},
          "execution_count": 28
        }
      ]
    },
    {
      "cell_type": "code",
      "source": [
        "(sum(dblp.data['author'][\"train_mask\"].numpy()), sum(dblp.data['author'][\"test_mask\"].numpy()), sum(dblp.data['author'][\"val_mask\"].numpy()))"
      ],
      "metadata": {
        "colab": {
          "base_uri": "https://localhost:8080/"
        },
        "id": "EsJtX_yYpH_A",
        "outputId": "c23f19c0-cc6f-46db-b0c8-e14a0f309a56"
      },
      "execution_count": null,
      "outputs": [
        {
          "output_type": "execute_result",
          "data": {
            "text/plain": [
              "(400, 3257, 400)"
            ]
          },
          "metadata": {},
          "execution_count": 149
        }
      ]
    },
    {
      "cell_type": "code",
      "source": [
        "dblp.num_features"
      ],
      "metadata": {
        "colab": {
          "base_uri": "https://localhost:8080/"
        },
        "id": "ESSUjeGJF68M",
        "outputId": "6b5c381f-346e-42f0-d1bc-b7eca03d3437"
      },
      "execution_count": null,
      "outputs": [
        {
          "output_type": "execute_result",
          "data": {
            "text/plain": [
              "{'author': 334, 'paper': 4231, 'term': 50, 'conference': 0, 'y': 0}"
            ]
          },
          "metadata": {},
          "execution_count": 29
        }
      ]
    },
    {
      "cell_type": "code",
      "source": [
        "dblp.data['author'].num_features"
      ],
      "metadata": {
        "colab": {
          "base_uri": "https://localhost:8080/"
        },
        "id": "cf50N_zgGbFp",
        "outputId": "4a83dce5-d469-4b54-ccd5-0f6501d9dea7"
      },
      "execution_count": null,
      "outputs": [
        {
          "output_type": "execute_result",
          "data": {
            "text/plain": [
              "334"
            ]
          },
          "metadata": {},
          "execution_count": 35
        }
      ]
    },
    {
      "cell_type": "markdown",
      "source": [
        "### Create Needed Features"
      ],
      "metadata": {
        "id": "q6v2N9gN1svu"
      }
    },
    {
      "cell_type": "code",
      "source": [
        "author_x = dblp.data[\"author\"].x"
      ],
      "metadata": {
        "id": "uv4vKmyfGAoc"
      },
      "execution_count": null,
      "outputs": []
    },
    {
      "cell_type": "code",
      "source": [
        "pta_edges = dblp[0].edge_index_dict[('paper','to','author')]\n",
        "paper_auther_data = pd.DataFrame(pta_edges.numpy().T, columns=[\"paper\", \"author\"])"
      ],
      "metadata": {
        "id": "HRm92A8UyUS0"
      },
      "execution_count": null,
      "outputs": []
    },
    {
      "cell_type": "code",
      "source": [
        "author_edges = []\n",
        "for authors in paper_auther_data.groupby(\"paper\")[\"author\"].apply(np.array):\n",
        "  for author1 in authors:\n",
        "    for author2 in authors:\n",
        "      if author1==author2:continue\n",
        "      author_edges.append([author1, author2])\n",
        "\n",
        "author_edges = torch.Tensor(np.array(author_edges).T).to(torch.long)"
      ],
      "metadata": {
        "id": "NtMV024ry_79"
      },
      "execution_count": null,
      "outputs": []
    },
    {
      "cell_type": "markdown",
      "source": [
        "## Dataset PubMed"
      ],
      "metadata": {
        "id": "VIbw3edf8SFR"
      }
    },
    {
      "cell_type": "code",
      "source": [
        "from torch_geometric.datasets.planetoid import Planetoid"
      ],
      "metadata": {
        "id": "055dYQgS5pkg"
      },
      "execution_count": 5,
      "outputs": []
    },
    {
      "cell_type": "code",
      "source": [
        "planetoid = Planetoid(\"/content/planetoid\", name=\"PubMed\")"
      ],
      "metadata": {
        "id": "OSBf7H6K6V2K"
      },
      "execution_count": 6,
      "outputs": []
    },
    {
      "cell_type": "code",
      "source": [
        "dataset = planetoid[0]"
      ],
      "metadata": {
        "id": "s1zhgkCs6nCg"
      },
      "execution_count": 26,
      "outputs": []
    },
    {
      "cell_type": "code",
      "source": [
        "dataset"
      ],
      "metadata": {
        "colab": {
          "base_uri": "https://localhost:8080/"
        },
        "id": "sa-MnxuZ88ge",
        "outputId": "3b7f0826-95a5-4d6a-d0fb-3b2436df7d47"
      },
      "execution_count": null,
      "outputs": [
        {
          "output_type": "execute_result",
          "data": {
            "text/plain": [
              "Data(x=[19717, 500], edge_index=[2, 88648], y=[19717], train_mask=[19717], val_mask=[19717], test_mask=[19717])"
            ]
          },
          "metadata": {},
          "execution_count": 58
        }
      ]
    },
    {
      "cell_type": "code",
      "source": [
        "set(dataset[\"y\"].numpy())"
      ],
      "metadata": {
        "colab": {
          "base_uri": "https://localhost:8080/"
        },
        "id": "d1RBCVns8-Mf",
        "outputId": "86460d7d-ddee-4fbb-8943-601a775c0320"
      },
      "execution_count": null,
      "outputs": [
        {
          "output_type": "execute_result",
          "data": {
            "text/plain": [
              "{0, 1, 2}"
            ]
          },
          "metadata": {},
          "execution_count": 51
        }
      ]
    },
    {
      "cell_type": "code",
      "source": [
        "dataset.num_features"
      ],
      "metadata": {
        "colab": {
          "base_uri": "https://localhost:8080/"
        },
        "id": "rBHayla99Kb2",
        "outputId": "bfe79f06-4d48-4594-cd10-df064bb0191b"
      },
      "execution_count": null,
      "outputs": [
        {
          "output_type": "execute_result",
          "data": {
            "text/plain": [
              "500"
            ]
          },
          "metadata": {},
          "execution_count": 59
        }
      ]
    },
    {
      "cell_type": "code",
      "source": [
        "dataset.num_edge_features"
      ],
      "metadata": {
        "colab": {
          "base_uri": "https://localhost:8080/"
        },
        "id": "ihLESSeT9NO1",
        "outputId": "0cd08720-0683-47eb-beb1-5f7c735a47d2"
      },
      "execution_count": null,
      "outputs": [
        {
          "output_type": "execute_result",
          "data": {
            "text/plain": [
              "0"
            ]
          },
          "metadata": {},
          "execution_count": 60
        }
      ]
    },
    {
      "cell_type": "code",
      "source": [
        "dataset.edge_index"
      ],
      "metadata": {
        "colab": {
          "base_uri": "https://localhost:8080/"
        },
        "id": "Az8Fif_f9cb1",
        "outputId": "02daa7ec-c2dd-48b9-957f-7aa7cf0a9be4"
      },
      "execution_count": null,
      "outputs": [
        {
          "output_type": "execute_result",
          "data": {
            "text/plain": [
              "tensor([[    0,     0,     0,  ..., 19714, 19715, 19716],\n",
              "        [ 1378,  1544,  6092,  ..., 12278,  4284, 16030]])"
            ]
          },
          "metadata": {},
          "execution_count": 61
        }
      ]
    },
    {
      "cell_type": "markdown",
      "source": [
        "# Train and Test"
      ],
      "metadata": {
        "id": "2WeABDYaBXPw"
      }
    },
    {
      "cell_type": "code",
      "source": [
        "def train(model):\n",
        "  optimizer = torch.optim.Adam(model.parameters(), lr=0.01)\n",
        "\n",
        "  for epoch in range(200):\n",
        "      pred = model(dataset.x, dataset.edge_index)\n",
        "      loss = F.cross_entropy(pred[dataset.train_mask], dataset.y[dataset.train_mask])\n",
        "\n",
        "      # Backpropagation\n",
        "      optimizer.zero_grad()\n",
        "      loss.backward()\n",
        "      optimizer.step()"
      ],
      "metadata": {
        "id": "KWPFjPzHAoQe"
      },
      "execution_count": 9,
      "outputs": []
    },
    {
      "cell_type": "code",
      "source": [
        "def test(model):\n",
        "  with torch.no_grad():\n",
        "    pred = model(dataset.x, dataset.edge_index).argmax(dim=-1)\n",
        "\n",
        "  accs = []\n",
        "  for mask in [dataset.train_mask, dataset.val_mask, dataset.test_mask]:\n",
        "      accs.append(int((pred[mask] == dataset.y[mask]).sum()) / int(mask.sum()))\n",
        "\n",
        "  print(f\"Train Accuracy = {accs[0]}\")\n",
        "  print(f\"Valid Accuracy = {accs[1]}\")\n",
        "  print(f\"Test  Accuracy = {accs[2]}\")"
      ],
      "metadata": {
        "id": "uPOwvB0nGLKs"
      },
      "execution_count": 10,
      "outputs": []
    },
    {
      "cell_type": "markdown",
      "source": [
        "# Models"
      ],
      "metadata": {
        "id": "WTNjv_bmBtOX"
      }
    },
    {
      "cell_type": "markdown",
      "source": [
        "## GCN"
      ],
      "metadata": {
        "id": "_OwTbqoiFmc6"
      }
    },
    {
      "cell_type": "code",
      "source": [
        "# Source: https://github.com/pyg-team/pytorch_geometric/blob/master/examples/gcn.py\n",
        "from torch_geometric.nn import GCNConv\n",
        "\n",
        "dataset = dblp\n",
        "\n",
        "class GCN(torch.nn.Module):\n",
        "    def __init__(self, dimentions, number_gcn, number_fc):\n",
        "        super().__init__()\n",
        "        assert(len(dimentions) == number_gcn+number_fc+1)\n",
        "        self.number_gcn = number_gcn\n",
        "        self.number_fc = number_fc\n",
        "        self.layers_gcn = []\n",
        "        self.layers_fc = []\n",
        "\n",
        "        for in_dim, out_dim in zip(dimentions[:number_gcn],\n",
        "                                   dimentions[1:number_gcn+1]):\n",
        "          \n",
        "          self.layers_gcn.append(GCNConv(in_dim, out_dim))\n",
        "          \n",
        "        self.layers_gcn = torch.nn.ModuleList(self.layers_gcn)\n",
        "        \n",
        "        for in_dim, out_dim in zip(dimentions[number_gcn:],\n",
        "                                   dimentions[number_gcn+1:]):\n",
        "          \n",
        "          self.layers_fc.append(Linear(in_dim, out_dim))\n",
        "        \n",
        "        self.layers_fc = torch.nn.ModuleList(self.layers_fc)\n",
        "        \n",
        "\n",
        "    def forward(self, x: Tensor, edge_index: Tensor) -> Tensor:\n",
        "        for i in range(self.number_gcn):\n",
        "          x = self.layers_gcn[i](x, edge_index).relu()\n",
        "\n",
        "        for i in range(self.number_fc):\n",
        "          x = self.layers_fc[i](x).sigmoid()\n",
        "\n",
        "        return x"
      ],
      "metadata": {
        "id": "lxDlbNCOFpr7"
      },
      "execution_count": null,
      "outputs": []
    },
    {
      "cell_type": "code",
      "source": [],
      "metadata": {
        "id": "i9j-ARDt9FUH"
      },
      "execution_count": null,
      "outputs": []
    },
    {
      "cell_type": "markdown",
      "source": [
        "## GAT"
      ],
      "metadata": {
        "id": "I8MLzopqYfPt"
      }
    },
    {
      "cell_type": "code",
      "source": [
        "# Source: https://github.com/pyg-team/pytorch_geometric/blob/master/examples/gat.py\n",
        "\n",
        "from torch_geometric.nn import GATConv\n",
        "\n",
        "class GAT(torch.nn.Module):\n",
        "    def __init__(self, in_channels, hidden_channels, out_channels, heads):\n",
        "        super().__init__()\n",
        "        self.conv1 = GATConv(in_channels, hidden_channels, heads, dropout=0.6)\n",
        "        self.conv2 = GATConv(hidden_channels * heads, out_channels, heads=1,\n",
        "                             concat=False, dropout=0.6)\n",
        "\n",
        "    def forward(self, x, edge_index):\n",
        "        x = F.dropout(x, p=0.6, training=self.training)\n",
        "        x = F.elu(self.conv1(x, edge_index))\n",
        "        x = F.dropout(x, p=0.6, training=self.training)\n",
        "        x = self.conv2(x, edge_index)\n",
        "        return x"
      ],
      "metadata": {
        "id": "0kn27p1KYgYU"
      },
      "execution_count": null,
      "outputs": []
    },
    {
      "cell_type": "code",
      "source": [
        "model = GAT(334, 32, 4, 6)"
      ],
      "metadata": {
        "id": "fyWTPwTqahlb"
      },
      "execution_count": null,
      "outputs": []
    },
    {
      "cell_type": "code",
      "source": [
        "model"
      ],
      "metadata": {
        "colab": {
          "base_uri": "https://localhost:8080/"
        },
        "id": "FqyOR9oEbSZb",
        "outputId": "c58520dd-c691-4368-f248-389132ef5bca"
      },
      "execution_count": null,
      "outputs": [
        {
          "output_type": "execute_result",
          "data": {
            "text/plain": [
              "GAT(\n",
              "  (conv1): GATConv(334, 32, heads=6)\n",
              "  (conv2): GATConv(192, 4, heads=1)\n",
              ")"
            ]
          },
          "metadata": {},
          "execution_count": 152
        }
      ]
    },
    {
      "cell_type": "markdown",
      "source": [
        "## GAT Dynamic Weight"
      ],
      "metadata": {
        "id": "Q0BcGs8LCyET"
      }
    },
    {
      "cell_type": "code",
      "source": [],
      "metadata": {
        "id": "xLpI0IZAYPOB"
      },
      "execution_count": 9,
      "outputs": []
    },
    {
      "cell_type": "code",
      "source": [
        "# Source: https://github.com/pyg-team/pytorch_geometric/blob/master/torch_geometric/nn/conv/gat_conv.py\n",
        "\n",
        "from typing import Optional, Tuple, Union\n",
        "\n",
        "import torch\n",
        "import torch.nn.functional as F\n",
        "from torch import Tensor\n",
        "from torch.nn import Parameter\n",
        "\n",
        "from torch_geometric.nn.conv import MessagePassing\n",
        "from torch_geometric.nn.dense.linear import Linear\n",
        "from torch_geometric.typing import NoneType  # noqa\n",
        "from torch_geometric.typing import (\n",
        "    Adj,\n",
        "    OptPairTensor,\n",
        "    OptTensor,\n",
        "    Size,\n",
        "    SparseTensor,\n",
        ")\n",
        "\n",
        "import torch_sparse\n",
        "\n",
        "from torch_geometric.utils import add_self_loops, remove_self_loops, softmax\n",
        "\n",
        "from torch_geometric.nn.inits import glorot, zeros\n",
        "\n",
        "class GATConvDynamicWeights(MessagePassing):\n",
        "    r\"\"\"The graph attentional operator from the `\"Graph Attention Networks\"\n",
        "    <https://arxiv.org/abs/1710.10903>`_ paper\n",
        "\n",
        "    .. math::\n",
        "        \\mathbf{x}^{\\prime}_i = \\alpha_{i,i}\\mathbf{\\Theta}\\mathbf{x}_{i} +\n",
        "        \\sum_{j \\in \\mathcal{N}(i)} \\alpha_{i,j}\\mathbf{\\Theta}\\mathbf{x}_{j},\n",
        "\n",
        "    where the attention coefficients :math:`\\alpha_{i,j}` are computed as\n",
        "\n",
        "    .. math::\n",
        "        \\alpha_{i,j} =\n",
        "        \\frac{\n",
        "        \\exp\\left(\\mathrm{LeakyReLU}\\left(\\mathbf{a}^{\\top}\n",
        "        [\\mathbf{\\Theta}\\mathbf{x}_i \\, \\Vert \\, \\mathbf{\\Theta}\\mathbf{x}_j]\n",
        "        \\right)\\right)}\n",
        "        {\\sum_{k \\in \\mathcal{N}(i) \\cup \\{ i \\}}\n",
        "        \\exp\\left(\\mathrm{LeakyReLU}\\left(\\mathbf{a}^{\\top}\n",
        "        [\\mathbf{\\Theta}\\mathbf{x}_i \\, \\Vert \\, \\mathbf{\\Theta}\\mathbf{x}_k]\n",
        "        \\right)\\right)}.\n",
        "\n",
        "    If the graph has multi-dimensional edge features :math:`\\mathbf{e}_{i,j}`,\n",
        "    the attention coefficients :math:`\\alpha_{i,j}` are computed as\n",
        "\n",
        "    .. math::\n",
        "        \\alpha_{i,j} =\n",
        "        \\frac{\n",
        "        \\exp\\left(\\mathrm{LeakyReLU}\\left(\\mathbf{a}^{\\top}\n",
        "        [\\mathbf{\\Theta}\\mathbf{x}_i \\, \\Vert \\, \\mathbf{\\Theta}\\mathbf{x}_j\n",
        "        \\, \\Vert \\, \\mathbf{\\Theta}_{e} \\mathbf{e}_{i,j}]\\right)\\right)}\n",
        "        {\\sum_{k \\in \\mathcal{N}(i) \\cup \\{ i \\}}\n",
        "        \\exp\\left(\\mathrm{LeakyReLU}\\left(\\mathbf{a}^{\\top}\n",
        "        [\\mathbf{\\Theta}\\mathbf{x}_i \\, \\Vert \\, \\mathbf{\\Theta}\\mathbf{x}_k\n",
        "        \\, \\Vert \\, \\mathbf{\\Theta}_{e} \\mathbf{e}_{i,k}]\\right)\\right)}.\n",
        "\n",
        "    Args:\n",
        "        in_channels (int or tuple): Size of each input sample, or :obj:`-1` to\n",
        "            derive the size from the first input(s) to the forward method.\n",
        "            A tuple corresponds to the sizes of source and target\n",
        "            dimensionalities.\n",
        "        out_channels (int): Size of each output sample.\n",
        "        heads (int, optional): Number of multi-head-attentions.\n",
        "            (default: :obj:`1`)\n",
        "        concat (bool, optional): <REMOVED> If set to :obj:`False`, the multi-head\n",
        "            attentions are averaged instead of concatenated.\n",
        "            (default: :obj:`True`)\n",
        "        negative_slope (float, optional): LeakyReLU angle of the negative\n",
        "            slope. (default: :obj:`0.2`)\n",
        "        dropout (float, optional): Dropout probability of the normalized\n",
        "            attention coefficients which exposes each node to a stochastically\n",
        "            sampled neighborhood during training. (default: :obj:`0`)\n",
        "        add_self_loops (bool, optional): If set to :obj:`False`, will not add\n",
        "            self-loops to the input graph. (default: :obj:`True`)\n",
        "        edge_dim (int, optional): Edge feature dimensionality (in case\n",
        "            there are any). (default: :obj:`None`)\n",
        "        fill_value (float or Tensor or str, optional): The way to generate\n",
        "            edge features of self-loops (in case :obj:`edge_dim != None`).\n",
        "            If given as :obj:`float` or :class:`torch.Tensor`, edge features of\n",
        "            self-loops will be directly given by :obj:`fill_value`.\n",
        "            If given as :obj:`str`, edge features of self-loops are computed by\n",
        "            aggregating all features of edges that point to the specific node,\n",
        "            according to a reduce operation. (:obj:`\"add\"`, :obj:`\"mean\"`,\n",
        "            :obj:`\"min\"`, :obj:`\"max\"`, :obj:`\"mul\"`). (default: :obj:`\"mean\"`)\n",
        "        bias (bool, optional): If set to :obj:`False`, the layer will not learn\n",
        "            an additive bias. (default: :obj:`True`)\n",
        "        **kwargs (optional): Additional arguments of\n",
        "            :class:`torch_geometric.nn.conv.MessagePassing`.\n",
        "\n",
        "    Shapes:\n",
        "        - **input:**\n",
        "          node features :math:`(|\\mathcal{V}|, F_{in})` or\n",
        "          :math:`((|\\mathcal{V_s}|, F_{s}), (|\\mathcal{V_t}|, F_{t}))`\n",
        "          if bipartite,\n",
        "          edge indices :math:`(2, |\\mathcal{E}|)`,\n",
        "          edge features :math:`(|\\mathcal{E}|, D)` *(optional)*\n",
        "        - **output:** node features :math:`(|\\mathcal{V}|, H * F_{out})` or\n",
        "          :math:`((|\\mathcal{V}_t|, H * F_{out})` if bipartite.\n",
        "          If :obj:`return_attention_weights=True`, then\n",
        "          :math:`((|\\mathcal{V}|, H * F_{out}),\n",
        "          ((2, |\\mathcal{E}|), (|\\mathcal{E}|, H)))`\n",
        "          or :math:`((|\\mathcal{V_t}|, H * F_{out}), ((2, |\\mathcal{E}|),\n",
        "          (|\\mathcal{E}|, H)))` if bipartite\n",
        "    \"\"\"\n",
        "    def __init__(\n",
        "        self,\n",
        "        in_channels: Union[int, Tuple[int, int]],\n",
        "        out_channels: int,\n",
        "        heads: int = 1,\n",
        "        negative_slope: float = 0.2,\n",
        "        dropout: float = 0.0,\n",
        "        add_self_loops: bool = True,\n",
        "        edge_dim: Optional[int] = None,\n",
        "        fill_value: Union[float, Tensor, str] = 'mean',\n",
        "        bias: bool = True,\n",
        "        **kwargs,\n",
        "    ):\n",
        "        kwargs.setdefault('aggr', 'add')\n",
        "        super().__init__(node_dim=0, **kwargs)\n",
        "\n",
        "        self.in_channels = in_channels\n",
        "        self.out_channels = out_channels\n",
        "        self.heads = heads\n",
        "        # Changed Code:\n",
        "        concat = False\n",
        "        self.concat = concat\n",
        "        \n",
        "        self.negative_slope = negative_slope\n",
        "        self.dropout = dropout\n",
        "        self.add_self_loops = add_self_loops\n",
        "        self.edge_dim = edge_dim\n",
        "        self.fill_value = fill_value\n",
        "\n",
        "        # In case we are operating in bipartite graphs, we apply separate\n",
        "        # transformations 'lin_src' and 'lin_dst' to source and target nodes:\n",
        "        if isinstance(in_channels, int):\n",
        "            self.lin_src = Linear(in_channels, heads * out_channels,\n",
        "                                  bias=False, weight_initializer='glorot')\n",
        "            self.lin_dst = self.lin_src\n",
        "        else:\n",
        "            self.lin_src = Linear(in_channels[0], heads * out_channels, False,\n",
        "                                  weight_initializer='glorot')\n",
        "            self.lin_dst = Linear(in_channels[1], heads * out_channels, False,\n",
        "                                  weight_initializer='glorot')\n",
        "\n",
        "        # The learnable parameters to compute attention coefficients:\n",
        "        self.att_src = Parameter(torch.Tensor(1, heads, out_channels))\n",
        "        self.att_dst = Parameter(torch.Tensor(1, heads, out_channels))\n",
        "\n",
        "        # Changed Code:\n",
        "        self.learnable_average_layer = torch.nn.Conv1d(in_channels=heads,\n",
        "                                                       out_channels=1,\n",
        "                                                       kernel_size=1)\n",
        "\n",
        "\n",
        "        if edge_dim is not None:\n",
        "            self.lin_edge = Linear(edge_dim, heads * out_channels, bias=False,\n",
        "                                   weight_initializer='glorot')\n",
        "            self.att_edge = Parameter(torch.Tensor(1, heads, out_channels))\n",
        "        else:\n",
        "            self.lin_edge = None\n",
        "            self.register_parameter('att_edge', None)\n",
        "\n",
        "        if bias and concat:\n",
        "            self.bias = Parameter(torch.Tensor(heads * out_channels))\n",
        "        elif bias and not concat:\n",
        "            self.bias = Parameter(torch.Tensor(out_channels))\n",
        "        else:\n",
        "            self.register_parameter('bias', None)\n",
        "\n",
        "        self.reset_parameters()\n",
        "\n",
        "    def reset_parameters(self):\n",
        "        # super().reset_parameters()\n",
        "        self.lin_src.reset_parameters()\n",
        "        self.lin_dst.reset_parameters()\n",
        "        if self.lin_edge is not None:\n",
        "            self.lin_edge.reset_parameters()\n",
        "        glorot(self.att_src)\n",
        "        glorot(self.att_dst)\n",
        "        glorot(self.att_edge)\n",
        "        zeros(self.bias)\n",
        "\n",
        "        # Changed Code:\n",
        "        self.learnable_average_layer.reset_parameters()\n",
        "\n",
        "    def forward(self, x: Union[Tensor, OptPairTensor], edge_index: Adj,\n",
        "                edge_attr: OptTensor = None, size: Size = None,\n",
        "                return_attention_weights=None):\n",
        "        # type: (Union[Tensor, OptPairTensor], Tensor, OptTensor, Size, NoneType) -> Tensor  # noqa\n",
        "        # type: (Union[Tensor, OptPairTensor], SparseTensor, OptTensor, Size, NoneType) -> Tensor  # noqa\n",
        "        # type: (Union[Tensor, OptPairTensor], Tensor, OptTensor, Size, bool) -> Tuple[Tensor, Tuple[Tensor, Tensor]]  # noqa\n",
        "        # type: (Union[Tensor, OptPairTensor], SparseTensor, OptTensor, Size, bool) -> Tuple[Tensor, SparseTensor]  # noqa\n",
        "        r\"\"\"\n",
        "        Args:\n",
        "            return_attention_weights (bool, optional): If set to :obj:`True`,\n",
        "                will additionally return the tuple\n",
        "                :obj:`(edge_index, attention_weights)`, holding the computed\n",
        "                attention weights for each edge. (default: :obj:`None`)\n",
        "        \"\"\"\n",
        "        # NOTE: attention weights will be returned whenever\n",
        "        # `return_attention_weights` is set to a value, regardless of its\n",
        "        # actual value (might be `True` or `False`). This is a current somewhat\n",
        "        # hacky workaround to allow for TorchScript support via the\n",
        "        # `torch.jit._overload` decorator, as we can only change the output\n",
        "        # arguments conditioned on type (`None` or `bool`), not based on its\n",
        "        # actual value.\n",
        "\n",
        "        H, C = self.heads, self.out_channels\n",
        "\n",
        "        # We first transform the input node features. If a tuple is passed, we\n",
        "        # transform source and target node features via separate weights:\n",
        "        if isinstance(x, Tensor):\n",
        "            assert x.dim() == 2, \"Static graphs not supported in 'GATConv'\"\n",
        "            x_src = x_dst = self.lin_src(x).view(-1, H, C)\n",
        "        else:  # Tuple of source and target node features:\n",
        "            x_src, x_dst = x\n",
        "            assert x_src.dim() == 2, \"Static graphs not supported in 'GATConv'\"\n",
        "            x_src = self.lin_src(x_src).view(-1, H, C)\n",
        "            if x_dst is not None:\n",
        "                x_dst = self.lin_dst(x_dst).view(-1, H, C)\n",
        "\n",
        "        x = (x_src, x_dst)\n",
        "\n",
        "        # Next, we compute node-level attention coefficients, both for source\n",
        "        # and target nodes (if present):\n",
        "        alpha_src = (x_src * self.att_src).sum(dim=-1)\n",
        "        alpha_dst = None if x_dst is None else (x_dst * self.att_dst).sum(-1)\n",
        "        alpha = (alpha_src, alpha_dst)\n",
        "\n",
        "        if self.add_self_loops:\n",
        "            if isinstance(edge_index, Tensor):\n",
        "                # We only want to add self-loops for nodes that appear both as\n",
        "                # source and target nodes:\n",
        "                num_nodes = x_src.size(0)\n",
        "                if x_dst is not None:\n",
        "                    num_nodes = min(num_nodes, x_dst.size(0))\n",
        "                num_nodes = min(size) if size is not None else num_nodes\n",
        "                edge_index, edge_attr = remove_self_loops(\n",
        "                    edge_index, edge_attr)\n",
        "                edge_index, edge_attr = add_self_loops(\n",
        "                    edge_index, edge_attr, fill_value=self.fill_value,\n",
        "                    num_nodes=num_nodes)\n",
        "            elif isinstance(edge_index, SparseTensor):\n",
        "                if self.edge_dim is None:\n",
        "                    edge_index = torch_sparse.set_diag(edge_index)\n",
        "                else:\n",
        "                    raise NotImplementedError(\n",
        "                        \"The usage of 'edge_attr' and 'add_self_loops' \"\n",
        "                        \"simultaneously is currently not yet supported for \"\n",
        "                        \"'edge_index' in a 'SparseTensor' form\")\n",
        "\n",
        "        # edge_updater_type: (alpha: OptPairTensor, edge_attr: OptTensor)\n",
        "        alpha = self.edge_updater(edge_index, alpha=alpha, edge_attr=edge_attr)\n",
        "\n",
        "        # propagate_type: (x: OptPairTensor, alpha: Tensor)\n",
        "        out = self.propagate(edge_index, x=x, alpha=alpha, size=size)\n",
        "\n",
        "        # if self.concat:\n",
        "        #     out = out.view(-1, self.heads * self.out_channels)\n",
        "        # else:\n",
        "        #     out = out.mean(dim=1)\n",
        "\n",
        "        # Changed Code:\n",
        "        # Source: https://stackoverflow.com/a/58574603/8961642\n",
        "        out = self.learnable_average_layer(out)\n",
        "        out = out.squeeze()\n",
        "            \n",
        "        if self.bias is not None:\n",
        "            out = out + self.bias\n",
        "\n",
        "        if isinstance(return_attention_weights, bool):\n",
        "            if isinstance(edge_index, Tensor):\n",
        "                return out, (edge_index, alpha)\n",
        "            elif isinstance(edge_index, SparseTensor):\n",
        "                return out, edge_index.set_value(alpha, layout='coo')\n",
        "        else:\n",
        "            return out\n",
        "\n",
        "    def edge_update(self, alpha_j: Tensor, alpha_i: OptTensor,\n",
        "                    edge_attr: OptTensor, index: Tensor, ptr: OptTensor,\n",
        "                    size_i: Optional[int]) -> Tensor:\n",
        "        # Given edge-level attention coefficients for source and target nodes,\n",
        "        # we simply need to sum them up to \"emulate\" concatenation:\n",
        "        alpha = alpha_j if alpha_i is None else alpha_j + alpha_i\n",
        "\n",
        "        if edge_attr is not None and self.lin_edge is not None:\n",
        "            if edge_attr.dim() == 1:\n",
        "                edge_attr = edge_attr.view(-1, 1)\n",
        "            edge_attr = self.lin_edge(edge_attr)\n",
        "            edge_attr = edge_attr.view(-1, self.heads, self.out_channels)\n",
        "            alpha_edge = (edge_attr * self.att_edge).sum(dim=-1)\n",
        "            alpha = alpha + alpha_edge\n",
        "\n",
        "        alpha = F.leaky_relu(alpha, self.negative_slope)\n",
        "        alpha = softmax(alpha, index, ptr, size_i)\n",
        "        alpha = F.dropout(alpha, p=self.dropout, training=self.training)\n",
        "        return alpha\n",
        "\n",
        "    def message(self, x_j: Tensor, alpha: Tensor) -> Tensor:\n",
        "        return alpha.unsqueeze(-1) * x_j\n",
        "\n",
        "    def __repr__(self) -> str:\n",
        "        return (f'{self.__class__.__name__}({self.in_channels}, '\n",
        "                f'{self.out_channels}, heads={self.heads})')"
      ],
      "metadata": {
        "id": "UFhM3UA6V0rP"
      },
      "execution_count": 32,
      "outputs": []
    },
    {
      "cell_type": "code",
      "source": [
        "class GATDynamicWeights(torch.nn.Module):\n",
        "    def __init__(self, in_channels, out_channels, heads):\n",
        "        super().__init__()\n",
        "        self.conv1 = GATConvDynamicWeights(in_channels, out_channels, heads, dropout=0.6)\n",
        "\n",
        "    def forward(self, x, edge_index):\n",
        "        print(x.shape)\n",
        "        x = self.conv1(x, edge_index)\n",
        "        print(x.shape)\n",
        "        return x"
      ],
      "metadata": {
        "id": "AunaP7sCT40q"
      },
      "execution_count": 33,
      "outputs": []
    },
    {
      "cell_type": "code",
      "source": [
        "model = GATDynamicWeights(500, 3, 10)"
      ],
      "metadata": {
        "id": "Od2j0eOaUJPK"
      },
      "execution_count": 34,
      "outputs": []
    },
    {
      "cell_type": "code",
      "source": [
        "model(dataset.x, dataset.edge_index)"
      ],
      "metadata": {
        "colab": {
          "base_uri": "https://localhost:8080/"
        },
        "id": "9JN-Murkb0mG",
        "outputId": "98b9319d-9261-41c1-c146-a7b8a100b74e"
      },
      "execution_count": 35,
      "outputs": [
        {
          "output_type": "stream",
          "name": "stdout",
          "text": [
            "torch.Size([19717, 500])\n",
            "out shape = torch.Size([19717, 10, 3])\n",
            "out mean shape = torch.Size([19717, 3])\n",
            "torch.Size([19717, 3])\n"
          ]
        },
        {
          "output_type": "execute_result",
          "data": {
            "text/plain": [
              "tensor([[0.2906, 0.2760, 0.2798],\n",
              "        [0.2801, 0.2857, 0.2926],\n",
              "        [0.2756, 0.2721, 0.2722],\n",
              "        ...,\n",
              "        [0.2524, 0.2777, 0.3062],\n",
              "        [0.2467, 0.2907, 0.2868],\n",
              "        [0.2744, 0.2872, 0.3063]], grad_fn=<AddBackward0>)"
            ]
          },
          "metadata": {},
          "execution_count": 35
        }
      ]
    },
    {
      "cell_type": "code",
      "source": [
        "model(dataset.x, dataset.edge_index)"
      ],
      "metadata": {
        "colab": {
          "base_uri": "https://localhost:8080/"
        },
        "id": "521IraAjTlNC",
        "outputId": "fbb7975e-c91b-4d90-ab84-4e0eb596c433"
      },
      "execution_count": 27,
      "outputs": [
        {
          "output_type": "stream",
          "name": "stdout",
          "text": [
            "torch.Size([19717, 500])\n",
            "out shape = torch.Size([19717, 10, 3])\n",
            "out mean shape = torch.Size([19717, 3])\n",
            "torch.Size([19717, 3])\n"
          ]
        },
        {
          "output_type": "execute_result",
          "data": {
            "text/plain": [
              "tensor([[-0.0016,  0.0033, -0.0034],\n",
              "        [ 0.0023,  0.0005,  0.0049],\n",
              "        [ 0.0083, -0.0022, -0.0051],\n",
              "        ...,\n",
              "        [ 0.0042, -0.0038, -0.0100],\n",
              "        [ 0.0143, -0.0006, -0.0132],\n",
              "        [ 0.0004, -0.0086,  0.0080]], grad_fn=<AddBackward0>)"
            ]
          },
          "metadata": {},
          "execution_count": 27
        }
      ]
    },
    {
      "cell_type": "code",
      "source": [
        "tmp_conv"
      ],
      "metadata": {
        "id": "sCuP73iETfKj"
      },
      "execution_count": null,
      "outputs": []
    },
    {
      "cell_type": "markdown",
      "source": [
        "## GAT V2"
      ],
      "metadata": {
        "id": "9BLEvhrGcne5"
      }
    },
    {
      "cell_type": "code",
      "source": [
        "from torch_geometric.nn import GATv2Conv\n",
        "\n",
        "class GATv2(torch.nn.Module):\n",
        "    def __init__(self, in_channels, hidden_channels, out_channels, heads):\n",
        "        super().__init__()\n",
        "        self.conv1 = GATv2Conv(in_channels, hidden_channels, heads, dropout=0.6)\n",
        "        self.conv2 = GATv2Conv(hidden_channels * heads, out_channels, heads=1,\n",
        "                               concat=False, dropout=0.6)\n",
        "\n",
        "    def forward(self, x, edge_index):\n",
        "        x = F.dropout(x, p=0.6, training=self.training)\n",
        "        x = F.elu(self.conv1(x, edge_index))\n",
        "        x = F.dropout(x, p=0.6, training=self.training)\n",
        "        x = self.conv2(x, edge_index)\n",
        "        return x"
      ],
      "metadata": {
        "id": "EGy3clsbbbyy"
      },
      "execution_count": null,
      "outputs": []
    },
    {
      "cell_type": "code",
      "source": [],
      "metadata": {
        "id": "tW9cN9Eizs_P"
      },
      "execution_count": null,
      "outputs": []
    },
    {
      "cell_type": "code",
      "source": [
        "model"
      ],
      "metadata": {
        "colab": {
          "base_uri": "https://localhost:8080/"
        },
        "outputId": "cdcd596e-877d-4344-e2d6-a3bd1e8dc588",
        "id": "8moxSjuBzs_Q"
      },
      "execution_count": null,
      "outputs": [
        {
          "output_type": "execute_result",
          "data": {
            "text/plain": [
              "GATv2(\n",
              "  (conv1): GATv2Conv(334, 32, heads=6)\n",
              "  (conv2): GATv2Conv(192, 4, heads=1)\n",
              ")"
            ]
          },
          "metadata": {},
          "execution_count": 33
        }
      ]
    },
    {
      "cell_type": "markdown",
      "source": [
        "## GAT V2 Message Operation"
      ],
      "metadata": {
        "id": "cizO7OEt9_z7"
      }
    },
    {
      "cell_type": "markdown",
      "source": [
        "\\begin{equation}\n",
        "\\mathbf{x}^{\\prime}_i = \\alpha_{i,i}\\mathbf{\\Theta}\\mathbf{x}_{i} +\n",
        "\\sum_{j \\in \\mathcal{N}(i)} \\alpha_{i,j}\\mathbf{\\Theta}\\mathbf{x}_{j}\n",
        "\\end{equation}\n",
        "\n",
        "\\begin{equation}\n",
        "alpha_{i,j} =\n",
        "        \\frac{\n",
        "        \\exp\\left(\\mathbf{a}^{\\top}\\mathrm{LeakyReLU}\\left(\\mathbf{\\Theta}\n",
        "        [\\mathbf{x}_i \\, \\Vert \\, \\mathbf{x}_j]\n",
        "        \\right)\\right)}\n",
        "        {\\sum_{k \\in \\mathcal{N}(i) \\cup \\{ i \\}}\n",
        "        \\exp\\left(\\mathbf{a}^{\\top}\\mathrm{LeakyReLU}\\left(\\mathbf{\\Theta}\n",
        "        [\\mathbf{x}_i \\, \\Vert \\, \\mathbf{x}_k]\n",
        "        \\right)\\right)}.\n",
        "\\end{equation}\n",
        "\n",
        "\\begin{equation}\n",
        "\\alpha_{i,j} =\n",
        "        \\frac{\n",
        "        \\exp\\left(\\mathbf{a}^{\\top}\\mathrm{LeakyReLU}\\left(\\mathbf{\\Theta}\n",
        "        [\\mathbf{x}_i \\, \\Vert \\, \\mathbf{x}_j \\, \\Vert \\, \\mathbf{e}_{i,j}]\n",
        "        \\right)\\right)}\n",
        "        {\\sum_{k \\in \\mathcal{N}(i) \\cup \\{ i \\}}\n",
        "        \\exp\\left(\\mathbf{a}^{\\top}\\mathrm{LeakyReLU}\\left(\\mathbf{\\Theta}\n",
        "        [\\mathbf{x}_i \\, \\Vert \\, \\mathbf{x}_k \\, \\Vert \\, \\mathbf{e}_{i,k}]\n",
        "        \\right)\\right)}\n",
        "\\end{equation}"
      ],
      "metadata": {
        "id": "4TCL6s3-je_v"
      }
    },
    {
      "cell_type": "code",
      "source": [
        "# This class is based on this link\n",
        "# https://github.com/pyg-team/pytorch_geometric/blob/master/torch_geometric/nn/conv/gatv2_conv.py\n",
        "\n",
        "from typing import Optional, Tuple, Union\n",
        "\n",
        "import torch\n",
        "import torch.nn.functional as F\n",
        "from torch import Tensor\n",
        "from torch.nn import Parameter\n",
        "\n",
        "from torch_geometric.nn.conv import MessagePassing\n",
        "from torch_geometric.nn.dense.linear import Linear\n",
        "from torch_geometric.nn.inits import glorot, zeros\n",
        "from torch_geometric.typing import (\n",
        "    Adj,\n",
        "    OptTensor,\n",
        "    PairTensor,\n",
        "    SparseTensor,\n",
        ")\n",
        "import torch_sparse\n",
        "from torch_geometric.utils import add_self_loops, remove_self_loops, softmax\n",
        "\n",
        "class GATv2ConvMessageOperation(MessagePassing):\n",
        "    r\"\"\"The GATv2 operator from the `\"How Attentive are Graph Attention\n",
        "    Networks?\" <https://arxiv.org/abs/2105.14491>`_ paper, which fixes the\n",
        "    static attention problem of the standard\n",
        "    :class:`~torch_geometric.conv.GATConv` layer.\n",
        "    Since the linear layers in the standard GAT are applied right after each\n",
        "    other, the ranking of attended nodes is unconditioned on the query node.\n",
        "    In contrast, in :class:`GATv2`, every node can attend to any other node.\n",
        "    .. math::\n",
        "        \\mathbf{x}^{\\prime}_i = \\alpha_{i,i}\\mathbf{\\Theta}\\mathbf{x}_{i} +\n",
        "        \\sum_{j \\in \\mathcal{N}(i)} \\alpha_{i,j}\\mathbf{\\Theta}\\mathbf{x}_{j},\n",
        "    where the attention coefficients :math:`\\alpha_{i,j}` are computed as\n",
        "    .. math::\n",
        "        \\alpha_{i,j} =\n",
        "        \\frac{\n",
        "        \\exp\\left(\\mathbf{a}^{\\top}\\mathrm{LeakyReLU}\\left(\\mathbf{\\Theta}\n",
        "        [\\mathbf{x}_i \\, \\Vert \\, \\mathbf{x}_j]\n",
        "        \\right)\\right)}\n",
        "        {\\sum_{k \\in \\mathcal{N}(i) \\cup \\{ i \\}}\n",
        "        \\exp\\left(\\mathbf{a}^{\\top}\\mathrm{LeakyReLU}\\left(\\mathbf{\\Theta}\n",
        "        [\\mathbf{x}_i \\, \\Vert \\, \\mathbf{x}_k]\n",
        "        \\right)\\right)}.\n",
        "    If the graph has multi-dimensional edge features :math:`\\mathbf{e}_{i,j}`,\n",
        "    the attention coefficients :math:`\\alpha_{i,j}` are computed as\n",
        "    .. math::\n",
        "        \\alpha_{i,j} =\n",
        "        \\frac{\n",
        "        \\exp\\left(\\mathbf{a}^{\\top}\\mathrm{LeakyReLU}\\left(\\mathbf{\\Theta}\n",
        "        [\\mathbf{x}_i \\, \\Vert \\, \\mathbf{x}_j \\, \\Vert \\, \\mathbf{e}_{i,j}]\n",
        "        \\right)\\right)}\n",
        "        {\\sum_{k \\in \\mathcal{N}(i) \\cup \\{ i \\}}\n",
        "        \\exp\\left(\\mathbf{a}^{\\top}\\mathrm{LeakyReLU}\\left(\\mathbf{\\Theta}\n",
        "        [\\mathbf{x}_i \\, \\Vert \\, \\mathbf{x}_k \\, \\Vert \\, \\mathbf{e}_{i,k}]\n",
        "        \\right)\\right)}.\n",
        "    Args:\n",
        "        in_channels (int or tuple): Size of each input sample, or :obj:`-1` to\n",
        "            derive the size from the first input(s) to the forward method.\n",
        "            A tuple corresponds to the sizes of source and target\n",
        "            dimensionalities.\n",
        "        out_channels (int): Size of each output sample.\n",
        "        heads (int, optional): Number of multi-head-attentions.\n",
        "            (default: :obj:`1`)\n",
        "        concat (bool, optional): If set to :obj:`False`, the multi-head\n",
        "            attentions are averaged instead of concatenated.\n",
        "            (default: :obj:`True`)\n",
        "        negative_slope (float, optional): LeakyReLU angle of the negative\n",
        "            slope. (default: :obj:`0.2`)\n",
        "        dropout (float, optional): Dropout probability of the normalized\n",
        "            attention coefficients which exposes each node to a stochastically\n",
        "            sampled neighborhood during training. (default: :obj:`0`)\n",
        "        add_self_loops (bool, optional): If set to :obj:`False`, will not add\n",
        "            self-loops to the input graph. (default: :obj:`True`)\n",
        "        edge_dim (int, optional): Edge feature dimensionality (in case\n",
        "            there are any). (default: :obj:`None`)\n",
        "        fill_value (float or Tensor or str, optional): The way to generate\n",
        "            edge features of self-loops (in case :obj:`edge_dim != None`).\n",
        "            If given as :obj:`float` or :class:`torch.Tensor`, edge features of\n",
        "            self-loops will be directly given by :obj:`fill_value`.\n",
        "            If given as :obj:`str`, edge features of self-loops are computed by\n",
        "            aggregating all features of edges that point to the specific node,\n",
        "            according to a reduce operation. (:obj:`\"add\"`, :obj:`\"mean\"`,\n",
        "            :obj:`\"min\"`, :obj:`\"max\"`, :obj:`\"mul\"`). (default: :obj:`\"mean\"`)\n",
        "        bias (bool, optional): If set to :obj:`False`, the layer will not learn\n",
        "            an additive bias. (default: :obj:`True`)\n",
        "        share_weights (bool, optional): If set to :obj:`True`, the same matrix\n",
        "            will be applied to the source and the target node of every edge.\n",
        "            (default: :obj:`False`)\n",
        "        **kwargs (optional): Additional arguments of\n",
        "            :class:`torch_geometric.nn.conv.MessagePassing`.\n",
        "    Shapes:\n",
        "        - **input:**\n",
        "          node features :math:`(|\\mathcal{V}|, F_{in})` or\n",
        "          :math:`((|\\mathcal{V_s}|, F_{s}), (|\\mathcal{V_t}|, F_{t}))`\n",
        "          if bipartite,\n",
        "          edge indices :math:`(2, |\\mathcal{E}|)`,\n",
        "          edge features :math:`(|\\mathcal{E}|, D)` *(optional)*\n",
        "        - **output:** node features :math:`(|\\mathcal{V}|, H * F_{out})` or\n",
        "          :math:`((|\\mathcal{V}_t|, H * F_{out})` if bipartite.\n",
        "          If :obj:`return_attention_weights=True`, then\n",
        "          :math:`((|\\mathcal{V}|, H * F_{out}),\n",
        "          ((2, |\\mathcal{E}|), (|\\mathcal{E}|, H)))`\n",
        "          or :math:`((|\\mathcal{V_t}|, H * F_{out}), ((2, |\\mathcal{E}|),\n",
        "          (|\\mathcal{E}|, H)))` if bipartite\n",
        "    \"\"\"\n",
        "    _alpha: OptTensor\n",
        "\n",
        "    def __init__(\n",
        "        self,\n",
        "        in_channels: Union[int, Tuple[int, int]],\n",
        "        out_channels: int,\n",
        "        message_operation,\n",
        "        heads: int = 1,\n",
        "        concat: bool = True,\n",
        "        negative_slope: float = 0.2,\n",
        "        dropout: float = 0.0,\n",
        "        add_self_loops: bool = True,\n",
        "        edge_dim: Optional[int] = None,\n",
        "        fill_value: Union[float, Tensor, str] = 'mean',\n",
        "        bias: bool = True,\n",
        "        share_weights: bool = False,\n",
        "        **kwargs,\n",
        "    ):\n",
        "        super().__init__(node_dim=0, **kwargs)\n",
        "\n",
        "        self.in_channels = in_channels\n",
        "        self.out_channels = out_channels\n",
        "        self.message_operation = message_operation\n",
        "        self.heads = heads\n",
        "        self.concat = concat\n",
        "        self.negative_slope = negative_slope\n",
        "        self.dropout = dropout\n",
        "        self.add_self_loops = add_self_loops\n",
        "        self.edge_dim = edge_dim\n",
        "        self.fill_value = fill_value\n",
        "        self.share_weights = share_weights\n",
        "\n",
        "        if isinstance(in_channels, int):\n",
        "            self.lin_l = Linear(in_channels, heads * out_channels, bias=bias,\n",
        "                                weight_initializer='glorot')\n",
        "            if share_weights:\n",
        "                self.lin_r = self.lin_l\n",
        "            else:\n",
        "                self.lin_r = Linear(in_channels, heads * out_channels,\n",
        "                                    bias=bias, weight_initializer='glorot')\n",
        "        else:\n",
        "            self.lin_l = Linear(in_channels[0], heads * out_channels,\n",
        "                                bias=bias, weight_initializer='glorot')\n",
        "            if share_weights:\n",
        "                self.lin_r = self.lin_l\n",
        "            else:\n",
        "                self.lin_r = Linear(in_channels[1], heads * out_channels,\n",
        "                                    bias=bias, weight_initializer='glorot')\n",
        "\n",
        "        self.att = Parameter(torch.Tensor(1, heads, out_channels))\n",
        "\n",
        "        if edge_dim is not None:\n",
        "            self.lin_edge = Linear(edge_dim, heads * out_channels, bias=False,\n",
        "                                   weight_initializer='glorot')\n",
        "        else:\n",
        "            self.lin_edge = None\n",
        "\n",
        "        if bias and concat:\n",
        "            self.bias = Parameter(torch.Tensor(heads * out_channels))\n",
        "        elif bias and not concat:\n",
        "            self.bias = Parameter(torch.Tensor(out_channels))\n",
        "        else:\n",
        "            self.register_parameter('bias', None)\n",
        "\n",
        "        self._alpha = None\n",
        "\n",
        "        self.reset_parameters()\n",
        "\n",
        "    def reset_parameters(self):\n",
        "        self.lin_l.reset_parameters()\n",
        "        self.lin_r.reset_parameters()\n",
        "        if self.lin_edge is not None:\n",
        "            self.lin_edge.reset_parameters()\n",
        "        glorot(self.att)\n",
        "        zeros(self.bias)\n",
        "\n",
        "    def forward(self, x: Union[Tensor, PairTensor], edge_index: Adj,\n",
        "                edge_attr: OptTensor = None,\n",
        "                return_attention_weights: bool = None):\n",
        "        # type: (Union[Tensor, PairTensor], Tensor, OptTensor, NoneType) -> Tensor  # noqa\n",
        "        # type: (Union[Tensor, PairTensor], SparseTensor, OptTensor, NoneType) -> Tensor  # noqa\n",
        "        # type: (Union[Tensor, PairTensor], Tensor, OptTensor, bool) -> Tuple[Tensor, Tuple[Tensor, Tensor]]  # noqa\n",
        "        # type: (Union[Tensor, PairTensor], SparseTensor, OptTensor, bool) -> Tuple[Tensor, SparseTensor]  # noqa\n",
        "        r\"\"\"\n",
        "        Args:\n",
        "            return_attention_weights (bool, optional): If set to :obj:`True`,\n",
        "                will additionally return the tuple\n",
        "                :obj:`(edge_index, attention_weights)`, holding the computed\n",
        "                attention weights for each edge. (default: :obj:`None`)\n",
        "        \"\"\"\n",
        "        H, C = self.heads, self.out_channels\n",
        "\n",
        "        x_l: OptTensor = None\n",
        "        x_r: OptTensor = None\n",
        "        if isinstance(x, Tensor):\n",
        "            assert x.dim() == 2\n",
        "            x_l = self.lin_l(x).view(-1, H, C)\n",
        "            if self.share_weights:\n",
        "                x_r = x_l\n",
        "            else:\n",
        "                x_r = self.lin_r(x).view(-1, H, C)\n",
        "        else:\n",
        "            x_l, x_r = x[0], x[1]\n",
        "            assert x[0].dim() == 2\n",
        "            x_l = self.lin_l(x_l).view(-1, H, C)\n",
        "            if x_r is not None:\n",
        "                x_r = self.lin_r(x_r).view(-1, H, C)\n",
        "\n",
        "        assert x_l is not None\n",
        "        assert x_r is not None\n",
        "\n",
        "        if self.add_self_loops:\n",
        "            if isinstance(edge_index, Tensor):\n",
        "                num_nodes = x_l.size(0)\n",
        "                if x_r is not None:\n",
        "                    num_nodes = min(num_nodes, x_r.size(0))\n",
        "                edge_index, edge_attr = remove_self_loops(\n",
        "                    edge_index, edge_attr)\n",
        "                edge_index, edge_attr = add_self_loops(\n",
        "                    edge_index, edge_attr, fill_value=self.fill_value,\n",
        "                    num_nodes=num_nodes)\n",
        "            elif isinstance(edge_index, SparseTensor):\n",
        "                if self.edge_dim is None:\n",
        "                    edge_index = torch_sparse.set_diag(edge_index)\n",
        "                else:\n",
        "                    raise NotImplementedError(\n",
        "                        \"The usage of 'edge_attr' and 'add_self_loops' \"\n",
        "                        \"simultaneously is currently not yet supported for \"\n",
        "                        \"'edge_index' in a 'SparseTensor' form\")\n",
        "\n",
        "        # propagate_type: (x: PairTensor, edge_attr: OptTensor)\n",
        "        out = self.propagate(edge_index, x=(x_l, x_r), edge_attr=edge_attr,\n",
        "                             size=None)\n",
        "\n",
        "        alpha = self._alpha\n",
        "        self._alpha = None\n",
        "\n",
        "        if self.concat:\n",
        "            out = out.view(-1, self.heads * self.out_channels)\n",
        "        else:\n",
        "            out = out.mean(dim=1)\n",
        "\n",
        "        if self.bias is not None:\n",
        "            out = out + self.bias\n",
        "\n",
        "        if isinstance(return_attention_weights, bool):\n",
        "            assert alpha is not None\n",
        "            if isinstance(edge_index, Tensor):\n",
        "                return out, (edge_index, alpha)\n",
        "            elif isinstance(edge_index, SparseTensor):\n",
        "                return out, edge_index.set_value(alpha, layout='coo')\n",
        "        else:\n",
        "            return out\n",
        "\n",
        "    def message(self, x_j: Tensor, x_i: Tensor, edge_attr: OptTensor,\n",
        "                index: Tensor, ptr: OptTensor,\n",
        "                size_i: Optional[int]) -> Tensor:\n",
        "        \n",
        "        ### Old Code:\n",
        "        #\n",
        "        # x = x_i + x_j\n",
        "        x = self.message_operation(x_i, x_j)\n",
        "\n",
        "        if edge_attr is not None:\n",
        "            raise NotImplementedError\n",
        "            ### Old Code:\n",
        "            #\n",
        "            # if edge_attr.dim() == 1:\n",
        "            #     edge_attr = edge_attr.view(-1, 1)\n",
        "            # assert self.lin_edge is not None\n",
        "            # edge_attr = self.lin_edge(edge_attr)\n",
        "            # edge_attr = edge_attr.view(-1, self.heads, self.out_channels)\n",
        "            # x = x + edge_attr\n",
        "\n",
        "        x = F.leaky_relu(x, self.negative_slope)\n",
        "        alpha = (x * self.att).sum(dim=-1)\n",
        "        alpha = softmax(alpha, index, ptr, size_i)\n",
        "        self._alpha = alpha\n",
        "        alpha = F.dropout(alpha, p=self.dropout, training=self.training)\n",
        "        return x_j * alpha.unsqueeze(-1)\n",
        "\n",
        "    def __repr__(self) -> str:\n",
        "        return (f'{self.__class__.__name__}({self.in_channels}, '\n",
        "                f'{self.out_channels}, heads={self.heads})')"
      ],
      "metadata": {
        "id": "LZhiMKViz6Dl"
      },
      "execution_count": null,
      "outputs": []
    },
    {
      "cell_type": "code",
      "source": [
        "torch.minimum, torch.maximum, torch.mul "
      ],
      "metadata": {
        "id": "eDOoA31B0a27"
      },
      "execution_count": null,
      "outputs": []
    },
    {
      "cell_type": "code",
      "source": [
        "class GATv2Editted(torch.nn.Module):\n",
        "    def __init__(self, in_channels, hidden_channels, out_channels, heads, message_operation):\n",
        "        super().__init__()\n",
        "        self.conv1 = GATv2ConvEditted(in_channels, hidden_channels,\n",
        "                                      message_operation=message_operation,\n",
        "                                      heads=heads, dropout=0.6)\n",
        "        \n",
        "        self.conv2 = GATv2ConvEditted(hidden_channels * heads, out_channels,\n",
        "                                      message_operation=message_operation,\n",
        "                                      heads=1, concat=False, dropout=0.6)\n",
        "\n",
        "    def forward(self, x, edge_index):\n",
        "        x = F.dropout(x, p=0.6, training=self.training)\n",
        "        x = F.elu(self.conv1(x, edge_index))\n",
        "        x = F.dropout(x, p=0.6, training=self.training)\n",
        "        x = self.conv2(x, edge_index)\n",
        "        return x"
      ],
      "metadata": {
        "id": "XcjWKUPr-E_z"
      },
      "execution_count": null,
      "outputs": []
    },
    {
      "cell_type": "code",
      "source": [
        "model = GATv2Editted(500, 32, 3, 6, torch.minimum)"
      ],
      "metadata": {
        "id": "4vehojnK-E_0"
      },
      "execution_count": null,
      "outputs": []
    },
    {
      "cell_type": "code",
      "source": [
        "model"
      ],
      "metadata": {
        "colab": {
          "base_uri": "https://localhost:8080/"
        },
        "outputId": "12c16843-da7f-4101-8148-f7c4c935d73d",
        "id": "nls93BI5-E_0"
      },
      "execution_count": null,
      "outputs": [
        {
          "output_type": "execute_result",
          "data": {
            "text/plain": [
              "GATv2Editted(\n",
              "  (conv1): GATv2ConvEditted(500, 32, heads=6)\n",
              "  (conv2): GATv2ConvEditted(192, 3, heads=1)\n",
              ")"
            ]
          },
          "metadata": {},
          "execution_count": 78
        }
      ]
    },
    {
      "cell_type": "code",
      "source": [
        "import torch.nn.functional as F\n",
        "\n",
        "optimizer = torch.optim.Adam(model.parameters(), lr=0.01)\n",
        "\n",
        "for epoch in range(200):\n",
        "    pred = model(dataset.x, dataset.edge_index)\n",
        "    loss = F.cross_entropy(pred[dataset.train_mask], dataset.y[dataset.train_mask])\n",
        "\n",
        "    # Backpropagation\n",
        "    optimizer.zero_grad()\n",
        "    loss.backward()\n",
        "    optimizer.step()"
      ],
      "metadata": {
        "id": "x4H7Yg66-E_1"
      },
      "execution_count": null,
      "outputs": []
    },
    {
      "cell_type": "code",
      "source": [
        "with torch.no_grad():\n",
        "  pred = model(dataset.x, dataset.edge_index).argmax(dim=-1)\n",
        "\n",
        "accs = []\n",
        "for mask in [dataset.train_mask, dataset.val_mask, dataset.test_mask]:\n",
        "    accs.append(int((pred[mask] == dataset.y[mask]).sum()) / int(mask.sum()))\n",
        "\n",
        "print(accs)"
      ],
      "metadata": {
        "colab": {
          "base_uri": "https://localhost:8080/"
        },
        "outputId": "982982e4-ba7b-4b6d-fff6-cb414964dadb",
        "id": "2YInR7cD-E_1"
      },
      "execution_count": null,
      "outputs": [
        {
          "output_type": "stream",
          "name": "stdout",
          "text": [
            "[0.8833333333333333, 0.654, 0.634]\n"
          ]
        }
      ]
    },
    {
      "cell_type": "markdown",
      "source": [
        "# Results"
      ],
      "metadata": {
        "id": "_fu7LW_4B3VG"
      }
    },
    {
      "cell_type": "markdown",
      "source": [
        "## GCN"
      ],
      "metadata": {
        "id": "nrra6C3NB41o"
      }
    },
    {
      "cell_type": "code",
      "source": [
        "model_gcn = GCN([dataset.num_features, 64, 32, 16, 3], 2, 2)"
      ],
      "metadata": {
        "id": "SzPpa5n-B4PH"
      },
      "execution_count": null,
      "outputs": []
    },
    {
      "cell_type": "code",
      "source": [
        "train(model_gcn)"
      ],
      "metadata": {
        "id": "T9FDM5waos-L"
      },
      "execution_count": null,
      "outputs": []
    },
    {
      "cell_type": "code",
      "source": [
        "test(model_gcn)"
      ],
      "metadata": {
        "colab": {
          "base_uri": "https://localhost:8080/"
        },
        "outputId": "cc9fbf0d-6747-4fe0-c6bd-f2dee3a34f82",
        "id": "mbmjSngvos-M"
      },
      "execution_count": null,
      "outputs": [
        {
          "output_type": "stream",
          "name": "stdout",
          "text": [
            "Train Accuracy = 1.0\n",
            "Valid Accuracy = 0.768\n",
            "Test  Accuracy = 0.754\n"
          ]
        }
      ]
    },
    {
      "cell_type": "markdown",
      "source": [
        "## GAT"
      ],
      "metadata": {
        "id": "Wj78QH6cB60g"
      }
    },
    {
      "cell_type": "code",
      "source": [],
      "metadata": {
        "id": "KWak0CFoCcba"
      },
      "execution_count": null,
      "outputs": []
    },
    {
      "cell_type": "markdown",
      "source": [
        "## GAT v2"
      ],
      "metadata": {
        "id": "ax9Thb-5CdIs"
      }
    },
    {
      "cell_type": "code",
      "source": [
        "model_gatv2maximum = GATv2Editted(500, 32, 3, 6, torch.maximum)"
      ],
      "metadata": {
        "id": "wWtUoKGOBjhy"
      },
      "execution_count": null,
      "outputs": []
    },
    {
      "cell_type": "code",
      "source": [
        "train(model_gatv2maximum)"
      ],
      "metadata": {
        "id": "E4WVDQUoBmJB"
      },
      "execution_count": null,
      "outputs": []
    },
    {
      "cell_type": "code",
      "source": [
        "test(model_gatv2maximum)"
      ],
      "metadata": {
        "colab": {
          "base_uri": "https://localhost:8080/"
        },
        "id": "smR2KapHBoir",
        "outputId": "c84c4e89-e7e0-486b-df5b-9b64ca0d8048"
      },
      "execution_count": null,
      "outputs": [
        {
          "output_type": "stream",
          "name": "stdout",
          "text": [
            "Train Accuracy = 0.9333333333333333\n",
            "Valid Accuracy = 0.658\n",
            "Test  Accuracy = 0.632\n"
          ]
        }
      ]
    },
    {
      "cell_type": "code",
      "source": [
        "model_gatv2hadamard = GATv2Editted(500, 32, 3, 6, torch.mul)"
      ],
      "metadata": {
        "id": "hKrqsW-GCfeZ"
      },
      "execution_count": null,
      "outputs": []
    },
    {
      "cell_type": "code",
      "source": [
        "train(model_gatv2hadamard)"
      ],
      "metadata": {
        "id": "AybPzSD8DdWG"
      },
      "execution_count": null,
      "outputs": []
    },
    {
      "cell_type": "code",
      "source": [
        "test(model_gatv2hadamard)"
      ],
      "metadata": {
        "colab": {
          "base_uri": "https://localhost:8080/"
        },
        "id": "XkrgQiY4Dgb8",
        "outputId": "33c853c3-6ec4-4847-d222-f1695a0b80c3"
      },
      "execution_count": null,
      "outputs": [
        {
          "output_type": "stream",
          "name": "stdout",
          "text": [
            "Train Accuracy = 0.9166666666666666\n",
            "Valid Accuracy = 0.684\n",
            "Test  Accuracy = 0.659\n"
          ]
        }
      ]
    },
    {
      "cell_type": "code",
      "source": [
        "model_gatv2minimum = GATv2Editted(500, 32, 3, 6, torch.minimum)"
      ],
      "metadata": {
        "id": "InoS2A2dDwMV"
      },
      "execution_count": null,
      "outputs": []
    },
    {
      "cell_type": "code",
      "source": [
        "train(model_gatv2minimum)"
      ],
      "metadata": {
        "id": "Obia_iq3DwMX"
      },
      "execution_count": null,
      "outputs": []
    },
    {
      "cell_type": "code",
      "source": [
        "test(model_gatv2minimum)"
      ],
      "metadata": {
        "colab": {
          "base_uri": "https://localhost:8080/"
        },
        "id": "nIShugoXDwMY",
        "outputId": "ae77fcf3-a53b-43f5-975f-5ce520dd3370"
      },
      "execution_count": null,
      "outputs": [
        {
          "output_type": "stream",
          "name": "stdout",
          "text": [
            "Train Accuracy = 0.85\n",
            "Valid Accuracy = 0.67\n",
            "Test  Accuracy = 0.648\n"
          ]
        }
      ]
    },
    {
      "cell_type": "code",
      "source": [
        "def sum_torch(a, b): return a+b\n",
        "model_gatv2sum = GATv2Editted(500, 32, 3, 6, sum_torch)"
      ],
      "metadata": {
        "id": "CNKP-QlgH20O"
      },
      "execution_count": null,
      "outputs": []
    },
    {
      "cell_type": "code",
      "source": [
        "train(model_gatv2sum)"
      ],
      "metadata": {
        "id": "hv7nja4HH20P"
      },
      "execution_count": null,
      "outputs": []
    },
    {
      "cell_type": "code",
      "source": [
        "test(model_gatv2sum)"
      ],
      "metadata": {
        "colab": {
          "base_uri": "https://localhost:8080/"
        },
        "id": "2pVBSMWUH20P",
        "outputId": "12ddbeed-72ee-43a2-cb4e-899243a76192"
      },
      "execution_count": null,
      "outputs": [
        {
          "output_type": "stream",
          "name": "stdout",
          "text": [
            "Train Accuracy = 0.95\n",
            "Valid Accuracy = 0.662\n",
            "Test  Accuracy = 0.638\n"
          ]
        }
      ]
    },
    {
      "cell_type": "code",
      "source": [
        "model_gatv2std = GATv2(500, 32, 3, 6)"
      ],
      "metadata": {
        "id": "rjiL_f6vIJVm"
      },
      "execution_count": null,
      "outputs": []
    },
    {
      "cell_type": "code",
      "source": [
        "train(model_gatv2std)"
      ],
      "metadata": {
        "id": "xP-WODj5MIMT"
      },
      "execution_count": null,
      "outputs": []
    },
    {
      "cell_type": "code",
      "source": [
        "test(model_gatv2std)"
      ],
      "metadata": {
        "colab": {
          "base_uri": "https://localhost:8080/"
        },
        "outputId": "26125261-b4da-40f9-8acb-fe3bd612817c",
        "id": "GCY7vCfUMIMU"
      },
      "execution_count": null,
      "outputs": [
        {
          "output_type": "stream",
          "name": "stdout",
          "text": [
            "Train Accuracy = 0.85\n",
            "Valid Accuracy = 0.666\n",
            "Test  Accuracy = 0.651\n"
          ]
        }
      ]
    },
    {
      "cell_type": "code",
      "source": [],
      "metadata": {
        "id": "9xuNlBfxMO7Y"
      },
      "execution_count": null,
      "outputs": []
    }
  ]
}