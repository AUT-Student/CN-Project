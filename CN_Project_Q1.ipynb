{
  "nbformat": 4,
  "nbformat_minor": 0,
  "metadata": {
    "colab": {
      "provenance": [],
      "toc_visible": true,
      "include_colab_link": true
    },
    "kernelspec": {
      "name": "python3",
      "display_name": "Python 3"
    },
    "language_info": {
      "name": "python"
    },
    "gpuClass": "standard",
    "accelerator": "GPU"
  },
  "cells": [
    {
      "cell_type": "markdown",
      "metadata": {
        "id": "view-in-github",
        "colab_type": "text"
      },
      "source": [
        "<a href=\"https://colab.research.google.com/github/AUT-Student/CN-Project/blob/main/CN_Project_Q1.ipynb\" target=\"_parent\"><img src=\"https://colab.research.google.com/assets/colab-badge.svg\" alt=\"Open In Colab\"/></a>"
      ]
    },
    {
      "cell_type": "markdown",
      "source": [
        "<center><b>In the name of God</b></center>\n",
        "\n",
        "<b>Course</b>: Complex Network\n",
        "<br>\n",
        "<b>Description:</b> Final Project | Question 1\n",
        "<br>\n",
        "<b>Developer</b>: Alireza Mazochi (400131075)"
      ],
      "metadata": {
        "id": "dbsXgbwc34TT"
      }
    },
    {
      "cell_type": "markdown",
      "source": [
        "# Libraries"
      ],
      "metadata": {
        "id": "cb__SSZSsooQ"
      }
    },
    {
      "cell_type": "code",
      "execution_count": null,
      "metadata": {
        "id": "5_eFYCPpsYEh"
      },
      "outputs": [],
      "source": [
        "import pandas as pd\n",
        "import numpy as np\n",
        "import matplotlib.pyplot as plt"
      ]
    },
    {
      "cell_type": "code",
      "source": [
        "import torch\n",
        "from torch import Tensor\n",
        "from torch.nn import Linear, ReLU\n",
        "import torch.nn.functional as F"
      ],
      "metadata": {
        "id": "18zUntL68PqD"
      },
      "execution_count": null,
      "outputs": []
    },
    {
      "cell_type": "code",
      "source": [
        "torch.__version__"
      ],
      "metadata": {
        "colab": {
          "base_uri": "https://localhost:8080/",
          "height": 35
        },
        "id": "uE-LvmdB8baR",
        "outputId": "8208efd5-4f46-48e9-a93a-b9ee7f08dc30"
      },
      "execution_count": null,
      "outputs": [
        {
          "output_type": "execute_result",
          "data": {
            "text/plain": [
              "'1.13.1+cu116'"
            ],
            "application/vnd.google.colaboratory.intrinsic+json": {
              "type": "string"
            }
          },
          "metadata": {},
          "execution_count": 3
        }
      ]
    },
    {
      "cell_type": "code",
      "source": [
        "!pip install pyg-lib torch-scatter torch-sparse -f https://data.pyg.org/whl/torch-1.13.0+cu116.html\n",
        "!pip install torch-geometric\n",
        "!pip install torch-cluster torch-spline-conv -f https://data.pyg.org/whl/torch-1.13.0+cu116.html"
      ],
      "metadata": {
        "colab": {
          "base_uri": "https://localhost:8080/",
          "height": 1000
        },
        "id": "wRi13M887k7O",
        "outputId": "cb7bbe25-0e0d-475c-a275-4cd7ff3f8eff"
      },
      "execution_count": null,
      "outputs": [
        {
          "output_type": "stream",
          "name": "stdout",
          "text": [
            "Looking in indexes: https://pypi.org/simple, https://us-python.pkg.dev/colab-wheels/public/simple/\n",
            "Looking in links: https://data.pyg.org/whl/torch-1.13.0+cu116.html\n",
            "Collecting pyg-lib\n",
            "  Downloading https://data.pyg.org/whl/torch-1.13.0%2Bcu116/pyg_lib-0.1.0%2Bpt113cu116-cp38-cp38-linux_x86_64.whl (1.9 MB)\n",
            "\u001b[2K     \u001b[90m━━━━━━━━━━━━━━━━━━━━━━━━━━━━━━━━━━━━━━━━\u001b[0m \u001b[32m1.9/1.9 MB\u001b[0m \u001b[31m19.2 MB/s\u001b[0m eta \u001b[36m0:00:00\u001b[0m\n",
            "\u001b[?25hCollecting torch-scatter\n",
            "  Downloading https://data.pyg.org/whl/torch-1.13.0%2Bcu116/torch_scatter-2.1.0%2Bpt113cu116-cp38-cp38-linux_x86_64.whl (9.4 MB)\n",
            "\u001b[2K     \u001b[90m━━━━━━━━━━━━━━━━━━━━━━━━━━━━━━━━━━━━━━━━\u001b[0m \u001b[32m9.4/9.4 MB\u001b[0m \u001b[31m31.0 MB/s\u001b[0m eta \u001b[36m0:00:00\u001b[0m\n",
            "\u001b[?25hCollecting torch-sparse\n",
            "  Downloading https://data.pyg.org/whl/torch-1.13.0%2Bcu116/torch_sparse-0.6.16%2Bpt113cu116-cp38-cp38-linux_x86_64.whl (4.5 MB)\n",
            "\u001b[2K     \u001b[90m━━━━━━━━━━━━━━━━━━━━━━━━━━━━━━━━━━━━━━━━\u001b[0m \u001b[32m4.5/4.5 MB\u001b[0m \u001b[31m35.8 MB/s\u001b[0m eta \u001b[36m0:00:00\u001b[0m\n",
            "\u001b[?25hRequirement already satisfied: scipy in /usr/local/lib/python3.8/dist-packages (from torch-sparse) (1.7.3)\n",
            "Requirement already satisfied: numpy<1.23.0,>=1.16.5 in /usr/local/lib/python3.8/dist-packages (from scipy->torch-sparse) (1.21.6)\n",
            "Installing collected packages: torch-scatter, pyg-lib, torch-sparse\n",
            "Successfully installed pyg-lib-0.1.0+pt113cu116 torch-scatter-2.1.0+pt113cu116 torch-sparse-0.6.16+pt113cu116\n",
            "Looking in indexes: https://pypi.org/simple, https://us-python.pkg.dev/colab-wheels/public/simple/\n",
            "Collecting torch-geometric\n",
            "  Downloading torch_geometric-2.2.0.tar.gz (564 kB)\n",
            "\u001b[2K     \u001b[90m━━━━━━━━━━━━━━━━━━━━━━━━━━━━━━━━━━━━━━\u001b[0m \u001b[32m565.0/565.0 KB\u001b[0m \u001b[31m11.7 MB/s\u001b[0m eta \u001b[36m0:00:00\u001b[0m\n",
            "\u001b[?25h  Preparing metadata (setup.py) ... \u001b[?25l\u001b[?25hdone\n",
            "Requirement already satisfied: tqdm in /usr/local/lib/python3.8/dist-packages (from torch-geometric) (4.64.1)\n",
            "Requirement already satisfied: numpy in /usr/local/lib/python3.8/dist-packages (from torch-geometric) (1.21.6)\n",
            "Requirement already satisfied: scipy in /usr/local/lib/python3.8/dist-packages (from torch-geometric) (1.7.3)\n",
            "Requirement already satisfied: jinja2 in /usr/local/lib/python3.8/dist-packages (from torch-geometric) (2.11.3)\n",
            "Requirement already satisfied: requests in /usr/local/lib/python3.8/dist-packages (from torch-geometric) (2.25.1)\n",
            "Requirement already satisfied: pyparsing in /usr/local/lib/python3.8/dist-packages (from torch-geometric) (3.0.9)\n",
            "Requirement already satisfied: scikit-learn in /usr/local/lib/python3.8/dist-packages (from torch-geometric) (1.0.2)\n",
            "Collecting psutil>=5.8.0\n",
            "  Downloading psutil-5.9.4-cp36-abi3-manylinux_2_12_x86_64.manylinux2010_x86_64.manylinux_2_17_x86_64.manylinux2014_x86_64.whl (280 kB)\n",
            "\u001b[2K     \u001b[90m━━━━━━━━━━━━━━━━━━━━━━━━━━━━━━━━━━━━━━━\u001b[0m \u001b[32m280.2/280.2 KB\u001b[0m \u001b[31m1.1 MB/s\u001b[0m eta \u001b[36m0:00:00\u001b[0m\n",
            "\u001b[?25hRequirement already satisfied: MarkupSafe>=0.23 in /usr/local/lib/python3.8/dist-packages (from jinja2->torch-geometric) (2.0.1)\n",
            "Requirement already satisfied: certifi>=2017.4.17 in /usr/local/lib/python3.8/dist-packages (from requests->torch-geometric) (2022.12.7)\n",
            "Requirement already satisfied: idna<3,>=2.5 in /usr/local/lib/python3.8/dist-packages (from requests->torch-geometric) (2.10)\n",
            "Requirement already satisfied: urllib3<1.27,>=1.21.1 in /usr/local/lib/python3.8/dist-packages (from requests->torch-geometric) (1.24.3)\n",
            "Requirement already satisfied: chardet<5,>=3.0.2 in /usr/local/lib/python3.8/dist-packages (from requests->torch-geometric) (4.0.0)\n",
            "Requirement already satisfied: joblib>=0.11 in /usr/local/lib/python3.8/dist-packages (from scikit-learn->torch-geometric) (1.2.0)\n",
            "Requirement already satisfied: threadpoolctl>=2.0.0 in /usr/local/lib/python3.8/dist-packages (from scikit-learn->torch-geometric) (3.1.0)\n",
            "Building wheels for collected packages: torch-geometric\n",
            "  Building wheel for torch-geometric (setup.py) ... \u001b[?25l\u001b[?25hdone\n",
            "  Created wheel for torch-geometric: filename=torch_geometric-2.2.0-py3-none-any.whl size=773302 sha256=007fb786dbad620b49f9c21cbeb5547124da28fbc12caa0cc5a6b0323623f14a\n",
            "  Stored in directory: /root/.cache/pip/wheels/59/a3/20/198928106d3169865ae73afcbd3d3d1796cf6b429b55c65378\n",
            "Successfully built torch-geometric\n",
            "Installing collected packages: psutil, torch-geometric\n",
            "  Attempting uninstall: psutil\n",
            "    Found existing installation: psutil 5.4.8\n",
            "    Uninstalling psutil-5.4.8:\n",
            "      Successfully uninstalled psutil-5.4.8\n",
            "Successfully installed psutil-5.9.4 torch-geometric-2.2.0\n"
          ]
        },
        {
          "output_type": "display_data",
          "data": {
            "application/vnd.colab-display-data+json": {
              "pip_warning": {
                "packages": [
                  "psutil"
                ]
              }
            }
          },
          "metadata": {}
        },
        {
          "output_type": "stream",
          "name": "stdout",
          "text": [
            "Looking in indexes: https://pypi.org/simple, https://us-python.pkg.dev/colab-wheels/public/simple/\n",
            "Looking in links: https://data.pyg.org/whl/torch-1.13.0+cu116.html\n",
            "Collecting torch-cluster\n",
            "  Downloading https://data.pyg.org/whl/torch-1.13.0%2Bcu116/torch_cluster-1.6.0%2Bpt113cu116-cp38-cp38-linux_x86_64.whl (3.2 MB)\n",
            "\u001b[2K     \u001b[90m━━━━━━━━━━━━━━━━━━━━━━━━━━━━━━━━━━━━━━━━\u001b[0m \u001b[32m3.2/3.2 MB\u001b[0m \u001b[31m32.8 MB/s\u001b[0m eta \u001b[36m0:00:00\u001b[0m\n",
            "\u001b[?25hCollecting torch-spline-conv\n",
            "  Downloading https://data.pyg.org/whl/torch-1.13.0%2Bcu116/torch_spline_conv-1.2.1%2Bpt113cu116-cp38-cp38-linux_x86_64.whl (873 kB)\n",
            "\u001b[2K     \u001b[90m━━━━━━━━━━━━━━━━━━━━━━━━━━━━━━━━━━━━━━\u001b[0m \u001b[32m873.9/873.9 KB\u001b[0m \u001b[31m51.3 MB/s\u001b[0m eta \u001b[36m0:00:00\u001b[0m\n",
            "\u001b[?25hRequirement already satisfied: scipy in /usr/local/lib/python3.8/dist-packages (from torch-cluster) (1.7.3)\n",
            "Requirement already satisfied: numpy<1.23.0,>=1.16.5 in /usr/local/lib/python3.8/dist-packages (from scipy->torch-cluster) (1.21.6)\n",
            "Installing collected packages: torch-spline-conv, torch-cluster\n",
            "Successfully installed torch-cluster-1.6.0+pt113cu116 torch-spline-conv-1.2.1+pt113cu116\n"
          ]
        }
      ]
    },
    {
      "cell_type": "code",
      "source": [
        "import torch_geometric"
      ],
      "metadata": {
        "id": "IibwB8xc9fbL"
      },
      "execution_count": null,
      "outputs": []
    },
    {
      "cell_type": "markdown",
      "source": [
        "# Dataset"
      ],
      "metadata": {
        "id": "VIbw3edf8SFR"
      }
    },
    {
      "cell_type": "markdown",
      "source": [
        "## Load"
      ],
      "metadata": {
        "id": "oEWPcrC8hVwY"
      }
    },
    {
      "cell_type": "code",
      "source": [
        "from torch_geometric.datasets.planetoid import Planetoid"
      ],
      "metadata": {
        "id": "055dYQgS5pkg"
      },
      "execution_count": null,
      "outputs": []
    },
    {
      "cell_type": "code",
      "source": [
        "planetoid = Planetoid(\"/content/planetoid\", name=\"PubMed\")"
      ],
      "metadata": {
        "id": "OSBf7H6K6V2K",
        "colab": {
          "base_uri": "https://localhost:8080/"
        },
        "outputId": "1c734d6a-afe6-49d7-cf1d-895dfda6efac"
      },
      "execution_count": null,
      "outputs": [
        {
          "output_type": "stream",
          "name": "stderr",
          "text": [
            "Downloading https://github.com/kimiyoung/planetoid/raw/master/data/ind.pubmed.x\n",
            "Downloading https://github.com/kimiyoung/planetoid/raw/master/data/ind.pubmed.tx\n",
            "Downloading https://github.com/kimiyoung/planetoid/raw/master/data/ind.pubmed.allx\n",
            "Downloading https://github.com/kimiyoung/planetoid/raw/master/data/ind.pubmed.y\n",
            "Downloading https://github.com/kimiyoung/planetoid/raw/master/data/ind.pubmed.ty\n",
            "Downloading https://github.com/kimiyoung/planetoid/raw/master/data/ind.pubmed.ally\n",
            "Downloading https://github.com/kimiyoung/planetoid/raw/master/data/ind.pubmed.graph\n",
            "Downloading https://github.com/kimiyoung/planetoid/raw/master/data/ind.pubmed.test.index\n",
            "Processing...\n",
            "Done!\n"
          ]
        }
      ]
    },
    {
      "cell_type": "code",
      "source": [
        "dataset = planetoid[0]"
      ],
      "metadata": {
        "id": "s1zhgkCs6nCg"
      },
      "execution_count": null,
      "outputs": []
    },
    {
      "cell_type": "markdown",
      "source": [
        "## Overview"
      ],
      "metadata": {
        "id": "Lnj0pgmRhYFI"
      }
    },
    {
      "cell_type": "code",
      "source": [
        "dataset"
      ],
      "metadata": {
        "colab": {
          "base_uri": "https://localhost:8080/"
        },
        "id": "sa-MnxuZ88ge",
        "outputId": "3b7f0826-95a5-4d6a-d0fb-3b2436df7d47"
      },
      "execution_count": null,
      "outputs": [
        {
          "output_type": "execute_result",
          "data": {
            "text/plain": [
              "Data(x=[19717, 500], edge_index=[2, 88648], y=[19717], train_mask=[19717], val_mask=[19717], test_mask=[19717])"
            ]
          },
          "metadata": {},
          "execution_count": 58
        }
      ]
    },
    {
      "cell_type": "code",
      "source": [
        "set(dataset[\"y\"].numpy())"
      ],
      "metadata": {
        "colab": {
          "base_uri": "https://localhost:8080/"
        },
        "id": "d1RBCVns8-Mf",
        "outputId": "86460d7d-ddee-4fbb-8943-601a775c0320"
      },
      "execution_count": null,
      "outputs": [
        {
          "output_type": "execute_result",
          "data": {
            "text/plain": [
              "{0, 1, 2}"
            ]
          },
          "metadata": {},
          "execution_count": 51
        }
      ]
    },
    {
      "cell_type": "code",
      "source": [
        "dataset.num_features"
      ],
      "metadata": {
        "colab": {
          "base_uri": "https://localhost:8080/"
        },
        "id": "rBHayla99Kb2",
        "outputId": "bfe79f06-4d48-4594-cd10-df064bb0191b"
      },
      "execution_count": null,
      "outputs": [
        {
          "output_type": "execute_result",
          "data": {
            "text/plain": [
              "500"
            ]
          },
          "metadata": {},
          "execution_count": 59
        }
      ]
    },
    {
      "cell_type": "code",
      "source": [
        "dataset.num_edge_features"
      ],
      "metadata": {
        "colab": {
          "base_uri": "https://localhost:8080/"
        },
        "id": "ihLESSeT9NO1",
        "outputId": "0cd08720-0683-47eb-beb1-5f7c735a47d2"
      },
      "execution_count": null,
      "outputs": [
        {
          "output_type": "execute_result",
          "data": {
            "text/plain": [
              "0"
            ]
          },
          "metadata": {},
          "execution_count": 60
        }
      ]
    },
    {
      "cell_type": "code",
      "source": [
        "(sum(dataset.train_mask), sum(dataset.val_mask), sum(dataset.test_mask))"
      ],
      "metadata": {
        "colab": {
          "base_uri": "https://localhost:8080/"
        },
        "id": "Az8Fif_f9cb1",
        "outputId": "d1c49fa7-57ae-4d08-f22e-389bc80b147b"
      },
      "execution_count": null,
      "outputs": [
        {
          "output_type": "execute_result",
          "data": {
            "text/plain": [
              "(tensor(60), tensor(500), tensor(1000))"
            ]
          },
          "metadata": {},
          "execution_count": 37
        }
      ]
    },
    {
      "cell_type": "markdown",
      "source": [
        "# Train and Test"
      ],
      "metadata": {
        "id": "2WeABDYaBXPw"
      }
    },
    {
      "cell_type": "code",
      "source": [
        "class EarlyStopper:\n",
        "    def __init__(self, patience=1, min_delta=0):\n",
        "        self.patience = patience\n",
        "        self.min_delta = min_delta\n",
        "        self.counter = 0\n",
        "        self.min_validation_loss = np.inf\n",
        "\n",
        "    def early_stop(self, validation_loss):\n",
        "        if validation_loss < self.min_validation_loss:\n",
        "            self.min_validation_loss = validation_loss\n",
        "            self.counter = 0\n",
        "        elif validation_loss > (self.min_validation_loss + self.min_delta):\n",
        "            self.counter += 1\n",
        "            if self.counter >= self.patience:\n",
        "                return True\n",
        "        return False"
      ],
      "metadata": {
        "id": "so6PaUkQj8Vx"
      },
      "execution_count": null,
      "outputs": []
    },
    {
      "cell_type": "code",
      "source": [
        "def train(model):\n",
        "  model.train()\n",
        "\n",
        "  early_stopper = EarlyStopper(patience=3, min_delta=0.01)\n",
        "  optimizer = torch.optim.Adam(model.parameters(), lr=0.01)\n",
        "\n",
        "  for epoch in range(2000):\n",
        "    pred = model(dataset.x, dataset.edge_index)\n",
        "    train_loss = F.cross_entropy(pred[dataset.train_mask],\n",
        "                                  dataset.y[dataset.train_mask])\n",
        "    \n",
        "    validation_loss = F.cross_entropy(pred[dataset.val_mask],\n",
        "                                      dataset.y[dataset.val_mask])\n",
        "\n",
        "    # Backpropagation\n",
        "    optimizer.zero_grad()\n",
        "    train_loss.backward()\n",
        "    optimizer.step()\n",
        "\n",
        "    if early_stopper.early_stop(validation_loss):             \n",
        "        break"
      ],
      "metadata": {
        "id": "KWPFjPzHAoQe"
      },
      "execution_count": null,
      "outputs": []
    },
    {
      "cell_type": "code",
      "source": [
        "def complete_test(model):\n",
        "  model.eval()\n",
        "  with torch.no_grad():\n",
        "    pred = model(dataset.x, dataset.edge_index).argmax(dim=-1)\n",
        "\n",
        "  accs = []\n",
        "  for mask in [dataset.train_mask, dataset.val_mask, dataset.test_mask]:\n",
        "      accs.append(int((pred[mask] == dataset.y[mask]).sum()) / int(mask.sum()))\n",
        "\n",
        "  print(f\"Train Accuracy = {accs[0]}\")\n",
        "  print(f\"Valid Accuracy = {accs[1]}\")\n",
        "  print(f\"Test  Accuracy = {accs[2]}\")"
      ],
      "metadata": {
        "id": "uPOwvB0nGLKs"
      },
      "execution_count": null,
      "outputs": []
    },
    {
      "cell_type": "code",
      "source": [
        "def test(model):\n",
        "  model.eval()\n",
        "  with torch.no_grad():\n",
        "    pred = model(dataset.x, dataset.edge_index).argmax(dim=-1)\n",
        "\n",
        "\n",
        "  return int((pred[dataset.test_mask] == dataset.y[dataset.test_mask]).sum()) / int(dataset.test_mask.sum())"
      ],
      "metadata": {
        "id": "zyzvvmW0rFT3"
      },
      "execution_count": null,
      "outputs": []
    },
    {
      "cell_type": "markdown",
      "source": [
        "# Models"
      ],
      "metadata": {
        "id": "WTNjv_bmBtOX"
      }
    },
    {
      "cell_type": "markdown",
      "source": [
        "## GCN"
      ],
      "metadata": {
        "id": "_OwTbqoiFmc6"
      }
    },
    {
      "cell_type": "code",
      "source": [
        "from torch_geometric.nn import GCNConv\n",
        "\n",
        "class GCN(torch.nn.Module):\n",
        "    def __init__(self, dimentions, number_gcn, number_fc):\n",
        "        super().__init__()\n",
        "        assert(len(dimentions) == number_gcn+number_fc+1)\n",
        "        self.number_gcn = number_gcn\n",
        "        self.number_fc = number_fc\n",
        "        self.layers_gcn = []\n",
        "        self.layers_fc = []\n",
        "\n",
        "        for in_dim, out_dim in zip(dimentions[:number_gcn],\n",
        "                                   dimentions[1:number_gcn+1]):\n",
        "          \n",
        "          self.layers_gcn.append(GCNConv(in_dim, out_dim))\n",
        "          \n",
        "        self.layers_gcn = torch.nn.ModuleList(self.layers_gcn)\n",
        "        \n",
        "        for in_dim, out_dim in zip(dimentions[number_gcn:],\n",
        "                                   dimentions[number_gcn+1:]):\n",
        "          \n",
        "          self.layers_fc.append(Linear(in_dim, out_dim))\n",
        "        \n",
        "        self.layers_fc = torch.nn.ModuleList(self.layers_fc)\n",
        "        \n",
        "\n",
        "    def forward(self, x: Tensor, edge_index: Tensor) -> Tensor:\n",
        "        for i in range(self.number_gcn):\n",
        "          x = self.layers_gcn[i](x, edge_index).relu()\n",
        "\n",
        "        for i in range(self.number_fc):\n",
        "          x = self.layers_fc[i](x).sigmoid()\n",
        "\n",
        "        return x"
      ],
      "metadata": {
        "id": "lxDlbNCOFpr7"
      },
      "execution_count": null,
      "outputs": []
    },
    {
      "cell_type": "markdown",
      "source": [
        "## GAT"
      ],
      "metadata": {
        "id": "I8MLzopqYfPt"
      }
    },
    {
      "cell_type": "code",
      "source": [
        "# Source: https://github.com/pyg-team/pytorch_geometric/blob/master/examples/gat.py\n",
        "\n",
        "from torch_geometric.nn import GATConv\n",
        "\n",
        "class GAT(torch.nn.Module):\n",
        "    def __init__(self, in_channels, hidden_channels, out_channels, heads):\n",
        "        super().__init__()\n",
        "        self.conv1 = GATConv(in_channels, hidden_channels[0], heads,\n",
        "                             concat=False, dropout=0.3)\n",
        "        self.conv2 = GATConv(hidden_channels[0], hidden_channels[1], heads=1,\n",
        "                             concat=False, dropout=0.3)\n",
        "        self.conv3 = GATConv(hidden_channels[1], out_channels, heads=1,\n",
        "                             concat=False, dropout=0.3)\n",
        "\n",
        "    def forward(self, x, edge_index):\n",
        "        x = F.elu(self.conv1(x, edge_index))\n",
        "        x = F.elu(self.conv2(x, edge_index))\n",
        "        x = self.conv3(x, edge_index)\n",
        "\n",
        "        return x"
      ],
      "metadata": {
        "id": "0kn27p1KYgYU"
      },
      "execution_count": null,
      "outputs": []
    },
    {
      "cell_type": "markdown",
      "source": [
        "## GAT Dynamic Weight"
      ],
      "metadata": {
        "id": "Q0BcGs8LCyET"
      }
    },
    {
      "cell_type": "code",
      "source": [
        "# Source: https://github.com/pyg-team/pytorch_geometric/blob/master/torch_geometric/nn/conv/gat_conv.py\n",
        "\n",
        "from typing import Optional, Tuple, Union\n",
        "\n",
        "import torch\n",
        "import torch.nn.functional as F\n",
        "from torch import Tensor\n",
        "from torch.nn import Parameter\n",
        "\n",
        "from torch_geometric.nn.conv import MessagePassing\n",
        "from torch_geometric.nn.dense.linear import Linear\n",
        "from torch_geometric.typing import NoneType  # noqa\n",
        "from torch_geometric.typing import (\n",
        "    Adj,\n",
        "    OptPairTensor,\n",
        "    OptTensor,\n",
        "    Size,\n",
        "    SparseTensor,\n",
        ")\n",
        "\n",
        "import torch_sparse\n",
        "\n",
        "from torch_geometric.utils import add_self_loops, remove_self_loops, softmax\n",
        "\n",
        "from torch_geometric.nn.inits import glorot, zeros\n",
        "\n",
        "class GATConvDynamicWeights(MessagePassing):\n",
        "    r\"\"\"The graph attentional operator from the `\"Graph Attention Networks\"\n",
        "    <https://arxiv.org/abs/1710.10903>`_ paper\n",
        "\n",
        "    .. math::\n",
        "        \\mathbf{x}^{\\prime}_i = \\alpha_{i,i}\\mathbf{\\Theta}\\mathbf{x}_{i} +\n",
        "        \\sum_{j \\in \\mathcal{N}(i)} \\alpha_{i,j}\\mathbf{\\Theta}\\mathbf{x}_{j},\n",
        "\n",
        "    where the attention coefficients :math:`\\alpha_{i,j}` are computed as\n",
        "\n",
        "    .. math::\n",
        "        \\alpha_{i,j} =\n",
        "        \\frac{\n",
        "        \\exp\\left(\\mathrm{LeakyReLU}\\left(\\mathbf{a}^{\\top}\n",
        "        [\\mathbf{\\Theta}\\mathbf{x}_i \\, \\Vert \\, \\mathbf{\\Theta}\\mathbf{x}_j]\n",
        "        \\right)\\right)}\n",
        "        {\\sum_{k \\in \\mathcal{N}(i) \\cup \\{ i \\}}\n",
        "        \\exp\\left(\\mathrm{LeakyReLU}\\left(\\mathbf{a}^{\\top}\n",
        "        [\\mathbf{\\Theta}\\mathbf{x}_i \\, \\Vert \\, \\mathbf{\\Theta}\\mathbf{x}_k]\n",
        "        \\right)\\right)}.\n",
        "\n",
        "    If the graph has multi-dimensional edge features :math:`\\mathbf{e}_{i,j}`,\n",
        "    the attention coefficients :math:`\\alpha_{i,j}` are computed as\n",
        "\n",
        "    .. math::\n",
        "        \\alpha_{i,j} =\n",
        "        \\frac{\n",
        "        \\exp\\left(\\mathrm{LeakyReLU}\\left(\\mathbf{a}^{\\top}\n",
        "        [\\mathbf{\\Theta}\\mathbf{x}_i \\, \\Vert \\, \\mathbf{\\Theta}\\mathbf{x}_j\n",
        "        \\, \\Vert \\, \\mathbf{\\Theta}_{e} \\mathbf{e}_{i,j}]\\right)\\right)}\n",
        "        {\\sum_{k \\in \\mathcal{N}(i) \\cup \\{ i \\}}\n",
        "        \\exp\\left(\\mathrm{LeakyReLU}\\left(\\mathbf{a}^{\\top}\n",
        "        [\\mathbf{\\Theta}\\mathbf{x}_i \\, \\Vert \\, \\mathbf{\\Theta}\\mathbf{x}_k\n",
        "        \\, \\Vert \\, \\mathbf{\\Theta}_{e} \\mathbf{e}_{i,k}]\\right)\\right)}.\n",
        "\n",
        "    Args:\n",
        "        in_channels (int or tuple): Size of each input sample, or :obj:`-1` to\n",
        "            derive the size from the first input(s) to the forward method.\n",
        "            A tuple corresponds to the sizes of source and target\n",
        "            dimensionalities.\n",
        "        out_channels (int): Size of each output sample.\n",
        "        heads (int, optional): Number of multi-head-attentions.\n",
        "            (default: :obj:`1`)\n",
        "        concat (bool, optional): <REMOVED by me> If set to :obj:`False`, the multi-head\n",
        "            attentions are averaged instead of concatenated.\n",
        "            (default: :obj:`True`)\n",
        "        negative_slope (float, optional): LeakyReLU angle of the negative\n",
        "            slope. (default: :obj:`0.2`)\n",
        "        dropout (float, optional): Dropout probability of the normalized\n",
        "            attention coefficients which exposes each node to a stochastically\n",
        "            sampled neighborhood during training. (default: :obj:`0`)\n",
        "        add_self_loops (bool, optional): If set to :obj:`False`, will not add\n",
        "            self-loops to the input graph. (default: :obj:`True`)\n",
        "        edge_dim (int, optional): Edge feature dimensionality (in case\n",
        "            there are any). (default: :obj:`None`)\n",
        "        fill_value (float or Tensor or str, optional): The way to generate\n",
        "            edge features of self-loops (in case :obj:`edge_dim != None`).\n",
        "            If given as :obj:`float` or :class:`torch.Tensor`, edge features of\n",
        "            self-loops will be directly given by :obj:`fill_value`.\n",
        "            If given as :obj:`str`, edge features of self-loops are computed by\n",
        "            aggregating all features of edges that point to the specific node,\n",
        "            according to a reduce operation. (:obj:`\"add\"`, :obj:`\"mean\"`,\n",
        "            :obj:`\"min\"`, :obj:`\"max\"`, :obj:`\"mul\"`). (default: :obj:`\"mean\"`)\n",
        "        bias (bool, optional): If set to :obj:`False`, the layer will not learn\n",
        "            an additive bias. (default: :obj:`True`)\n",
        "        **kwargs (optional): Additional arguments of\n",
        "            :class:`torch_geometric.nn.conv.MessagePassing`.\n",
        "\n",
        "    Shapes:\n",
        "        - **input:**\n",
        "          node features :math:`(|\\mathcal{V}|, F_{in})` or\n",
        "          :math:`((|\\mathcal{V_s}|, F_{s}), (|\\mathcal{V_t}|, F_{t}))`\n",
        "          if bipartite,\n",
        "          edge indices :math:`(2, |\\mathcal{E}|)`,\n",
        "          edge features :math:`(|\\mathcal{E}|, D)` *(optional)*\n",
        "        - **output:** node features :math:`(|\\mathcal{V}|, H * F_{out})` or\n",
        "          :math:`((|\\mathcal{V}_t|, H * F_{out})` if bipartite.\n",
        "          If :obj:`return_attention_weights=True`, then\n",
        "          :math:`((|\\mathcal{V}|, H * F_{out}),\n",
        "          ((2, |\\mathcal{E}|), (|\\mathcal{E}|, H)))`\n",
        "          or :math:`((|\\mathcal{V_t}|, H * F_{out}), ((2, |\\mathcal{E}|),\n",
        "          (|\\mathcal{E}|, H)))` if bipartite\n",
        "    \"\"\"\n",
        "    def __init__(\n",
        "        self,\n",
        "        in_channels: Union[int, Tuple[int, int]],\n",
        "        out_channels: int,\n",
        "        heads: int = 1,\n",
        "        negative_slope: float = 0.2,\n",
        "        dropout: float = 0.0,\n",
        "        add_self_loops: bool = True,\n",
        "        edge_dim: Optional[int] = None,\n",
        "        fill_value: Union[float, Tensor, str] = 'mean',\n",
        "        bias: bool = True,\n",
        "        **kwargs,\n",
        "    ):\n",
        "        kwargs.setdefault('aggr', 'add')\n",
        "        super().__init__(node_dim=0, **kwargs)\n",
        "\n",
        "        self.in_channels = in_channels\n",
        "        self.out_channels = out_channels\n",
        "        self.heads = heads\n",
        "        # Changed Code:\n",
        "        concat = False\n",
        "        self.concat = concat\n",
        "        \n",
        "        self.negative_slope = negative_slope\n",
        "        self.dropout = dropout\n",
        "        self.add_self_loops = add_self_loops\n",
        "        self.edge_dim = edge_dim\n",
        "        self.fill_value = fill_value\n",
        "\n",
        "        # In case we are operating in bipartite graphs, we apply separate\n",
        "        # transformations 'lin_src' and 'lin_dst' to source and target nodes:\n",
        "        if isinstance(in_channels, int):\n",
        "            self.lin_src = Linear(in_channels, heads * out_channels,\n",
        "                                  bias=False, weight_initializer='glorot')\n",
        "            self.lin_dst = self.lin_src\n",
        "        else:\n",
        "            self.lin_src = Linear(in_channels[0], heads * out_channels, False,\n",
        "                                  weight_initializer='glorot')\n",
        "            self.lin_dst = Linear(in_channels[1], heads * out_channels, False,\n",
        "                                  weight_initializer='glorot')\n",
        "\n",
        "        # The learnable parameters to compute attention coefficients:\n",
        "        self.att_src = Parameter(torch.Tensor(1, heads, out_channels))\n",
        "        self.att_dst = Parameter(torch.Tensor(1, heads, out_channels))\n",
        "\n",
        "        # Changed Code:\n",
        "        self.learnable_average_layer = torch.nn.Conv1d(in_channels=heads,\n",
        "                                                       out_channels=1,\n",
        "                                                       kernel_size=1)\n",
        "\n",
        "\n",
        "        if edge_dim is not None:\n",
        "            self.lin_edge = Linear(edge_dim, heads * out_channels, bias=False,\n",
        "                                   weight_initializer='glorot')\n",
        "            self.att_edge = Parameter(torch.Tensor(1, heads, out_channels))\n",
        "        else:\n",
        "            self.lin_edge = None\n",
        "            self.register_parameter('att_edge', None)\n",
        "\n",
        "        if bias and concat:\n",
        "            self.bias = Parameter(torch.Tensor(heads * out_channels))\n",
        "        elif bias and not concat:\n",
        "            self.bias = Parameter(torch.Tensor(out_channels))\n",
        "        else:\n",
        "            self.register_parameter('bias', None)\n",
        "\n",
        "        self.reset_parameters()\n",
        "\n",
        "    def reset_parameters(self):\n",
        "        # super().reset_parameters()\n",
        "        self.lin_src.reset_parameters()\n",
        "        self.lin_dst.reset_parameters()\n",
        "        if self.lin_edge is not None:\n",
        "            self.lin_edge.reset_parameters()\n",
        "        glorot(self.att_src)\n",
        "        glorot(self.att_dst)\n",
        "        glorot(self.att_edge)\n",
        "        zeros(self.bias)\n",
        "\n",
        "        # Changed Code:\n",
        "        # self.learnable_average_layer.reset_parameters()\n",
        "\n",
        "    def forward(self, x: Union[Tensor, OptPairTensor], edge_index: Adj,\n",
        "                edge_attr: OptTensor = None, size: Size = None,\n",
        "                return_attention_weights=None):\n",
        "        # type: (Union[Tensor, OptPairTensor], Tensor, OptTensor, Size, NoneType) -> Tensor  # noqa\n",
        "        # type: (Union[Tensor, OptPairTensor], SparseTensor, OptTensor, Size, NoneType) -> Tensor  # noqa\n",
        "        # type: (Union[Tensor, OptPairTensor], Tensor, OptTensor, Size, bool) -> Tuple[Tensor, Tuple[Tensor, Tensor]]  # noqa\n",
        "        # type: (Union[Tensor, OptPairTensor], SparseTensor, OptTensor, Size, bool) -> Tuple[Tensor, SparseTensor]  # noqa\n",
        "        r\"\"\"\n",
        "        Args:\n",
        "            return_attention_weights (bool, optional): If set to :obj:`True`,\n",
        "                will additionally return the tuple\n",
        "                :obj:`(edge_index, attention_weights)`, holding the computed\n",
        "                attention weights for each edge. (default: :obj:`None`)\n",
        "        \"\"\"\n",
        "        # NOTE: attention weights will be returned whenever\n",
        "        # `return_attention_weights` is set to a value, regardless of its\n",
        "        # actual value (might be `True` or `False`). This is a current somewhat\n",
        "        # hacky workaround to allow for TorchScript support via the\n",
        "        # `torch.jit._overload` decorator, as we can only change the output\n",
        "        # arguments conditioned on type (`None` or `bool`), not based on its\n",
        "        # actual value.\n",
        "\n",
        "        H, C = self.heads, self.out_channels\n",
        "\n",
        "        # We first transform the input node features. If a tuple is passed, we\n",
        "        # transform source and target node features via separate weights:\n",
        "        if isinstance(x, Tensor):\n",
        "            assert x.dim() == 2, \"Static graphs not supported in 'GATConv'\"\n",
        "            x_src = x_dst = self.lin_src(x).view(-1, H, C)\n",
        "        else:  # Tuple of source and target node features:\n",
        "            x_src, x_dst = x\n",
        "            assert x_src.dim() == 2, \"Static graphs not supported in 'GATConv'\"\n",
        "            x_src = self.lin_src(x_src).view(-1, H, C)\n",
        "            if x_dst is not None:\n",
        "                x_dst = self.lin_dst(x_dst).view(-1, H, C)\n",
        "\n",
        "        x = (x_src, x_dst)\n",
        "\n",
        "        # Next, we compute node-level attention coefficients, both for source\n",
        "        # and target nodes (if present):\n",
        "        alpha_src = (x_src * self.att_src).sum(dim=-1)\n",
        "        alpha_dst = None if x_dst is None else (x_dst * self.att_dst).sum(-1)\n",
        "        alpha = (alpha_src, alpha_dst)\n",
        "\n",
        "        if self.add_self_loops:\n",
        "            if isinstance(edge_index, Tensor):\n",
        "                # We only want to add self-loops for nodes that appear both as\n",
        "                # source and target nodes:\n",
        "                num_nodes = x_src.size(0)\n",
        "                if x_dst is not None:\n",
        "                    num_nodes = min(num_nodes, x_dst.size(0))\n",
        "                num_nodes = min(size) if size is not None else num_nodes\n",
        "                edge_index, edge_attr = remove_self_loops(\n",
        "                    edge_index, edge_attr)\n",
        "                edge_index, edge_attr = add_self_loops(\n",
        "                    edge_index, edge_attr, fill_value=self.fill_value,\n",
        "                    num_nodes=num_nodes)\n",
        "            elif isinstance(edge_index, SparseTensor):\n",
        "                if self.edge_dim is None:\n",
        "                    edge_index = torch_sparse.set_diag(edge_index)\n",
        "                else:\n",
        "                    raise NotImplementedError(\n",
        "                        \"The usage of 'edge_attr' and 'add_self_loops' \"\n",
        "                        \"simultaneously is currently not yet supported for \"\n",
        "                        \"'edge_index' in a 'SparseTensor' form\")\n",
        "\n",
        "        # edge_updater_type: (alpha: OptPairTensor, edge_attr: OptTensor)\n",
        "        alpha = self.edge_updater(edge_index, alpha=alpha, edge_attr=edge_attr)\n",
        "\n",
        "        # propagate_type: (x: OptPairTensor, alpha: Tensor)\n",
        "        out = self.propagate(edge_index, x=x, alpha=alpha, size=size)\n",
        "\n",
        "        # if self.concat:\n",
        "        #     out = out.view(-1, self.heads * self.out_channels)\n",
        "        # else:\n",
        "        #     out = out.mean(dim=1)\n",
        "\n",
        "        # Changed Code:\n",
        "        # Source: https://stackoverflow.com/a/58574603/8961642\n",
        "        out = self.learnable_average_layer(out)\n",
        "        out = out.squeeze()\n",
        "            \n",
        "        if self.bias is not None:\n",
        "            out = out + self.bias\n",
        "\n",
        "        if isinstance(return_attention_weights, bool):\n",
        "            if isinstance(edge_index, Tensor):\n",
        "                return out, (edge_index, alpha)\n",
        "            elif isinstance(edge_index, SparseTensor):\n",
        "                return out, edge_index.set_value(alpha, layout='coo')\n",
        "        else:\n",
        "            return out\n",
        "\n",
        "    def edge_update(self, alpha_j: Tensor, alpha_i: OptTensor,\n",
        "                    edge_attr: OptTensor, index: Tensor, ptr: OptTensor,\n",
        "                    size_i: Optional[int]) -> Tensor:\n",
        "        # Given edge-level attention coefficients for source and target nodes,\n",
        "        # we simply need to sum them up to \"emulate\" concatenation:\n",
        "        alpha = alpha_j if alpha_i is None else alpha_j + alpha_i\n",
        "\n",
        "        if edge_attr is not None and self.lin_edge is not None:\n",
        "            if edge_attr.dim() == 1:\n",
        "                edge_attr = edge_attr.view(-1, 1)\n",
        "            edge_attr = self.lin_edge(edge_attr)\n",
        "            edge_attr = edge_attr.view(-1, self.heads, self.out_channels)\n",
        "            alpha_edge = (edge_attr * self.att_edge).sum(dim=-1)\n",
        "            alpha = alpha + alpha_edge\n",
        "\n",
        "        alpha = F.leaky_relu(alpha, self.negative_slope)\n",
        "        alpha = softmax(alpha, index, ptr, size_i)\n",
        "        alpha = F.dropout(alpha, p=self.dropout, training=self.training)\n",
        "        return alpha\n",
        "\n",
        "    def message(self, x_j: Tensor, alpha: Tensor) -> Tensor:\n",
        "        return alpha.unsqueeze(-1) * x_j\n",
        "\n",
        "    def __repr__(self) -> str:\n",
        "        return (f'{self.__class__.__name__}({self.in_channels}, '\n",
        "                f'{self.out_channels}, heads={self.heads})')"
      ],
      "metadata": {
        "id": "UFhM3UA6V0rP"
      },
      "execution_count": null,
      "outputs": []
    },
    {
      "cell_type": "code",
      "source": [
        "class GATDynamicWeights(torch.nn.Module):\n",
        "    def __init__(self, in_channels, hidden_channels, out_channels, heads):\n",
        "        super().__init__()\n",
        "        self.conv1 = GATConvDynamicWeights(in_channels, hidden_channels, heads,\n",
        "                             dropout=0.3)\n",
        "\n",
        "        self.conv2 = GATConvDynamicWeights(hidden_channels, out_channels, heads=1,\n",
        "                             dropout=0.3)\n",
        "\n",
        "    def forward(self, x, edge_index):\n",
        "        x = F.elu(self.conv1(x, edge_index))\n",
        "        x = self.conv2(x, edge_index)\n",
        "\n",
        "        return x"
      ],
      "metadata": {
        "id": "AunaP7sCT40q"
      },
      "execution_count": null,
      "outputs": []
    },
    {
      "cell_type": "markdown",
      "source": [
        "## GAT V2 Message Operation"
      ],
      "metadata": {
        "id": "cizO7OEt9_z7"
      }
    },
    {
      "cell_type": "markdown",
      "source": [
        "\\begin{equation}\n",
        "\\mathbf{x}^{\\prime}_i = \\alpha_{i,i}\\mathbf{\\Theta}\\mathbf{x}_{i} +\n",
        "\\sum_{j \\in \\mathcal{N}(i)} \\alpha_{i,j}\\mathbf{\\Theta}\\mathbf{x}_{j}\n",
        "\\end{equation}\n",
        "\n",
        "\\begin{equation}\n",
        "\\alpha_{i,j} =\n",
        "        \\frac{\n",
        "        \\exp\\left(\\mathbf{a}^{\\top}\\mathrm{LeakyReLU}\\left(\\mathbf{\\Theta}\n",
        "        [\\mathbf{x}_i \\, \\Vert \\, \\mathbf{x}_j]\n",
        "        \\right)\\right)}\n",
        "        {\\sum_{k \\in \\mathcal{N}(i) \\cup \\{ i \\}}\n",
        "        \\exp\\left(\\mathbf{a}^{\\top}\\mathrm{LeakyReLU}\\left(\\mathbf{\\Theta}\n",
        "        [\\mathbf{x}_i \\, \\Vert \\, \\mathbf{x}_k]\n",
        "        \\right)\\right)}.\n",
        "\\end{equation}\n",
        "\n",
        "\\begin{equation}\n",
        "\\alpha_{i,j} =\n",
        "        \\frac{\n",
        "        \\exp\\left(\\mathbf{a}^{\\top}\\mathrm{LeakyReLU}\\left(\\mathbf{\\Theta}\n",
        "        [\\mathbf{x}_i \\, \\Vert \\, \\mathbf{x}_j \\, \\Vert \\, \\mathbf{e}_{i,j}]\n",
        "        \\right)\\right)}\n",
        "        {\\sum_{k \\in \\mathcal{N}(i) \\cup \\{ i \\}}\n",
        "        \\exp\\left(\\mathbf{a}^{\\top}\\mathrm{LeakyReLU}\\left(\\mathbf{\\Theta}\n",
        "        [\\mathbf{x}_i \\, \\Vert \\, \\mathbf{x}_k \\, \\Vert \\, \\mathbf{e}_{i,k}]\n",
        "        \\right)\\right)}\n",
        "\\end{equation}"
      ],
      "metadata": {
        "id": "4TCL6s3-je_v"
      }
    },
    {
      "cell_type": "code",
      "source": [
        "# Source: https://github.com/pyg-team/pytorch_geometric/blob/master/torch_geometric/nn/conv/gatv2_conv.py\n",
        "\n",
        "from typing import Optional, Tuple, Union\n",
        "\n",
        "import torch\n",
        "import torch.nn.functional as F\n",
        "from torch import Tensor\n",
        "from torch.nn import Parameter\n",
        "\n",
        "from torch_geometric.nn.conv import MessagePassing\n",
        "from torch_geometric.nn.dense.linear import Linear\n",
        "from torch_geometric.nn.inits import glorot, zeros\n",
        "from torch_geometric.typing import (\n",
        "    Adj,\n",
        "    OptTensor,\n",
        "    PairTensor,\n",
        "    SparseTensor,\n",
        ")\n",
        "import torch_sparse\n",
        "from torch_geometric.utils import add_self_loops, remove_self_loops, softmax\n",
        "\n",
        "class GATv2ConvMessageOperation(MessagePassing):\n",
        "    r\"\"\"The GATv2 operator from the `\"How Attentive are Graph Attention\n",
        "    Networks?\" <https://arxiv.org/abs/2105.14491>`_ paper, which fixes the\n",
        "    static attention problem of the standard\n",
        "    :class:`~torch_geometric.conv.GATConv` layer.\n",
        "    Since the linear layers in the standard GAT are applied right after each\n",
        "    other, the ranking of attended nodes is unconditioned on the query node.\n",
        "    In contrast, in :class:`GATv2`, every node can attend to any other node.\n",
        "    .. math::\n",
        "        \\mathbf{x}^{\\prime}_i = \\alpha_{i,i}\\mathbf{\\Theta}\\mathbf{x}_{i} +\n",
        "        \\sum_{j \\in \\mathcal{N}(i)} \\alpha_{i,j}\\mathbf{\\Theta}\\mathbf{x}_{j},\n",
        "    where the attention coefficients :math:`\\alpha_{i,j}` are computed as\n",
        "    .. math::\n",
        "        \\alpha_{i,j} =\n",
        "        \\frac{\n",
        "        \\exp\\left(\\mathbf{a}^{\\top}\\mathrm{LeakyReLU}\\left(\\mathbf{\\Theta}\n",
        "        [\\mathbf{x}_i \\, \\Vert \\, \\mathbf{x}_j]\n",
        "        \\right)\\right)}\n",
        "        {\\sum_{k \\in \\mathcal{N}(i) \\cup \\{ i \\}}\n",
        "        \\exp\\left(\\mathbf{a}^{\\top}\\mathrm{LeakyReLU}\\left(\\mathbf{\\Theta}\n",
        "        [\\mathbf{x}_i \\, \\Vert \\, \\mathbf{x}_k]\n",
        "        \\right)\\right)}.\n",
        "    If the graph has multi-dimensional edge features :math:`\\mathbf{e}_{i,j}`,\n",
        "    the attention coefficients :math:`\\alpha_{i,j}` are computed as\n",
        "    .. math::\n",
        "        \\alpha_{i,j} =\n",
        "        \\frac{\n",
        "        \\exp\\left(\\mathbf{a}^{\\top}\\mathrm{LeakyReLU}\\left(\\mathbf{\\Theta}\n",
        "        [\\mathbf{x}_i \\, \\Vert \\, \\mathbf{x}_j \\, \\Vert \\, \\mathbf{e}_{i,j}]\n",
        "        \\right)\\right)}\n",
        "        {\\sum_{k \\in \\mathcal{N}(i) \\cup \\{ i \\}}\n",
        "        \\exp\\left(\\mathbf{a}^{\\top}\\mathrm{LeakyReLU}\\left(\\mathbf{\\Theta}\n",
        "        [\\mathbf{x}_i \\, \\Vert \\, \\mathbf{x}_k \\, \\Vert \\, \\mathbf{e}_{i,k}]\n",
        "        \\right)\\right)}.\n",
        "    Args:\n",
        "        in_channels (int or tuple): Size of each input sample, or :obj:`-1` to\n",
        "            derive the size from the first input(s) to the forward method.\n",
        "            A tuple corresponds to the sizes of source and target\n",
        "            dimensionalities.\n",
        "        out_channels (int): Size of each output sample.\n",
        "        heads (int, optional): Number of multi-head-attentions.\n",
        "            (default: :obj:`1`)\n",
        "        concat (bool, optional): If set to :obj:`False`, the multi-head\n",
        "            attentions are averaged instead of concatenated.\n",
        "            (default: :obj:`True`)\n",
        "        negative_slope (float, optional): LeakyReLU angle of the negative\n",
        "            slope. (default: :obj:`0.2`)\n",
        "        dropout (float, optional): Dropout probability of the normalized\n",
        "            attention coefficients which exposes each node to a stochastically\n",
        "            sampled neighborhood during training. (default: :obj:`0`)\n",
        "        add_self_loops (bool, optional): If set to :obj:`False`, will not add\n",
        "            self-loops to the input graph. (default: :obj:`True`)\n",
        "        edge_dim (int, optional): Edge feature dimensionality (in case\n",
        "            there are any). (default: :obj:`None`)\n",
        "        fill_value (float or Tensor or str, optional): The way to generate\n",
        "            edge features of self-loops (in case :obj:`edge_dim != None`).\n",
        "            If given as :obj:`float` or :class:`torch.Tensor`, edge features of\n",
        "            self-loops will be directly given by :obj:`fill_value`.\n",
        "            If given as :obj:`str`, edge features of self-loops are computed by\n",
        "            aggregating all features of edges that point to the specific node,\n",
        "            according to a reduce operation. (:obj:`\"add\"`, :obj:`\"mean\"`,\n",
        "            :obj:`\"min\"`, :obj:`\"max\"`, :obj:`\"mul\"`). (default: :obj:`\"mean\"`)\n",
        "        bias (bool, optional): If set to :obj:`False`, the layer will not learn\n",
        "            an additive bias. (default: :obj:`True`)\n",
        "        share_weights (bool, optional): If set to :obj:`True`, the same matrix\n",
        "            will be applied to the source and the target node of every edge.\n",
        "            (default: :obj:`False`)\n",
        "        **kwargs (optional): Additional arguments of\n",
        "            :class:`torch_geometric.nn.conv.MessagePassing`.\n",
        "    Shapes:\n",
        "        - **input:**\n",
        "          node features :math:`(|\\mathcal{V}|, F_{in})` or\n",
        "          :math:`((|\\mathcal{V_s}|, F_{s}), (|\\mathcal{V_t}|, F_{t}))`\n",
        "          if bipartite,\n",
        "          edge indices :math:`(2, |\\mathcal{E}|)`,\n",
        "          edge features :math:`(|\\mathcal{E}|, D)` *(optional)*\n",
        "        - **output:** node features :math:`(|\\mathcal{V}|, H * F_{out})` or\n",
        "          :math:`((|\\mathcal{V}_t|, H * F_{out})` if bipartite.\n",
        "          If :obj:`return_attention_weights=True`, then\n",
        "          :math:`((|\\mathcal{V}|, H * F_{out}),\n",
        "          ((2, |\\mathcal{E}|), (|\\mathcal{E}|, H)))`\n",
        "          or :math:`((|\\mathcal{V_t}|, H * F_{out}), ((2, |\\mathcal{E}|),\n",
        "          (|\\mathcal{E}|, H)))` if bipartite\n",
        "    \"\"\"\n",
        "    _alpha: OptTensor\n",
        "\n",
        "    def __init__(\n",
        "        self,\n",
        "        in_channels: Union[int, Tuple[int, int]],\n",
        "        out_channels: int,\n",
        "        message_operation,\n",
        "        heads: int = 1,\n",
        "        concat: bool = True,\n",
        "        negative_slope: float = 0.2,\n",
        "        dropout: float = 0.0,\n",
        "        add_self_loops: bool = True,\n",
        "        edge_dim: Optional[int] = None,\n",
        "        fill_value: Union[float, Tensor, str] = 'mean',\n",
        "        bias: bool = True,\n",
        "        share_weights: bool = False,\n",
        "        **kwargs,\n",
        "    ):\n",
        "        super().__init__(node_dim=0, **kwargs)\n",
        "\n",
        "        self.in_channels = in_channels\n",
        "        self.out_channels = out_channels\n",
        "        self.message_operation = message_operation\n",
        "        self.heads = heads\n",
        "        self.concat = concat\n",
        "        self.negative_slope = negative_slope\n",
        "        self.dropout = dropout\n",
        "        self.add_self_loops = add_self_loops\n",
        "        self.edge_dim = edge_dim\n",
        "        self.fill_value = fill_value\n",
        "        self.share_weights = share_weights\n",
        "\n",
        "        if isinstance(in_channels, int):\n",
        "            self.lin_l = Linear(in_channels, heads * out_channels, bias=bias,\n",
        "                                weight_initializer='glorot')\n",
        "            if share_weights:\n",
        "                self.lin_r = self.lin_l\n",
        "            else:\n",
        "                self.lin_r = Linear(in_channels, heads * out_channels,\n",
        "                                    bias=bias, weight_initializer='glorot')\n",
        "        else:\n",
        "            self.lin_l = Linear(in_channels[0], heads * out_channels,\n",
        "                                bias=bias, weight_initializer='glorot')\n",
        "            if share_weights:\n",
        "                self.lin_r = self.lin_l\n",
        "            else:\n",
        "                self.lin_r = Linear(in_channels[1], heads * out_channels,\n",
        "                                    bias=bias, weight_initializer='glorot')\n",
        "\n",
        "        self.att = Parameter(torch.Tensor(1, heads, out_channels))\n",
        "\n",
        "        if edge_dim is not None:\n",
        "            self.lin_edge = Linear(edge_dim, heads * out_channels, bias=False,\n",
        "                                   weight_initializer='glorot')\n",
        "        else:\n",
        "            self.lin_edge = None\n",
        "\n",
        "        if bias and concat:\n",
        "            self.bias = Parameter(torch.Tensor(heads * out_channels))\n",
        "        elif bias and not concat:\n",
        "            self.bias = Parameter(torch.Tensor(out_channels))\n",
        "        else:\n",
        "            self.register_parameter('bias', None)\n",
        "\n",
        "        self._alpha = None\n",
        "\n",
        "        self.reset_parameters()\n",
        "\n",
        "    def reset_parameters(self):\n",
        "        self.lin_l.reset_parameters()\n",
        "        self.lin_r.reset_parameters()\n",
        "        if self.lin_edge is not None:\n",
        "            self.lin_edge.reset_parameters()\n",
        "        glorot(self.att)\n",
        "        zeros(self.bias)\n",
        "\n",
        "    def forward(self, x: Union[Tensor, PairTensor], edge_index: Adj,\n",
        "                edge_attr: OptTensor = None,\n",
        "                return_attention_weights: bool = None):\n",
        "        # type: (Union[Tensor, PairTensor], Tensor, OptTensor, NoneType) -> Tensor  # noqa\n",
        "        # type: (Union[Tensor, PairTensor], SparseTensor, OptTensor, NoneType) -> Tensor  # noqa\n",
        "        # type: (Union[Tensor, PairTensor], Tensor, OptTensor, bool) -> Tuple[Tensor, Tuple[Tensor, Tensor]]  # noqa\n",
        "        # type: (Union[Tensor, PairTensor], SparseTensor, OptTensor, bool) -> Tuple[Tensor, SparseTensor]  # noqa\n",
        "        r\"\"\"\n",
        "        Args:\n",
        "            return_attention_weights (bool, optional): If set to :obj:`True`,\n",
        "                will additionally return the tuple\n",
        "                :obj:`(edge_index, attention_weights)`, holding the computed\n",
        "                attention weights for each edge. (default: :obj:`None`)\n",
        "        \"\"\"\n",
        "        H, C = self.heads, self.out_channels\n",
        "\n",
        "        x_l: OptTensor = None\n",
        "        x_r: OptTensor = None\n",
        "        if isinstance(x, Tensor):\n",
        "            assert x.dim() == 2\n",
        "            x_l = self.lin_l(x).view(-1, H, C)\n",
        "            if self.share_weights:\n",
        "                x_r = x_l\n",
        "            else:\n",
        "                x_r = self.lin_r(x).view(-1, H, C)\n",
        "        else:\n",
        "            x_l, x_r = x[0], x[1]\n",
        "            assert x[0].dim() == 2\n",
        "            x_l = self.lin_l(x_l).view(-1, H, C)\n",
        "            if x_r is not None:\n",
        "                x_r = self.lin_r(x_r).view(-1, H, C)\n",
        "\n",
        "        assert x_l is not None\n",
        "        assert x_r is not None\n",
        "\n",
        "        if self.add_self_loops:\n",
        "            if isinstance(edge_index, Tensor):\n",
        "                num_nodes = x_l.size(0)\n",
        "                if x_r is not None:\n",
        "                    num_nodes = min(num_nodes, x_r.size(0))\n",
        "                edge_index, edge_attr = remove_self_loops(\n",
        "                    edge_index, edge_attr)\n",
        "                edge_index, edge_attr = add_self_loops(\n",
        "                    edge_index, edge_attr, fill_value=self.fill_value,\n",
        "                    num_nodes=num_nodes)\n",
        "            elif isinstance(edge_index, SparseTensor):\n",
        "                if self.edge_dim is None:\n",
        "                    edge_index = torch_sparse.set_diag(edge_index)\n",
        "                else:\n",
        "                    raise NotImplementedError(\n",
        "                        \"The usage of 'edge_attr' and 'add_self_loops' \"\n",
        "                        \"simultaneously is currently not yet supported for \"\n",
        "                        \"'edge_index' in a 'SparseTensor' form\")\n",
        "\n",
        "        # propagate_type: (x: PairTensor, edge_attr: OptTensor)\n",
        "        out = self.propagate(edge_index, x=(x_l, x_r), edge_attr=edge_attr,\n",
        "                             size=None)\n",
        "\n",
        "        alpha = self._alpha\n",
        "        self._alpha = None\n",
        "\n",
        "        if self.concat:\n",
        "            out = out.view(-1, self.heads * self.out_channels)\n",
        "        else:\n",
        "            out = out.mean(dim=1)\n",
        "\n",
        "        if self.bias is not None:\n",
        "            out = out + self.bias\n",
        "\n",
        "        if isinstance(return_attention_weights, bool):\n",
        "            assert alpha is not None\n",
        "            if isinstance(edge_index, Tensor):\n",
        "                return out, (edge_index, alpha)\n",
        "            elif isinstance(edge_index, SparseTensor):\n",
        "                return out, edge_index.set_value(alpha, layout='coo')\n",
        "        else:\n",
        "            return out\n",
        "\n",
        "    def message(self, x_j: Tensor, x_i: Tensor, edge_attr: OptTensor,\n",
        "                index: Tensor, ptr: OptTensor,\n",
        "                size_i: Optional[int]) -> Tensor:\n",
        "        \n",
        "        # Changed Code:\n",
        "        # x = x_i + x_j\n",
        "        x = self.message_operation(x_i, x_j)\n",
        "\n",
        "        if edge_attr is not None:\n",
        "            # Changed Code:\n",
        "            raise NotImplementedError\n",
        "            # if edge_attr.dim() == 1:\n",
        "            #     edge_attr = edge_attr.view(-1, 1)\n",
        "            # assert self.lin_edge is not None\n",
        "            # edge_attr = self.lin_edge(edge_attr)\n",
        "            # edge_attr = edge_attr.view(-1, self.heads, self.out_channels)\n",
        "            # x = x + edge_attr\n",
        "\n",
        "        x = F.leaky_relu(x, self.negative_slope)\n",
        "        alpha = (x * self.att).sum(dim=-1)\n",
        "        alpha = softmax(alpha, index, ptr, size_i)\n",
        "        self._alpha = alpha\n",
        "        alpha = F.dropout(alpha, p=self.dropout, training=self.training)\n",
        "        return x_j * alpha.unsqueeze(-1)\n",
        "\n",
        "    def __repr__(self) -> str:\n",
        "        return (f'{self.__class__.__name__}({self.in_channels}, '\n",
        "                f'{self.out_channels}, heads={self.heads})')"
      ],
      "metadata": {
        "id": "LZhiMKViz6Dl"
      },
      "execution_count": null,
      "outputs": []
    },
    {
      "cell_type": "code",
      "source": [
        "class GATv2MessageOperation(torch.nn.Module):\n",
        "    def __init__(self, in_channels, hidden_channels, out_channels, heads, message_operation):\n",
        "        super().__init__()\n",
        "        self.conv1 = GATv2ConvMessageOperation(in_channels, hidden_channels,\n",
        "                                      message_operation=message_operation,\n",
        "                                      heads=heads, dropout=0.3)\n",
        "        \n",
        "        self.conv2 = GATv2ConvMessageOperation(hidden_channels * heads, out_channels,\n",
        "                                      message_operation=message_operation,\n",
        "                                      heads=1, dropout=0.3)\n",
        "\n",
        "    def forward(self, x, edge_index):\n",
        "        x = F.dropout(x, p=0.3, training=self.training)\n",
        "        x = F.elu(self.conv1(x, edge_index))\n",
        "        x = F.dropout(x, p=0.3, training=self.training)\n",
        "        x = self.conv2(x, edge_index)\n",
        "        return x"
      ],
      "metadata": {
        "id": "XcjWKUPr-E_z"
      },
      "execution_count": null,
      "outputs": []
    },
    {
      "cell_type": "markdown",
      "source": [
        "# Results"
      ],
      "metadata": {
        "id": "_fu7LW_4B3VG"
      }
    },
    {
      "cell_type": "markdown",
      "source": [
        "## GCN"
      ],
      "metadata": {
        "id": "nrra6C3NB41o"
      }
    },
    {
      "cell_type": "code",
      "source": [
        "NUMBER_RUNS = 4\n",
        "for config in [\n",
        "  ([500, 16, 8, 3], 2, 1),\n",
        "  ([500, 32, 16, 3], 2, 1),\n",
        "  ([500, 64, 32, 3], 2, 1),\n",
        "  ([500, 256, 64, 3], 2, 1),        \n",
        "  ([500, 1024, 1024, 3], 2, 1),\n",
        "]:\n",
        "  print(f\"Config: {config[0]}\")\n",
        "  test_acc_sum = 0 \n",
        "  for _ in range(NUMBER_RUNS):\n",
        "    model = GCN(*config)\n",
        "    train(model)\n",
        "    test_acc_sum += test(model)\n",
        "  test_acc = test_acc_sum / NUMBER_RUNS\n",
        "  print(f\"Test Accuracy: {round(test_acc*100, 2)}\")\n",
        "  print(\"====\")"
      ],
      "metadata": {
        "colab": {
          "base_uri": "https://localhost:8080/"
        },
        "id": "oUxdrpDer6dN",
        "outputId": "84cbf794-d710-4dcd-9a4b-e04ccf66872c"
      },
      "execution_count": null,
      "outputs": [
        {
          "output_type": "stream",
          "name": "stdout",
          "text": [
            "Config: [500, 16, 8, 3]\n",
            "Test Accuracy: 75.8\n",
            "====\n",
            "Config: [500, 32, 16, 3]\n",
            "Test Accuracy: 74.75\n",
            "====\n",
            "Config: [500, 64, 32, 3]\n",
            "Test Accuracy: 75.05\n",
            "====\n",
            "Config: [500, 256, 64, 3]\n",
            "Test Accuracy: 75.02\n",
            "====\n",
            "Config: [500, 1024, 1024, 3]\n",
            "Test Accuracy: 75.2\n",
            "====\n"
          ]
        }
      ]
    },
    {
      "cell_type": "code",
      "source": [
        "NUMBER_RUNS = 4\n",
        "for config in [\n",
        "  ([500, 16, 3], 1, 1),\n",
        "  ([500, 16, 8, 3], 2, 1),\n",
        "  ([500, 32, 16, 8, 3], 3, 1),\n",
        "  ([500, 16, 8, 3], 1, 2),        \n",
        "  ([500, 32, 16, 8, 3], 2, 2),\n",
        "  ([500, 64, 32, 16, 8, 3], 3, 2),\n",
        "  ([500, 32, 16, 8, 3], 1, 3),        \n",
        "  ([500, 64, 32, 16, 8, 3], 2, 3),\n",
        "  ([500, 128, 64, 32, 16, 8, 3], 3, 3)\n",
        "]:\n",
        "  print(f\"Config: {config[0]}\")\n",
        "  test_acc_sum = 0 \n",
        "  for _ in range(NUMBER_RUNS):\n",
        "    model = GCN(*config)\n",
        "    train(model)\n",
        "    test_acc_sum += test(model)\n",
        "  test_acc = test_acc_sum / NUMBER_RUNS\n",
        "  print(f\"Test Accuracy: {round(test_acc*100, 2)}\")\n",
        "  print(\"====\")"
      ],
      "metadata": {
        "colab": {
          "base_uri": "https://localhost:8080/"
        },
        "id": "Lel5evDmuVkk",
        "outputId": "602c554f-f219-4777-d438-08fe11387f34"
      },
      "execution_count": null,
      "outputs": [
        {
          "output_type": "stream",
          "name": "stdout",
          "text": [
            "Config: [500, 16, 3]\n",
            "Test Accuracy: 70.0\n",
            "====\n",
            "Config: [500, 16, 8, 3]\n",
            "Test Accuracy: 72.62\n",
            "====\n",
            "Config: [500, 32, 16, 8, 3]\n",
            "Test Accuracy: 75.95\n",
            "====\n",
            "Config: [500, 16, 8, 3]\n",
            "Test Accuracy: 49.5\n",
            "====\n",
            "Config: [500, 32, 16, 8, 3]\n",
            "Test Accuracy: 53.5\n",
            "====\n",
            "Config: [500, 64, 32, 16, 8, 3]\n",
            "Test Accuracy: 71.35\n",
            "====\n",
            "Config: [500, 32, 16, 8, 3]\n",
            "Test Accuracy: 41.42\n",
            "====\n",
            "Config: [500, 64, 32, 16, 8, 3]\n",
            "Test Accuracy: 57.3\n",
            "====\n",
            "Config: [500, 128, 64, 32, 16, 8, 3]\n",
            "Test Accuracy: 65.72\n",
            "====\n"
          ]
        }
      ]
    },
    {
      "cell_type": "markdown",
      "source": [
        "## GAT"
      ],
      "metadata": {
        "id": "Wj78QH6cB60g"
      }
    },
    {
      "cell_type": "code",
      "source": [
        "NUMBER_RUNS = 4\n",
        "test_accs = []\n",
        "for heads in range(1, 11):\n",
        "  print(f\"heads = {heads}\", end=\"\")\n",
        "  test_acc_sum = 0\n",
        "  for _ in range(NUMBER_RUNS):\n",
        "    model = GAT(500, [64, 16], 3, heads)\n",
        "    train(model)\n",
        "    test_acc_sum += test(model)\n",
        "  test_acc = test_acc_sum / NUMBER_RUNS\n",
        "  print(f\"test accuracy = {test_acc}\")\n",
        "  test_accs.append(test_acc)"
      ],
      "metadata": {
        "colab": {
          "base_uri": "https://localhost:8080/"
        },
        "id": "4fo5IWaNN_Vk",
        "outputId": "21cee4f5-a5ab-4f79-e144-3ce2ea89bb42"
      },
      "execution_count": null,
      "outputs": [
        {
          "output_type": "stream",
          "name": "stdout",
          "text": [
            "heads = 1test accuracy = 0.73225\n",
            "heads = 2test accuracy = 0.7235\n",
            "heads = 3test accuracy = 0.742\n",
            "heads = 4test accuracy = 0.74\n",
            "heads = 5test accuracy = 0.736\n",
            "heads = 6test accuracy = 0.7374999999999999\n",
            "heads = 7test accuracy = 0.73875\n",
            "heads = 8test accuracy = 0.72575\n",
            "heads = 9test accuracy = 0.73575\n",
            "heads = 10test accuracy = 0.73275\n"
          ]
        }
      ]
    },
    {
      "cell_type": "code",
      "source": [
        "plt.scatter(range(1, 11), [t*100 for t in test_accs])\n",
        "plt.plot(range(1, 11), [t*100 for t in test_accs])\n",
        "\n",
        "plt.title(\"Test Accuracy for Differents Heads\")\n",
        "plt.xlabel(\"Heads\")\n",
        "plt.ylabel(\"Test Accuracy\")\n",
        "plt.show()"
      ],
      "metadata": {
        "colab": {
          "base_uri": "https://localhost:8080/",
          "height": 295
        },
        "id": "7cI8oVYXRJZ0",
        "outputId": "907510b0-6b48-4dd2-faa6-e37d885bdb86"
      },
      "execution_count": null,
      "outputs": [
        {
          "output_type": "display_data",
          "data": {
            "text/plain": [
              "<Figure size 432x288 with 1 Axes>"
            ],
            "image/png": "[encoded data removed]"
          },
          "metadata": {
            "needs_background": "light"
          }
        }
      ]
    },
    {
      "cell_type": "code",
      "source": [
        "test_acc_sum = 0\n",
        "for _ in range(NUMBER_RUNS):\n",
        "  model = GATDynamicWeights(500, 32, 3, heads=3)\n",
        "  train(model)\n",
        "  test_acc_sum += test(model)\n",
        "test_acc = test_acc_sum / NUMBER_RUNS\n",
        "print(f\"test accuracy = {test_acc}\")"
      ],
      "metadata": {
        "colab": {
          "base_uri": "https://localhost:8080/"
        },
        "id": "hXr4tmJhVHjN",
        "outputId": "6e0ebaf2-33e4-405a-eb13-9de6a0897d68"
      },
      "execution_count": null,
      "outputs": [
        {
          "output_type": "stream",
          "name": "stdout",
          "text": [
            "test accuracy = 0.745\n"
          ]
        }
      ]
    },
    {
      "cell_type": "code",
      "source": [
        "test_acc_sum = 0\n",
        "for _ in range(NUMBER_RUNS):\n",
        "  model = GAT(500, [64, 16], 3, heads=3)\n",
        "  train(model)\n",
        "  test_acc_sum += test(model)\n",
        "test_acc = test_acc_sum / NUMBER_RUNS\n",
        "print(f\"test accuracy = {test_acc}\")"
      ],
      "metadata": {
        "colab": {
          "base_uri": "https://localhost:8080/"
        },
        "id": "Sm3MtkifXBcl",
        "outputId": "137d7e0f-e840-414d-e853-61ba7e6ccdfd"
      },
      "execution_count": null,
      "outputs": [
        {
          "output_type": "stream",
          "name": "stdout",
          "text": [
            "test accuracy = 0.74075\n"
          ]
        }
      ]
    },
    {
      "cell_type": "markdown",
      "source": [
        "## GAT v2"
      ],
      "metadata": {
        "id": "ax9Thb-5CdIs"
      }
    },
    {
      "cell_type": "code",
      "source": [
        "def torch_sum(a, b): return a+b"
      ],
      "metadata": {
        "id": "pMh-kpqlzTv1"
      },
      "execution_count": null,
      "outputs": []
    },
    {
      "cell_type": "code",
      "source": [
        "NUMBER_RUNS = 4\n",
        "for message_operation in [torch_sum, torch.minimum, torch.maximum, torch.mul]:\n",
        "  print(f\"message_operation = {message_operation}\", end=\" \")\n",
        "  test_acc_sum = 0\n",
        "  for _ in range(NUMBER_RUNS):\n",
        "    model = GATv2MessageOperation(in_channels=500, hidden_channels=32,\n",
        "                                  out_channels=3, heads=3,\n",
        "                                  message_operation=message_operation)\n",
        "    train(model)\n",
        "    test_acc_sum += test(model)\n",
        "  \n",
        "  test_acc = test_acc_sum / NUMBER_RUNS\n",
        "  print(f\"test accuracy = {round(test_acc*100, 2)}\")"
      ],
      "metadata": {
        "colab": {
          "base_uri": "https://localhost:8080/"
        },
        "id": "D29EQMRrv8CJ",
        "outputId": "138ca024-c318-4557-a061-31df4cf65302"
      },
      "execution_count": null,
      "outputs": [
        {
          "output_type": "stream",
          "name": "stdout",
          "text": [
            "message_operation = <function torch_sum at 0x7f13a81ce670> test accuracy = 75.22\n",
            "message_operation = <built-in method minimum of type object at 0x7f1417a5f420> test accuracy = 74.55\n",
            "message_operation = <built-in method maximum of type object at 0x7f1417a5f420> test accuracy = 74.7\n",
            "message_operation = <built-in method mul of type object at 0x7f1417a5f420> test accuracy = 74.35\n"
          ]
        }
      ]
    }
  ]
}