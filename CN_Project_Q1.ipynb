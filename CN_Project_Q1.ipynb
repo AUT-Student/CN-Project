{
  "nbformat": 4,
  "nbformat_minor": 0,
  "metadata": {
    "colab": {
      "provenance": [],
      "toc_visible": true,
      "authorship_tag": "ABX9TyNghgFwhyua16M6lof9WVs7",
      "include_colab_link": true
    },
    "kernelspec": {
      "name": "python3",
      "display_name": "Python 3"
    },
    "language_info": {
      "name": "python"
    },
    "gpuClass": "standard"
  },
  "cells": [
    {
      "cell_type": "markdown",
      "metadata": {
        "id": "view-in-github",
        "colab_type": "text"
      },
      "source": [
        "<a href=\"https://colab.research.google.com/github/AUT-Student/CN-Project/blob/main/CN_Project_Q1.ipynb\" target=\"_parent\"><img src=\"https://colab.research.google.com/assets/colab-badge.svg\" alt=\"Open In Colab\"/></a>"
      ]
    },
    {
      "cell_type": "markdown",
      "source": [
        "# Libraries"
      ],
      "metadata": {
        "id": "cb__SSZSsooQ"
      }
    },
    {
      "cell_type": "code",
      "execution_count": 1,
      "metadata": {
        "id": "5_eFYCPpsYEh"
      },
      "outputs": [],
      "source": [
        "import pandas as pd\n",
        "import numpy as np"
      ]
    },
    {
      "cell_type": "code",
      "source": [
        "import torch\n",
        "from torch import Tensor\n",
        "from torch.nn import Linear, ReLU"
      ],
      "metadata": {
        "id": "18zUntL68PqD"
      },
      "execution_count": 2,
      "outputs": []
    },
    {
      "cell_type": "code",
      "source": [
        "torch.__version__"
      ],
      "metadata": {
        "colab": {
          "base_uri": "https://localhost:8080/",
          "height": 35
        },
        "id": "uE-LvmdB8baR",
        "outputId": "daf0018c-6d84-47e5-b932-2bce804cfe7b"
      },
      "execution_count": 3,
      "outputs": [
        {
          "output_type": "execute_result",
          "data": {
            "text/plain": [
              "'1.13.1+cu116'"
            ],
            "application/vnd.google.colaboratory.intrinsic+json": {
              "type": "string"
            }
          },
          "metadata": {},
          "execution_count": 3
        }
      ]
    },
    {
      "cell_type": "code",
      "source": [
        "!pip install pyg-lib torch-scatter torch-sparse -f https://data.pyg.org/whl/torch-1.13.0+cu116.html\n",
        "!pip install torch-geometric\n",
        "!pip install torch-cluster torch-spline-conv -f https://data.pyg.org/whl/torch-1.13.0+cu116.html"
      ],
      "metadata": {
        "colab": {
          "base_uri": "https://localhost:8080/",
          "height": 1000
        },
        "id": "wRi13M887k7O",
        "outputId": "08d5c84f-3a26-433d-b4ad-c9f94407fa90"
      },
      "execution_count": 4,
      "outputs": [
        {
          "output_type": "stream",
          "name": "stdout",
          "text": [
            "Looking in indexes: https://pypi.org/simple, https://us-python.pkg.dev/colab-wheels/public/simple/\n",
            "Looking in links: https://data.pyg.org/whl/torch-1.13.0+cu116.html\n",
            "Collecting pyg-lib\n",
            "  Downloading https://data.pyg.org/whl/torch-1.13.0%2Bcu116/pyg_lib-0.1.0%2Bpt113cu116-cp38-cp38-linux_x86_64.whl (1.9 MB)\n",
            "\u001b[2K     \u001b[90m━━━━━━━━━━━━━━━━━━━━━━━━━━━━━━━━━━━━━━━━\u001b[0m \u001b[32m1.9/1.9 MB\u001b[0m \u001b[31m32.9 MB/s\u001b[0m eta \u001b[36m0:00:00\u001b[0m\n",
            "\u001b[?25hCollecting torch-scatter\n",
            "  Downloading https://data.pyg.org/whl/torch-1.13.0%2Bcu116/torch_scatter-2.1.0%2Bpt113cu116-cp38-cp38-linux_x86_64.whl (9.4 MB)\n",
            "\u001b[2K     \u001b[90m━━━━━━━━━━━━━━━━━━━━━━━━━━━━━━━━━━━━━━━━\u001b[0m \u001b[32m9.4/9.4 MB\u001b[0m \u001b[31m59.5 MB/s\u001b[0m eta \u001b[36m0:00:00\u001b[0m\n",
            "\u001b[?25hCollecting torch-sparse\n",
            "  Downloading https://data.pyg.org/whl/torch-1.13.0%2Bcu116/torch_sparse-0.6.16%2Bpt113cu116-cp38-cp38-linux_x86_64.whl (4.5 MB)\n",
            "\u001b[2K     \u001b[90m━━━━━━━━━━━━━━━━━━━━━━━━━━━━━━━━━━━━━━━━\u001b[0m \u001b[32m4.5/4.5 MB\u001b[0m \u001b[31m48.3 MB/s\u001b[0m eta \u001b[36m0:00:00\u001b[0m\n",
            "\u001b[?25hRequirement already satisfied: scipy in /usr/local/lib/python3.8/dist-packages (from torch-sparse) (1.7.3)\n",
            "Requirement already satisfied: numpy<1.23.0,>=1.16.5 in /usr/local/lib/python3.8/dist-packages (from scipy->torch-sparse) (1.21.6)\n",
            "Installing collected packages: torch-scatter, pyg-lib, torch-sparse\n",
            "Successfully installed pyg-lib-0.1.0+pt113cu116 torch-scatter-2.1.0+pt113cu116 torch-sparse-0.6.16+pt113cu116\n",
            "Looking in indexes: https://pypi.org/simple, https://us-python.pkg.dev/colab-wheels/public/simple/\n",
            "Collecting torch-geometric\n",
            "  Downloading torch_geometric-2.2.0.tar.gz (564 kB)\n",
            "\u001b[2K     \u001b[90m━━━━━━━━━━━━━━━━━━━━━━━━━━━━━━━━━━━━━━\u001b[0m \u001b[32m565.0/565.0 KB\u001b[0m \u001b[31m14.4 MB/s\u001b[0m eta \u001b[36m0:00:00\u001b[0m\n",
            "\u001b[?25h  Preparing metadata (setup.py) ... \u001b[?25l\u001b[?25hdone\n",
            "Requirement already satisfied: tqdm in /usr/local/lib/python3.8/dist-packages (from torch-geometric) (4.64.1)\n",
            "Requirement already satisfied: numpy in /usr/local/lib/python3.8/dist-packages (from torch-geometric) (1.21.6)\n",
            "Requirement already satisfied: scipy in /usr/local/lib/python3.8/dist-packages (from torch-geometric) (1.7.3)\n",
            "Requirement already satisfied: jinja2 in /usr/local/lib/python3.8/dist-packages (from torch-geometric) (2.11.3)\n",
            "Requirement already satisfied: requests in /usr/local/lib/python3.8/dist-packages (from torch-geometric) (2.25.1)\n",
            "Requirement already satisfied: pyparsing in /usr/local/lib/python3.8/dist-packages (from torch-geometric) (3.0.9)\n",
            "Requirement already satisfied: scikit-learn in /usr/local/lib/python3.8/dist-packages (from torch-geometric) (1.0.2)\n",
            "Collecting psutil>=5.8.0\n",
            "  Downloading psutil-5.9.4-cp36-abi3-manylinux_2_12_x86_64.manylinux2010_x86_64.manylinux_2_17_x86_64.manylinux2014_x86_64.whl (280 kB)\n",
            "\u001b[2K     \u001b[90m━━━━━━━━━━━━━━━━━━━━━━━━━━━━━━━━━━━━━━\u001b[0m \u001b[32m280.2/280.2 KB\u001b[0m \u001b[31m14.1 MB/s\u001b[0m eta \u001b[36m0:00:00\u001b[0m\n",
            "\u001b[?25hRequirement already satisfied: MarkupSafe>=0.23 in /usr/local/lib/python3.8/dist-packages (from jinja2->torch-geometric) (2.0.1)\n",
            "Requirement already satisfied: idna<3,>=2.5 in /usr/local/lib/python3.8/dist-packages (from requests->torch-geometric) (2.10)\n",
            "Requirement already satisfied: chardet<5,>=3.0.2 in /usr/local/lib/python3.8/dist-packages (from requests->torch-geometric) (4.0.0)\n",
            "Requirement already satisfied: certifi>=2017.4.17 in /usr/local/lib/python3.8/dist-packages (from requests->torch-geometric) (2022.12.7)\n",
            "Requirement already satisfied: urllib3<1.27,>=1.21.1 in /usr/local/lib/python3.8/dist-packages (from requests->torch-geometric) (1.24.3)\n",
            "Requirement already satisfied: joblib>=0.11 in /usr/local/lib/python3.8/dist-packages (from scikit-learn->torch-geometric) (1.2.0)\n",
            "Requirement already satisfied: threadpoolctl>=2.0.0 in /usr/local/lib/python3.8/dist-packages (from scikit-learn->torch-geometric) (3.1.0)\n",
            "Building wheels for collected packages: torch-geometric\n",
            "  Building wheel for torch-geometric (setup.py) ... \u001b[?25l\u001b[?25hdone\n",
            "  Created wheel for torch-geometric: filename=torch_geometric-2.2.0-py3-none-any.whl size=773302 sha256=2ecaa786ed860687038ecc0af7209f11cd2f76ad1f194bbf73eee0c3eb0edc41\n",
            "  Stored in directory: /root/.cache/pip/wheels/59/a3/20/198928106d3169865ae73afcbd3d3d1796cf6b429b55c65378\n",
            "Successfully built torch-geometric\n",
            "Installing collected packages: psutil, torch-geometric\n",
            "  Attempting uninstall: psutil\n",
            "    Found existing installation: psutil 5.4.8\n",
            "    Uninstalling psutil-5.4.8:\n",
            "      Successfully uninstalled psutil-5.4.8\n",
            "Successfully installed psutil-5.9.4 torch-geometric-2.2.0\n"
          ]
        },
        {
          "output_type": "display_data",
          "data": {
            "application/vnd.colab-display-data+json": {
              "pip_warning": {
                "packages": [
                  "psutil"
                ]
              }
            }
          },
          "metadata": {}
        },
        {
          "output_type": "stream",
          "name": "stdout",
          "text": [
            "Looking in indexes: https://pypi.org/simple, https://us-python.pkg.dev/colab-wheels/public/simple/\n",
            "Looking in links: https://data.pyg.org/whl/torch-1.13.0+cu116.html\n",
            "Collecting torch-cluster\n",
            "  Downloading https://data.pyg.org/whl/torch-1.13.0%2Bcu116/torch_cluster-1.6.0%2Bpt113cu116-cp38-cp38-linux_x86_64.whl (3.2 MB)\n",
            "\u001b[2K     \u001b[90m━━━━━━━━━━━━━━━━━━━━━━━━━━━━━━━━━━━━━━━━\u001b[0m \u001b[32m3.2/3.2 MB\u001b[0m \u001b[31m49.4 MB/s\u001b[0m eta \u001b[36m0:00:00\u001b[0m\n",
            "\u001b[?25hCollecting torch-spline-conv\n",
            "  Downloading https://data.pyg.org/whl/torch-1.13.0%2Bcu116/torch_spline_conv-1.2.1%2Bpt113cu116-cp38-cp38-linux_x86_64.whl (873 kB)\n",
            "\u001b[2K     \u001b[90m━━━━━━━━━━━━━━━━━━━━━━━━━━━━━━━━━━━━━━\u001b[0m \u001b[32m873.9/873.9 KB\u001b[0m \u001b[31m44.3 MB/s\u001b[0m eta \u001b[36m0:00:00\u001b[0m\n",
            "\u001b[?25hRequirement already satisfied: scipy in /usr/local/lib/python3.8/dist-packages (from torch-cluster) (1.7.3)\n",
            "Requirement already satisfied: numpy<1.23.0,>=1.16.5 in /usr/local/lib/python3.8/dist-packages (from scipy->torch-cluster) (1.21.6)\n",
            "Installing collected packages: torch-spline-conv, torch-cluster\n",
            "Successfully installed torch-cluster-1.6.0+pt113cu116 torch-spline-conv-1.2.1+pt113cu116\n"
          ]
        }
      ]
    },
    {
      "cell_type": "code",
      "source": [
        "import torch_geometric"
      ],
      "metadata": {
        "id": "IibwB8xc9fbL"
      },
      "execution_count": 5,
      "outputs": []
    },
    {
      "cell_type": "markdown",
      "source": [
        "# Dataset"
      ],
      "metadata": {
        "id": "itHVOI5VsvN3"
      }
    },
    {
      "cell_type": "markdown",
      "source": [
        "## Dataset DBLP"
      ],
      "metadata": {
        "id": "6HsoWndJ8JHb"
      }
    },
    {
      "cell_type": "markdown",
      "source": [
        "### Load"
      ],
      "metadata": {
        "id": "VbFjHPhOFjSg"
      }
    },
    {
      "cell_type": "code",
      "source": [
        "from torch_geometric.datasets.dblp import DBLP"
      ],
      "metadata": {
        "id": "M7BzI6Ul9of7"
      },
      "execution_count": 36,
      "outputs": []
    },
    {
      "cell_type": "code",
      "source": [
        "dblp = DBLP(\"/content\")"
      ],
      "metadata": {
        "colab": {
          "base_uri": "https://localhost:8080/"
        },
        "id": "Z4UxYt6e9xGR",
        "outputId": "04ff884d-ea9a-4546-8a79-f1dedc97e5cd"
      },
      "execution_count": 37,
      "outputs": [
        {
          "output_type": "stream",
          "name": "stderr",
          "text": [
            "Downloading https://www.dropbox.com/s/yh4grpeks87ugr2/DBLP_processed.zip?dl=1\n",
            "Extracting /content/raw/DBLP_processed.zip\n",
            "Processing...\n",
            "Done!\n"
          ]
        }
      ]
    },
    {
      "cell_type": "markdown",
      "source": [
        "### Overview"
      ],
      "metadata": {
        "id": "Xkl_zfnHFhyN"
      }
    },
    {
      "cell_type": "code",
      "source": [
        "# Source: https://github.com/pyg-team/pytorch_geometric/blob/master/torch_geometric/datasets/dblp.py"
      ],
      "metadata": {
        "id": "bxGf58v6aDpF"
      },
      "execution_count": null,
      "outputs": []
    },
    {
      "cell_type": "code",
      "source": [
        "dblp.data"
      ],
      "metadata": {
        "colab": {
          "base_uri": "https://localhost:8080/"
        },
        "id": "IznadPNZ__4s",
        "outputId": "63979ad9-aa53-47d2-d28a-d54e46b834c3"
      },
      "execution_count": null,
      "outputs": [
        {
          "output_type": "execute_result",
          "data": {
            "text/plain": [
              "HeteroData(\n",
              "  \u001b[1mauthor\u001b[0m={\n",
              "    x=[4057, 334],\n",
              "    y=[4057],\n",
              "    train_mask=[4057],\n",
              "    val_mask=[4057],\n",
              "    test_mask=[4057]\n",
              "  },\n",
              "  \u001b[1mpaper\u001b[0m={ x=[14328, 4231] },\n",
              "  \u001b[1mterm\u001b[0m={ x=[7723, 50] },\n",
              "  \u001b[1mconference\u001b[0m={ num_nodes=20 },\n",
              "  \u001b[1m(author, to, paper)\u001b[0m={ edge_index=[2, 19645] },\n",
              "  \u001b[1m(paper, to, author)\u001b[0m={ edge_index=[2, 19645] },\n",
              "  \u001b[1m(paper, to, term)\u001b[0m={ edge_index=[2, 85810] },\n",
              "  \u001b[1m(paper, to, conference)\u001b[0m={ edge_index=[2, 14328] },\n",
              "  \u001b[1m(term, to, paper)\u001b[0m={ edge_index=[2, 85810] },\n",
              "  \u001b[1m(conference, to, paper)\u001b[0m={ edge_index=[2, 14328] }\n",
              ")"
            ]
          },
          "metadata": {},
          "execution_count": 9
        }
      ]
    },
    {
      "cell_type": "code",
      "source": [
        "dblp.num_edge_features"
      ],
      "metadata": {
        "colab": {
          "base_uri": "https://localhost:8080/"
        },
        "id": "rZtsPk5MoRlA",
        "outputId": "7298b41b-30e7-4fa9-e78b-552bae36a97b"
      },
      "execution_count": null,
      "outputs": [
        {
          "output_type": "execute_result",
          "data": {
            "text/plain": [
              "{('author', 'to', 'paper'): 0,\n",
              " ('paper', 'to', 'author'): 0,\n",
              " ('paper', 'to', 'term'): 0,\n",
              " ('paper', 'to', 'conference'): 0,\n",
              " ('term', 'to', 'paper'): 0,\n",
              " ('conference', 'to', 'paper'): 0}"
            ]
          },
          "metadata": {},
          "execution_count": 10
        }
      ]
    },
    {
      "cell_type": "code",
      "source": [
        "dblp.num_features"
      ],
      "metadata": {
        "colab": {
          "base_uri": "https://localhost:8080/"
        },
        "id": "Q_P4uvZroX7-",
        "outputId": "69869cc9-8702-4b46-df5e-0c786f52e3b1"
      },
      "execution_count": null,
      "outputs": [
        {
          "output_type": "execute_result",
          "data": {
            "text/plain": [
              "{'author': 334, 'paper': 4231, 'term': 50, 'conference': 0}"
            ]
          },
          "metadata": {},
          "execution_count": 12
        }
      ]
    },
    {
      "cell_type": "code",
      "source": [
        "dblp.data['author']"
      ],
      "metadata": {
        "colab": {
          "base_uri": "https://localhost:8080/"
        },
        "id": "E5M0Em8qAlzn",
        "outputId": "9038f421-d8ba-4484-9bac-2cb281738bfd"
      },
      "execution_count": null,
      "outputs": [
        {
          "output_type": "execute_result",
          "data": {
            "text/plain": [
              "{'x': tensor([[0., 0., 1.,  ..., 0., 0., 0.],\n",
              "        [0., 0., 0.,  ..., 0., 0., 0.],\n",
              "        [0., 0., 0.,  ..., 0., 0., 0.],\n",
              "        ...,\n",
              "        [0., 0., 0.,  ..., 0., 0., 0.],\n",
              "        [0., 0., 0.,  ..., 0., 0., 0.],\n",
              "        [0., 0., 0.,  ..., 0., 0., 0.]]), 'y': tensor([2, 2, 3,  ..., 0, 0, 0]), 'train_mask': tensor([False, False, False,  ..., False, False, False]), 'val_mask': tensor([False, False,  True,  ..., False, False, False]), 'test_mask': tensor([ True,  True, False,  ...,  True,  True,  True])}"
            ]
          },
          "metadata": {},
          "execution_count": 13
        }
      ]
    },
    {
      "cell_type": "code",
      "source": [
        "dblp.data['paper']"
      ],
      "metadata": {
        "colab": {
          "base_uri": "https://localhost:8080/"
        },
        "id": "5rxesw-2uK_E",
        "outputId": "2b2b26a1-e0d5-498e-e02b-702ffe73b40e"
      },
      "execution_count": null,
      "outputs": [
        {
          "output_type": "execute_result",
          "data": {
            "text/plain": [
              "{'x': tensor([[0., 0., 0.,  ..., 0., 0., 0.],\n",
              "        [0., 0., 0.,  ..., 0., 0., 0.],\n",
              "        [0., 0., 0.,  ..., 0., 0., 0.],\n",
              "        ...,\n",
              "        [0., 0., 0.,  ..., 0., 0., 0.],\n",
              "        [0., 0., 0.,  ..., 0., 0., 0.],\n",
              "        [0., 0., 0.,  ..., 0., 0., 0.]])}"
            ]
          },
          "metadata": {},
          "execution_count": 28
        }
      ]
    },
    {
      "cell_type": "code",
      "source": [
        "set(dblp.data['author'][\"y\"].numpy())"
      ],
      "metadata": {
        "colab": {
          "base_uri": "https://localhost:8080/"
        },
        "id": "IblNsyoKBj_c",
        "outputId": "708802f9-9965-4424-95f4-3844b6cb4dbf"
      },
      "execution_count": null,
      "outputs": [
        {
          "output_type": "execute_result",
          "data": {
            "text/plain": [
              "{0, 1, 2, 3}"
            ]
          },
          "metadata": {},
          "execution_count": 28
        }
      ]
    },
    {
      "cell_type": "code",
      "source": [
        "(sum(dblp.data['author'][\"train_mask\"].numpy()), sum(dblp.data['author'][\"test_mask\"].numpy()), sum(dblp.data['author'][\"val_mask\"].numpy()))"
      ],
      "metadata": {
        "colab": {
          "base_uri": "https://localhost:8080/"
        },
        "id": "EsJtX_yYpH_A",
        "outputId": "c23f19c0-cc6f-46db-b0c8-e14a0f309a56"
      },
      "execution_count": null,
      "outputs": [
        {
          "output_type": "execute_result",
          "data": {
            "text/plain": [
              "(400, 3257, 400)"
            ]
          },
          "metadata": {},
          "execution_count": 149
        }
      ]
    },
    {
      "cell_type": "code",
      "source": [
        "dblp.num_features"
      ],
      "metadata": {
        "colab": {
          "base_uri": "https://localhost:8080/"
        },
        "id": "ESSUjeGJF68M",
        "outputId": "6b5c381f-346e-42f0-d1bc-b7eca03d3437"
      },
      "execution_count": null,
      "outputs": [
        {
          "output_type": "execute_result",
          "data": {
            "text/plain": [
              "{'author': 334, 'paper': 4231, 'term': 50, 'conference': 0, 'y': 0}"
            ]
          },
          "metadata": {},
          "execution_count": 29
        }
      ]
    },
    {
      "cell_type": "code",
      "source": [
        "dblp.data['author'].num_features"
      ],
      "metadata": {
        "colab": {
          "base_uri": "https://localhost:8080/"
        },
        "id": "cf50N_zgGbFp",
        "outputId": "4a83dce5-d469-4b54-ccd5-0f6501d9dea7"
      },
      "execution_count": null,
      "outputs": [
        {
          "output_type": "execute_result",
          "data": {
            "text/plain": [
              "334"
            ]
          },
          "metadata": {},
          "execution_count": 35
        }
      ]
    },
    {
      "cell_type": "markdown",
      "source": [
        "### Create Needed Features"
      ],
      "metadata": {
        "id": "q6v2N9gN1svu"
      }
    },
    {
      "cell_type": "code",
      "source": [
        "author_x = dblp.data[\"author\"].x"
      ],
      "metadata": {
        "id": "uv4vKmyfGAoc"
      },
      "execution_count": null,
      "outputs": []
    },
    {
      "cell_type": "code",
      "source": [
        "pta_edges = dblp[0].edge_index_dict[('paper','to','author')]\n",
        "paper_auther_data = pd.DataFrame(pta_edges.numpy().T, columns=[\"paper\", \"author\"])"
      ],
      "metadata": {
        "id": "HRm92A8UyUS0"
      },
      "execution_count": null,
      "outputs": []
    },
    {
      "cell_type": "code",
      "source": [
        "author_edges = []\n",
        "for authors in paper_auther_data.groupby(\"paper\")[\"author\"].apply(np.array):\n",
        "  for author1 in authors:\n",
        "    for author2 in authors:\n",
        "      if author1==author2:continue\n",
        "      author_edges.append([author1, author2])\n",
        "\n",
        "author_edges = torch.Tensor(np.array(author_edges).T).to(torch.long)"
      ],
      "metadata": {
        "id": "NtMV024ry_79"
      },
      "execution_count": null,
      "outputs": []
    },
    {
      "cell_type": "markdown",
      "source": [
        "## Dataset PubMed"
      ],
      "metadata": {
        "id": "VIbw3edf8SFR"
      }
    },
    {
      "cell_type": "code",
      "source": [
        "from torch_geometric.datasets.planetoid import Planetoid"
      ],
      "metadata": {
        "id": "055dYQgS5pkg"
      },
      "execution_count": 43,
      "outputs": []
    },
    {
      "cell_type": "code",
      "source": [
        "planetoid = Planetoid(\"/content/planetoid\", name=\"PubMed\")"
      ],
      "metadata": {
        "id": "OSBf7H6K6V2K"
      },
      "execution_count": 56,
      "outputs": []
    },
    {
      "cell_type": "code",
      "source": [
        "dataset = planetoid[0]"
      ],
      "metadata": {
        "id": "s1zhgkCs6nCg"
      },
      "execution_count": 57,
      "outputs": []
    },
    {
      "cell_type": "code",
      "source": [
        "dataset"
      ],
      "metadata": {
        "colab": {
          "base_uri": "https://localhost:8080/"
        },
        "id": "sa-MnxuZ88ge",
        "outputId": "3b7f0826-95a5-4d6a-d0fb-3b2436df7d47"
      },
      "execution_count": 58,
      "outputs": [
        {
          "output_type": "execute_result",
          "data": {
            "text/plain": [
              "Data(x=[19717, 500], edge_index=[2, 88648], y=[19717], train_mask=[19717], val_mask=[19717], test_mask=[19717])"
            ]
          },
          "metadata": {},
          "execution_count": 58
        }
      ]
    },
    {
      "cell_type": "code",
      "source": [
        "set(dataset[\"y\"].numpy())"
      ],
      "metadata": {
        "colab": {
          "base_uri": "https://localhost:8080/"
        },
        "id": "d1RBCVns8-Mf",
        "outputId": "86460d7d-ddee-4fbb-8943-601a775c0320"
      },
      "execution_count": 51,
      "outputs": [
        {
          "output_type": "execute_result",
          "data": {
            "text/plain": [
              "{0, 1, 2}"
            ]
          },
          "metadata": {},
          "execution_count": 51
        }
      ]
    },
    {
      "cell_type": "code",
      "source": [
        "dataset.num_features"
      ],
      "metadata": {
        "colab": {
          "base_uri": "https://localhost:8080/"
        },
        "id": "rBHayla99Kb2",
        "outputId": "bfe79f06-4d48-4594-cd10-df064bb0191b"
      },
      "execution_count": 59,
      "outputs": [
        {
          "output_type": "execute_result",
          "data": {
            "text/plain": [
              "500"
            ]
          },
          "metadata": {},
          "execution_count": 59
        }
      ]
    },
    {
      "cell_type": "code",
      "source": [
        "dataset.num_edge_features"
      ],
      "metadata": {
        "colab": {
          "base_uri": "https://localhost:8080/"
        },
        "id": "ihLESSeT9NO1",
        "outputId": "0cd08720-0683-47eb-beb1-5f7c735a47d2"
      },
      "execution_count": 60,
      "outputs": [
        {
          "output_type": "execute_result",
          "data": {
            "text/plain": [
              "0"
            ]
          },
          "metadata": {},
          "execution_count": 60
        }
      ]
    },
    {
      "cell_type": "code",
      "source": [
        "dataset.edge_index"
      ],
      "metadata": {
        "colab": {
          "base_uri": "https://localhost:8080/"
        },
        "id": "Az8Fif_f9cb1",
        "outputId": "02daa7ec-c2dd-48b9-957f-7aa7cf0a9be4"
      },
      "execution_count": 61,
      "outputs": [
        {
          "output_type": "execute_result",
          "data": {
            "text/plain": [
              "tensor([[    0,     0,     0,  ..., 19714, 19715, 19716],\n",
              "        [ 1378,  1544,  6092,  ..., 12278,  4284, 16030]])"
            ]
          },
          "metadata": {},
          "execution_count": 61
        }
      ]
    },
    {
      "cell_type": "markdown",
      "source": [
        "# GCN"
      ],
      "metadata": {
        "id": "_OwTbqoiFmc6"
      }
    },
    {
      "cell_type": "code",
      "source": [
        "# Source: https://github.com/pyg-team/pytorch_geometric/blob/master/examples/gcn.py\n",
        "from torch_geometric.nn import GCNConv\n",
        "\n",
        "dataset = dblp\n",
        "\n",
        "class GCN(torch.nn.Module):\n",
        "    def __init__(self, dimentions, number_gcn, number_fc):\n",
        "        super().__init__()\n",
        "        assert(len(dimentions) == number_gcn+number_fc+1)\n",
        "        self.number_gcn = number_gcn\n",
        "        self.number_fc = number_fc\n",
        "        self.layers_gcn = []\n",
        "        self.layers_fc = []\n",
        "\n",
        "        for in_dim, out_dim in zip(dimentions[:number_gcn],\n",
        "                                   dimentions[1:number_gcn+1]):\n",
        "          \n",
        "          self.layers_gcn.append(GCNConv(in_dim, out_dim))\n",
        "          \n",
        "        self.layers_gcn = torch.nn.ModuleList(self.layers_gcn)\n",
        "        \n",
        "        for in_dim, out_dim in zip(dimentions[number_gcn:],\n",
        "                                   dimentions[number_gcn+1:]):\n",
        "          \n",
        "          self.layers_fc.append(Linear(in_dim, out_dim))\n",
        "        \n",
        "        self.layers_fc = torch.nn.ModuleList(self.layers_fc)\n",
        "        \n",
        "\n",
        "    def forward(self, x: Tensor, edge_index: Tensor) -> Tensor:\n",
        "        for i in range(self.number_gcn):\n",
        "          x = self.layers_gcn[i](x, edge_index).relu()\n",
        "\n",
        "        for i in range(self.number_fc):\n",
        "          x = self.layers_fc[i](x).sigmoid()\n",
        "\n",
        "        return x"
      ],
      "metadata": {
        "id": "lxDlbNCOFpr7"
      },
      "execution_count": 52,
      "outputs": []
    },
    {
      "cell_type": "code",
      "source": [
        "model = GCN([dataset.num_features, 64, 32, 16, 3], 2, 2)"
      ],
      "metadata": {
        "id": "i9j-ARDt9FUH"
      },
      "execution_count": 62,
      "outputs": []
    },
    {
      "cell_type": "code",
      "source": [
        "import torch.nn.functional as F\n",
        "\n",
        "optimizer = torch.optim.Adam(model.parameters(), lr=0.01)\n",
        "\n",
        "for epoch in range(200):\n",
        "    pred = model(dataset.x, dataset.edge_index)\n",
        "    loss = F.cross_entropy(pred[dataset.train_mask], dataset.y[dataset.train_mask])\n",
        "\n",
        "    # Backpropagation\n",
        "    optimizer.zero_grad()\n",
        "    loss.backward()\n",
        "    optimizer.step()"
      ],
      "metadata": {
        "id": "uPOwvB0nGLKs"
      },
      "execution_count": 65,
      "outputs": []
    },
    {
      "cell_type": "code",
      "source": [
        "with torch.no_grad():\n",
        "  pred = model(dataset.x, dataset.edge_index).argmax(dim=-1)\n",
        "\n",
        "accs = []\n",
        "for mask in [dataset.train_mask, dataset.val_mask, dataset.test_mask]:\n",
        "    accs.append(int((pred[mask] == dataset.y[mask]).sum()) / int(mask.sum()))\n",
        "\n",
        "print(accs)"
      ],
      "metadata": {
        "id": "Wiyg4N3LHgB2",
        "colab": {
          "base_uri": "https://localhost:8080/"
        },
        "outputId": "a7784e60-158f-4c20-c75d-5555c8221ae8"
      },
      "execution_count": 67,
      "outputs": [
        {
          "output_type": "stream",
          "name": "stdout",
          "text": [
            "[1.0, 0.768, 0.758]\n"
          ]
        }
      ]
    },
    {
      "cell_type": "markdown",
      "source": [
        "# GAT"
      ],
      "metadata": {
        "id": "I8MLzopqYfPt"
      }
    },
    {
      "cell_type": "code",
      "source": [
        "# Source: https://github.com/pyg-team/pytorch_geometric/blob/master/examples/gat.py\n",
        "\n",
        "from torch_geometric.nn import GATConv\n",
        "\n",
        "class GAT(torch.nn.Module):\n",
        "    def __init__(self, in_channels, hidden_channels, out_channels, heads):\n",
        "        super().__init__()\n",
        "        self.conv1 = GATConv(in_channels, hidden_channels, heads, dropout=0.6)\n",
        "        self.conv2 = GATConv(hidden_channels * heads, out_channels, heads=1,\n",
        "                             concat=False, dropout=0.6)\n",
        "\n",
        "    def forward(self, x, edge_index):\n",
        "        x = F.dropout(x, p=0.6, training=self.training)\n",
        "        x = F.elu(self.conv1(x, edge_index))\n",
        "        x = F.dropout(x, p=0.6, training=self.training)\n",
        "        x = self.conv2(x, edge_index)\n",
        "        return x"
      ],
      "metadata": {
        "id": "0kn27p1KYgYU"
      },
      "execution_count": null,
      "outputs": []
    },
    {
      "cell_type": "code",
      "source": [
        "model = GAT(334, 32, 4, 6)"
      ],
      "metadata": {
        "id": "fyWTPwTqahlb"
      },
      "execution_count": null,
      "outputs": []
    },
    {
      "cell_type": "code",
      "source": [
        "model"
      ],
      "metadata": {
        "colab": {
          "base_uri": "https://localhost:8080/"
        },
        "id": "FqyOR9oEbSZb",
        "outputId": "c58520dd-c691-4368-f248-389132ef5bca"
      },
      "execution_count": null,
      "outputs": [
        {
          "output_type": "execute_result",
          "data": {
            "text/plain": [
              "GAT(\n",
              "  (conv1): GATConv(334, 32, heads=6)\n",
              "  (conv2): GATConv(192, 4, heads=1)\n",
              ")"
            ]
          },
          "metadata": {},
          "execution_count": 152
        }
      ]
    },
    {
      "cell_type": "code",
      "source": [
        "import torch.nn.functional as F\n",
        "\n",
        "optimizer = torch.optim.Adam(model.parameters(), lr=0.01)\n",
        "\n",
        "for epoch in range(200):\n",
        "    pred = model(author_x, author_edges)\n",
        "    loss = F.cross_entropy(pred[dblp.data[\"author\"].train_mask], dblp.data[\"author\"].y[dblp.data[\"author\"].train_mask])\n",
        "\n",
        "    # Backpropagation\n",
        "    optimizer.zero_grad()\n",
        "    loss.backward()\n",
        "    optimizer.step()"
      ],
      "metadata": {
        "id": "QTXcEeCybWCI"
      },
      "execution_count": null,
      "outputs": []
    },
    {
      "cell_type": "code",
      "source": [
        "with torch.no_grad():\n",
        "  pred = model(author_x, author_edges).argmax(dim=-1)\n",
        "\n",
        "accs = []\n",
        "for mask in [dblp.data[\"author\"].train_mask, dblp.data[\"author\"].val_mask, dblp.data[\"author\"].test_mask]:\n",
        "    accs.append(int((pred[mask] == dblp.data[\"author\"].y[mask]).sum()) / int(mask.sum()))\n",
        "\n",
        "print(accs)"
      ],
      "metadata": {
        "colab": {
          "base_uri": "https://localhost:8080/"
        },
        "id": "wMwaLfURbWCI",
        "outputId": "eaf01ae6-6e78-4bc1-b4eb-b0b01ebcb983"
      },
      "execution_count": null,
      "outputs": [
        {
          "output_type": "stream",
          "name": "stdout",
          "text": [
            "[0.655, 0.575, 0.5621737795517348]\n"
          ]
        }
      ]
    },
    {
      "cell_type": "markdown",
      "source": [
        "# GAT V2"
      ],
      "metadata": {
        "id": "9BLEvhrGcne5"
      }
    },
    {
      "cell_type": "code",
      "source": [
        "from torch_geometric.nn import GATv2Conv\n",
        "\n",
        "class GATv2(torch.nn.Module):\n",
        "    def __init__(self, in_channels, hidden_channels, out_channels, heads):\n",
        "        super().__init__()\n",
        "        self.conv1 = GATv2Conv(in_channels, hidden_channels, heads, dropout=0.6)\n",
        "        self.conv2 = GATv2Conv(hidden_channels * heads, out_channels, heads=1,\n",
        "                               concat=False, dropout=0.6)\n",
        "\n",
        "    def forward(self, x, edge_index):\n",
        "        x = F.dropout(x, p=0.6, training=self.training)\n",
        "        x = F.elu(self.conv1(x, edge_index))\n",
        "        x = F.dropout(x, p=0.6, training=self.training)\n",
        "        x = self.conv2(x, edge_index)\n",
        "        return x"
      ],
      "metadata": {
        "id": "EGy3clsbbbyy"
      },
      "execution_count": 31,
      "outputs": []
    },
    {
      "cell_type": "code",
      "source": [
        "model = GATv2(334, 32, 4, 6)"
      ],
      "metadata": {
        "id": "tW9cN9Eizs_P"
      },
      "execution_count": 32,
      "outputs": []
    },
    {
      "cell_type": "code",
      "source": [
        "model"
      ],
      "metadata": {
        "colab": {
          "base_uri": "https://localhost:8080/"
        },
        "outputId": "cdcd596e-877d-4344-e2d6-a3bd1e8dc588",
        "id": "8moxSjuBzs_Q"
      },
      "execution_count": 33,
      "outputs": [
        {
          "output_type": "execute_result",
          "data": {
            "text/plain": [
              "GATv2(\n",
              "  (conv1): GATv2Conv(334, 32, heads=6)\n",
              "  (conv2): GATv2Conv(192, 4, heads=1)\n",
              ")"
            ]
          },
          "metadata": {},
          "execution_count": 33
        }
      ]
    },
    {
      "cell_type": "code",
      "source": [
        "import torch.nn.functional as F\n",
        "\n",
        "optimizer = torch.optim.Adam(model.parameters(), lr=0.01)\n",
        "\n",
        "for epoch in range(200):\n",
        "    pred = model(author_x, author_edges)\n",
        "    loss = F.cross_entropy(pred[dblp.data[\"author\"].train_mask], dblp.data[\"author\"].y[dblp.data[\"author\"].train_mask])\n",
        "\n",
        "    # Backpropagation\n",
        "    optimizer.zero_grad()\n",
        "    loss.backward()\n",
        "    optimizer.step()"
      ],
      "metadata": {
        "id": "2AXLmeDwzs_R",
        "colab": {
          "base_uri": "https://localhost:8080/",
          "height": 235
        },
        "outputId": "280e4487-2f20-468e-a399-db9d6e5c65ca"
      },
      "execution_count": 34,
      "outputs": [
        {
          "output_type": "error",
          "ename": "NameError",
          "evalue": "ignored",
          "traceback": [
            "\u001b[0;31m---------------------------------------------------------------------------\u001b[0m",
            "\u001b[0;31mNameError\u001b[0m                                 Traceback (most recent call last)",
            "\u001b[0;32m<ipython-input-34-4865785844d5>\u001b[0m in \u001b[0;36m<module>\u001b[0;34m\u001b[0m\n\u001b[1;32m      4\u001b[0m \u001b[0;34m\u001b[0m\u001b[0m\n\u001b[1;32m      5\u001b[0m \u001b[0;32mfor\u001b[0m \u001b[0mepoch\u001b[0m \u001b[0;32min\u001b[0m \u001b[0mrange\u001b[0m\u001b[0;34m(\u001b[0m\u001b[0;36m200\u001b[0m\u001b[0;34m)\u001b[0m\u001b[0;34m:\u001b[0m\u001b[0;34m\u001b[0m\u001b[0;34m\u001b[0m\u001b[0m\n\u001b[0;32m----> 6\u001b[0;31m     \u001b[0mpred\u001b[0m \u001b[0;34m=\u001b[0m \u001b[0mmodel\u001b[0m\u001b[0;34m(\u001b[0m\u001b[0mauthor_x\u001b[0m\u001b[0;34m,\u001b[0m \u001b[0mauthor_edges\u001b[0m\u001b[0;34m)\u001b[0m\u001b[0;34m\u001b[0m\u001b[0;34m\u001b[0m\u001b[0m\n\u001b[0m\u001b[1;32m      7\u001b[0m     \u001b[0mloss\u001b[0m \u001b[0;34m=\u001b[0m \u001b[0mF\u001b[0m\u001b[0;34m.\u001b[0m\u001b[0mcross_entropy\u001b[0m\u001b[0;34m(\u001b[0m\u001b[0mpred\u001b[0m\u001b[0;34m[\u001b[0m\u001b[0mdblp\u001b[0m\u001b[0;34m.\u001b[0m\u001b[0mdata\u001b[0m\u001b[0;34m[\u001b[0m\u001b[0;34m\"author\"\u001b[0m\u001b[0;34m]\u001b[0m\u001b[0;34m.\u001b[0m\u001b[0mtrain_mask\u001b[0m\u001b[0;34m]\u001b[0m\u001b[0;34m,\u001b[0m \u001b[0mdblp\u001b[0m\u001b[0;34m.\u001b[0m\u001b[0mdata\u001b[0m\u001b[0;34m[\u001b[0m\u001b[0;34m\"author\"\u001b[0m\u001b[0;34m]\u001b[0m\u001b[0;34m.\u001b[0m\u001b[0my\u001b[0m\u001b[0;34m[\u001b[0m\u001b[0mdblp\u001b[0m\u001b[0;34m.\u001b[0m\u001b[0mdata\u001b[0m\u001b[0;34m[\u001b[0m\u001b[0;34m\"author\"\u001b[0m\u001b[0;34m]\u001b[0m\u001b[0;34m.\u001b[0m\u001b[0mtrain_mask\u001b[0m\u001b[0;34m]\u001b[0m\u001b[0;34m)\u001b[0m\u001b[0;34m\u001b[0m\u001b[0;34m\u001b[0m\u001b[0m\n\u001b[1;32m      8\u001b[0m \u001b[0;34m\u001b[0m\u001b[0m\n",
            "\u001b[0;31mNameError\u001b[0m: name 'author_x' is not defined"
          ]
        }
      ]
    },
    {
      "cell_type": "code",
      "source": [
        "with torch.no_grad():\n",
        "  pred = model(author_x, author_edges).argmax(dim=-1)\n",
        "\n",
        "accs = []\n",
        "for mask in [dblp.data[\"author\"].train_mask, dblp.data[\"author\"].val_mask, dblp.data[\"author\"].test_mask]:\n",
        "    accs.append(int((pred[mask] == dblp.data[\"author\"].y[mask]).sum()) / int(mask.sum()))\n",
        "\n",
        "print(accs)"
      ],
      "metadata": {
        "colab": {
          "base_uri": "https://localhost:8080/",
          "height": 235
        },
        "outputId": "6fd831d1-faff-4d6b-e0ab-11cae10131b0",
        "id": "02WoJ4pZzs_S"
      },
      "execution_count": 35,
      "outputs": [
        {
          "output_type": "error",
          "ename": "NameError",
          "evalue": "ignored",
          "traceback": [
            "\u001b[0;31m---------------------------------------------------------------------------\u001b[0m",
            "\u001b[0;31mNameError\u001b[0m                                 Traceback (most recent call last)",
            "\u001b[0;32m<ipython-input-35-9b9f56c329f4>\u001b[0m in \u001b[0;36m<module>\u001b[0;34m\u001b[0m\n\u001b[1;32m      1\u001b[0m \u001b[0;32mwith\u001b[0m \u001b[0mtorch\u001b[0m\u001b[0;34m.\u001b[0m\u001b[0mno_grad\u001b[0m\u001b[0;34m(\u001b[0m\u001b[0;34m)\u001b[0m\u001b[0;34m:\u001b[0m\u001b[0;34m\u001b[0m\u001b[0;34m\u001b[0m\u001b[0m\n\u001b[0;32m----> 2\u001b[0;31m   \u001b[0mpred\u001b[0m \u001b[0;34m=\u001b[0m \u001b[0mmodel\u001b[0m\u001b[0;34m(\u001b[0m\u001b[0mauthor_x\u001b[0m\u001b[0;34m,\u001b[0m \u001b[0mauthor_edges\u001b[0m\u001b[0;34m)\u001b[0m\u001b[0;34m.\u001b[0m\u001b[0margmax\u001b[0m\u001b[0;34m(\u001b[0m\u001b[0mdim\u001b[0m\u001b[0;34m=\u001b[0m\u001b[0;34m-\u001b[0m\u001b[0;36m1\u001b[0m\u001b[0;34m)\u001b[0m\u001b[0;34m\u001b[0m\u001b[0;34m\u001b[0m\u001b[0m\n\u001b[0m\u001b[1;32m      3\u001b[0m \u001b[0;34m\u001b[0m\u001b[0m\n\u001b[1;32m      4\u001b[0m \u001b[0maccs\u001b[0m \u001b[0;34m=\u001b[0m \u001b[0;34m[\u001b[0m\u001b[0;34m]\u001b[0m\u001b[0;34m\u001b[0m\u001b[0;34m\u001b[0m\u001b[0m\n\u001b[1;32m      5\u001b[0m \u001b[0;32mfor\u001b[0m \u001b[0mmask\u001b[0m \u001b[0;32min\u001b[0m \u001b[0;34m[\u001b[0m\u001b[0mdblp\u001b[0m\u001b[0;34m.\u001b[0m\u001b[0mdata\u001b[0m\u001b[0;34m[\u001b[0m\u001b[0;34m\"author\"\u001b[0m\u001b[0;34m]\u001b[0m\u001b[0;34m.\u001b[0m\u001b[0mtrain_mask\u001b[0m\u001b[0;34m,\u001b[0m \u001b[0mdblp\u001b[0m\u001b[0;34m.\u001b[0m\u001b[0mdata\u001b[0m\u001b[0;34m[\u001b[0m\u001b[0;34m\"author\"\u001b[0m\u001b[0;34m]\u001b[0m\u001b[0;34m.\u001b[0m\u001b[0mval_mask\u001b[0m\u001b[0;34m,\u001b[0m \u001b[0mdblp\u001b[0m\u001b[0;34m.\u001b[0m\u001b[0mdata\u001b[0m\u001b[0;34m[\u001b[0m\u001b[0;34m\"author\"\u001b[0m\u001b[0;34m]\u001b[0m\u001b[0;34m.\u001b[0m\u001b[0mtest_mask\u001b[0m\u001b[0;34m]\u001b[0m\u001b[0;34m:\u001b[0m\u001b[0;34m\u001b[0m\u001b[0;34m\u001b[0m\u001b[0m\n",
            "\u001b[0;31mNameError\u001b[0m: name 'author_x' is not defined"
          ]
        }
      ]
    },
    {
      "cell_type": "markdown",
      "source": [
        "# GAT V2 Editted"
      ],
      "metadata": {
        "id": "cizO7OEt9_z7"
      }
    },
    {
      "cell_type": "markdown",
      "source": [
        "\\begin{equation}\n",
        "\\mathbf{x}^{\\prime}_i = \\alpha_{i,i}\\mathbf{\\Theta}\\mathbf{x}_{i} +\n",
        "\\sum_{j \\in \\mathcal{N}(i)} \\alpha_{i,j}\\mathbf{\\Theta}\\mathbf{x}_{j}\n",
        "\\end{equation}\n",
        "\n",
        "\\begin{equation}\n",
        "alpha_{i,j} =\n",
        "        \\frac{\n",
        "        \\exp\\left(\\mathbf{a}^{\\top}\\mathrm{LeakyReLU}\\left(\\mathbf{\\Theta}\n",
        "        [\\mathbf{x}_i \\, \\Vert \\, \\mathbf{x}_j]\n",
        "        \\right)\\right)}\n",
        "        {\\sum_{k \\in \\mathcal{N}(i) \\cup \\{ i \\}}\n",
        "        \\exp\\left(\\mathbf{a}^{\\top}\\mathrm{LeakyReLU}\\left(\\mathbf{\\Theta}\n",
        "        [\\mathbf{x}_i \\, \\Vert \\, \\mathbf{x}_k]\n",
        "        \\right)\\right)}.\n",
        "\\end{equation}\n",
        "\n",
        "\\begin{equation}\n",
        "\\alpha_{i,j} =\n",
        "        \\frac{\n",
        "        \\exp\\left(\\mathbf{a}^{\\top}\\mathrm{LeakyReLU}\\left(\\mathbf{\\Theta}\n",
        "        [\\mathbf{x}_i \\, \\Vert \\, \\mathbf{x}_j \\, \\Vert \\, \\mathbf{e}_{i,j}]\n",
        "        \\right)\\right)}\n",
        "        {\\sum_{k \\in \\mathcal{N}(i) \\cup \\{ i \\}}\n",
        "        \\exp\\left(\\mathbf{a}^{\\top}\\mathrm{LeakyReLU}\\left(\\mathbf{\\Theta}\n",
        "        [\\mathbf{x}_i \\, \\Vert \\, \\mathbf{x}_k \\, \\Vert \\, \\mathbf{e}_{i,k}]\n",
        "        \\right)\\right)}\n",
        "\\end{equation}"
      ],
      "metadata": {
        "id": "4TCL6s3-je_v"
      }
    },
    {
      "cell_type": "code",
      "source": [
        "# This class is based on this link\n",
        "# https://github.com/pyg-team/pytorch_geometric/blob/master/torch_geometric/nn/conv/gatv2_conv.py\n",
        "\n",
        "from typing import Optional, Tuple, Union\n",
        "\n",
        "import torch\n",
        "import torch.nn.functional as F\n",
        "from torch import Tensor\n",
        "from torch.nn import Parameter\n",
        "\n",
        "from torch_geometric.nn.conv import MessagePassing\n",
        "from torch_geometric.nn.dense.linear import Linear\n",
        "from torch_geometric.nn.inits import glorot, zeros\n",
        "from torch_geometric.typing import (\n",
        "    Adj,\n",
        "    OptTensor,\n",
        "    PairTensor,\n",
        "    SparseTensor,\n",
        ")\n",
        "import torch_sparse\n",
        "from torch_geometric.utils import add_self_loops, remove_self_loops, softmax\n",
        "\n",
        "class GATv2ConvEditted(MessagePassing):\n",
        "    r\"\"\"The GATv2 operator from the `\"How Attentive are Graph Attention\n",
        "    Networks?\" <https://arxiv.org/abs/2105.14491>`_ paper, which fixes the\n",
        "    static attention problem of the standard\n",
        "    :class:`~torch_geometric.conv.GATConv` layer.\n",
        "    Since the linear layers in the standard GAT are applied right after each\n",
        "    other, the ranking of attended nodes is unconditioned on the query node.\n",
        "    In contrast, in :class:`GATv2`, every node can attend to any other node.\n",
        "    .. math::\n",
        "        \\mathbf{x}^{\\prime}_i = \\alpha_{i,i}\\mathbf{\\Theta}\\mathbf{x}_{i} +\n",
        "        \\sum_{j \\in \\mathcal{N}(i)} \\alpha_{i,j}\\mathbf{\\Theta}\\mathbf{x}_{j},\n",
        "    where the attention coefficients :math:`\\alpha_{i,j}` are computed as\n",
        "    .. math::\n",
        "        \\alpha_{i,j} =\n",
        "        \\frac{\n",
        "        \\exp\\left(\\mathbf{a}^{\\top}\\mathrm{LeakyReLU}\\left(\\mathbf{\\Theta}\n",
        "        [\\mathbf{x}_i \\, \\Vert \\, \\mathbf{x}_j]\n",
        "        \\right)\\right)}\n",
        "        {\\sum_{k \\in \\mathcal{N}(i) \\cup \\{ i \\}}\n",
        "        \\exp\\left(\\mathbf{a}^{\\top}\\mathrm{LeakyReLU}\\left(\\mathbf{\\Theta}\n",
        "        [\\mathbf{x}_i \\, \\Vert \\, \\mathbf{x}_k]\n",
        "        \\right)\\right)}.\n",
        "    If the graph has multi-dimensional edge features :math:`\\mathbf{e}_{i,j}`,\n",
        "    the attention coefficients :math:`\\alpha_{i,j}` are computed as\n",
        "    .. math::\n",
        "        \\alpha_{i,j} =\n",
        "        \\frac{\n",
        "        \\exp\\left(\\mathbf{a}^{\\top}\\mathrm{LeakyReLU}\\left(\\mathbf{\\Theta}\n",
        "        [\\mathbf{x}_i \\, \\Vert \\, \\mathbf{x}_j \\, \\Vert \\, \\mathbf{e}_{i,j}]\n",
        "        \\right)\\right)}\n",
        "        {\\sum_{k \\in \\mathcal{N}(i) \\cup \\{ i \\}}\n",
        "        \\exp\\left(\\mathbf{a}^{\\top}\\mathrm{LeakyReLU}\\left(\\mathbf{\\Theta}\n",
        "        [\\mathbf{x}_i \\, \\Vert \\, \\mathbf{x}_k \\, \\Vert \\, \\mathbf{e}_{i,k}]\n",
        "        \\right)\\right)}.\n",
        "    Args:\n",
        "        in_channels (int or tuple): Size of each input sample, or :obj:`-1` to\n",
        "            derive the size from the first input(s) to the forward method.\n",
        "            A tuple corresponds to the sizes of source and target\n",
        "            dimensionalities.\n",
        "        out_channels (int): Size of each output sample.\n",
        "        heads (int, optional): Number of multi-head-attentions.\n",
        "            (default: :obj:`1`)\n",
        "        concat (bool, optional): If set to :obj:`False`, the multi-head\n",
        "            attentions are averaged instead of concatenated.\n",
        "            (default: :obj:`True`)\n",
        "        negative_slope (float, optional): LeakyReLU angle of the negative\n",
        "            slope. (default: :obj:`0.2`)\n",
        "        dropout (float, optional): Dropout probability of the normalized\n",
        "            attention coefficients which exposes each node to a stochastically\n",
        "            sampled neighborhood during training. (default: :obj:`0`)\n",
        "        add_self_loops (bool, optional): If set to :obj:`False`, will not add\n",
        "            self-loops to the input graph. (default: :obj:`True`)\n",
        "        edge_dim (int, optional): Edge feature dimensionality (in case\n",
        "            there are any). (default: :obj:`None`)\n",
        "        fill_value (float or Tensor or str, optional): The way to generate\n",
        "            edge features of self-loops (in case :obj:`edge_dim != None`).\n",
        "            If given as :obj:`float` or :class:`torch.Tensor`, edge features of\n",
        "            self-loops will be directly given by :obj:`fill_value`.\n",
        "            If given as :obj:`str`, edge features of self-loops are computed by\n",
        "            aggregating all features of edges that point to the specific node,\n",
        "            according to a reduce operation. (:obj:`\"add\"`, :obj:`\"mean\"`,\n",
        "            :obj:`\"min\"`, :obj:`\"max\"`, :obj:`\"mul\"`). (default: :obj:`\"mean\"`)\n",
        "        bias (bool, optional): If set to :obj:`False`, the layer will not learn\n",
        "            an additive bias. (default: :obj:`True`)\n",
        "        share_weights (bool, optional): If set to :obj:`True`, the same matrix\n",
        "            will be applied to the source and the target node of every edge.\n",
        "            (default: :obj:`False`)\n",
        "        **kwargs (optional): Additional arguments of\n",
        "            :class:`torch_geometric.nn.conv.MessagePassing`.\n",
        "    Shapes:\n",
        "        - **input:**\n",
        "          node features :math:`(|\\mathcal{V}|, F_{in})` or\n",
        "          :math:`((|\\mathcal{V_s}|, F_{s}), (|\\mathcal{V_t}|, F_{t}))`\n",
        "          if bipartite,\n",
        "          edge indices :math:`(2, |\\mathcal{E}|)`,\n",
        "          edge features :math:`(|\\mathcal{E}|, D)` *(optional)*\n",
        "        - **output:** node features :math:`(|\\mathcal{V}|, H * F_{out})` or\n",
        "          :math:`((|\\mathcal{V}_t|, H * F_{out})` if bipartite.\n",
        "          If :obj:`return_attention_weights=True`, then\n",
        "          :math:`((|\\mathcal{V}|, H * F_{out}),\n",
        "          ((2, |\\mathcal{E}|), (|\\mathcal{E}|, H)))`\n",
        "          or :math:`((|\\mathcal{V_t}|, H * F_{out}), ((2, |\\mathcal{E}|),\n",
        "          (|\\mathcal{E}|, H)))` if bipartite\n",
        "    \"\"\"\n",
        "    _alpha: OptTensor\n",
        "\n",
        "    def __init__(\n",
        "        self,\n",
        "        in_channels: Union[int, Tuple[int, int]],\n",
        "        out_channels: int,\n",
        "        message_operation,\n",
        "        heads: int = 1,\n",
        "        concat: bool = True,\n",
        "        negative_slope: float = 0.2,\n",
        "        dropout: float = 0.0,\n",
        "        add_self_loops: bool = True,\n",
        "        edge_dim: Optional[int] = None,\n",
        "        fill_value: Union[float, Tensor, str] = 'mean',\n",
        "        bias: bool = True,\n",
        "        share_weights: bool = False,\n",
        "        **kwargs,\n",
        "    ):\n",
        "        super().__init__(node_dim=0, **kwargs)\n",
        "\n",
        "        self.in_channels = in_channels\n",
        "        self.out_channels = out_channels\n",
        "        self.message_operation = message_operation\n",
        "        self.heads = heads\n",
        "        self.concat = concat\n",
        "        self.negative_slope = negative_slope\n",
        "        self.dropout = dropout\n",
        "        self.add_self_loops = add_self_loops\n",
        "        self.edge_dim = edge_dim\n",
        "        self.fill_value = fill_value\n",
        "        self.share_weights = share_weights\n",
        "\n",
        "        if isinstance(in_channels, int):\n",
        "            self.lin_l = Linear(in_channels, heads * out_channels, bias=bias,\n",
        "                                weight_initializer='glorot')\n",
        "            if share_weights:\n",
        "                self.lin_r = self.lin_l\n",
        "            else:\n",
        "                self.lin_r = Linear(in_channels, heads * out_channels,\n",
        "                                    bias=bias, weight_initializer='glorot')\n",
        "        else:\n",
        "            self.lin_l = Linear(in_channels[0], heads * out_channels,\n",
        "                                bias=bias, weight_initializer='glorot')\n",
        "            if share_weights:\n",
        "                self.lin_r = self.lin_l\n",
        "            else:\n",
        "                self.lin_r = Linear(in_channels[1], heads * out_channels,\n",
        "                                    bias=bias, weight_initializer='glorot')\n",
        "\n",
        "        self.att = Parameter(torch.Tensor(1, heads, out_channels))\n",
        "\n",
        "        if edge_dim is not None:\n",
        "            self.lin_edge = Linear(edge_dim, heads * out_channels, bias=False,\n",
        "                                   weight_initializer='glorot')\n",
        "        else:\n",
        "            self.lin_edge = None\n",
        "\n",
        "        if bias and concat:\n",
        "            self.bias = Parameter(torch.Tensor(heads * out_channels))\n",
        "        elif bias and not concat:\n",
        "            self.bias = Parameter(torch.Tensor(out_channels))\n",
        "        else:\n",
        "            self.register_parameter('bias', None)\n",
        "\n",
        "        self._alpha = None\n",
        "\n",
        "        self.reset_parameters()\n",
        "\n",
        "    def reset_parameters(self):\n",
        "        self.lin_l.reset_parameters()\n",
        "        self.lin_r.reset_parameters()\n",
        "        if self.lin_edge is not None:\n",
        "            self.lin_edge.reset_parameters()\n",
        "        glorot(self.att)\n",
        "        zeros(self.bias)\n",
        "\n",
        "    def forward(self, x: Union[Tensor, PairTensor], edge_index: Adj,\n",
        "                edge_attr: OptTensor = None,\n",
        "                return_attention_weights: bool = None):\n",
        "        # type: (Union[Tensor, PairTensor], Tensor, OptTensor, NoneType) -> Tensor  # noqa\n",
        "        # type: (Union[Tensor, PairTensor], SparseTensor, OptTensor, NoneType) -> Tensor  # noqa\n",
        "        # type: (Union[Tensor, PairTensor], Tensor, OptTensor, bool) -> Tuple[Tensor, Tuple[Tensor, Tensor]]  # noqa\n",
        "        # type: (Union[Tensor, PairTensor], SparseTensor, OptTensor, bool) -> Tuple[Tensor, SparseTensor]  # noqa\n",
        "        r\"\"\"\n",
        "        Args:\n",
        "            return_attention_weights (bool, optional): If set to :obj:`True`,\n",
        "                will additionally return the tuple\n",
        "                :obj:`(edge_index, attention_weights)`, holding the computed\n",
        "                attention weights for each edge. (default: :obj:`None`)\n",
        "        \"\"\"\n",
        "        H, C = self.heads, self.out_channels\n",
        "\n",
        "        x_l: OptTensor = None\n",
        "        x_r: OptTensor = None\n",
        "        if isinstance(x, Tensor):\n",
        "            assert x.dim() == 2\n",
        "            x_l = self.lin_l(x).view(-1, H, C)\n",
        "            if self.share_weights:\n",
        "                x_r = x_l\n",
        "            else:\n",
        "                x_r = self.lin_r(x).view(-1, H, C)\n",
        "        else:\n",
        "            x_l, x_r = x[0], x[1]\n",
        "            assert x[0].dim() == 2\n",
        "            x_l = self.lin_l(x_l).view(-1, H, C)\n",
        "            if x_r is not None:\n",
        "                x_r = self.lin_r(x_r).view(-1, H, C)\n",
        "\n",
        "        assert x_l is not None\n",
        "        assert x_r is not None\n",
        "\n",
        "        if self.add_self_loops:\n",
        "            if isinstance(edge_index, Tensor):\n",
        "                num_nodes = x_l.size(0)\n",
        "                if x_r is not None:\n",
        "                    num_nodes = min(num_nodes, x_r.size(0))\n",
        "                edge_index, edge_attr = remove_self_loops(\n",
        "                    edge_index, edge_attr)\n",
        "                edge_index, edge_attr = add_self_loops(\n",
        "                    edge_index, edge_attr, fill_value=self.fill_value,\n",
        "                    num_nodes=num_nodes)\n",
        "            elif isinstance(edge_index, SparseTensor):\n",
        "                if self.edge_dim is None:\n",
        "                    edge_index = torch_sparse.set_diag(edge_index)\n",
        "                else:\n",
        "                    raise NotImplementedError(\n",
        "                        \"The usage of 'edge_attr' and 'add_self_loops' \"\n",
        "                        \"simultaneously is currently not yet supported for \"\n",
        "                        \"'edge_index' in a 'SparseTensor' form\")\n",
        "\n",
        "        # propagate_type: (x: PairTensor, edge_attr: OptTensor)\n",
        "        out = self.propagate(edge_index, x=(x_l, x_r), edge_attr=edge_attr,\n",
        "                             size=None)\n",
        "\n",
        "        alpha = self._alpha\n",
        "        self._alpha = None\n",
        "\n",
        "        if self.concat:\n",
        "            out = out.view(-1, self.heads * self.out_channels)\n",
        "        else:\n",
        "            out = out.mean(dim=1)\n",
        "\n",
        "        if self.bias is not None:\n",
        "            out = out + self.bias\n",
        "\n",
        "        if isinstance(return_attention_weights, bool):\n",
        "            assert alpha is not None\n",
        "            if isinstance(edge_index, Tensor):\n",
        "                return out, (edge_index, alpha)\n",
        "            elif isinstance(edge_index, SparseTensor):\n",
        "                return out, edge_index.set_value(alpha, layout='coo')\n",
        "        else:\n",
        "            return out\n",
        "\n",
        "    def message(self, x_j: Tensor, x_i: Tensor, edge_attr: OptTensor,\n",
        "                index: Tensor, ptr: OptTensor,\n",
        "                size_i: Optional[int]) -> Tensor:\n",
        "        \n",
        "        ### Old Code:\n",
        "        #\n",
        "        # x = x_i + x_j\n",
        "        x = self.message_operation(x_i, x_j)\n",
        "\n",
        "        if edge_attr is not None:\n",
        "            raise NotImplementedError\n",
        "            ### Old Code:\n",
        "            #\n",
        "            # if edge_attr.dim() == 1:\n",
        "            #     edge_attr = edge_attr.view(-1, 1)\n",
        "            # assert self.lin_edge is not None\n",
        "            # edge_attr = self.lin_edge(edge_attr)\n",
        "            # edge_attr = edge_attr.view(-1, self.heads, self.out_channels)\n",
        "            # x = x + edge_attr\n",
        "\n",
        "        x = F.leaky_relu(x, self.negative_slope)\n",
        "        alpha = (x * self.att).sum(dim=-1)\n",
        "        alpha = softmax(alpha, index, ptr, size_i)\n",
        "        self._alpha = alpha\n",
        "        alpha = F.dropout(alpha, p=self.dropout, training=self.training)\n",
        "        return x_j * alpha.unsqueeze(-1)\n",
        "\n",
        "    def __repr__(self) -> str:\n",
        "        return (f'{self.__class__.__name__}({self.in_channels}, '\n",
        "                f'{self.out_channels}, heads={self.heads})')"
      ],
      "metadata": {
        "id": "LZhiMKViz6Dl"
      },
      "execution_count": 70,
      "outputs": []
    },
    {
      "cell_type": "code",
      "source": [
        "torch.minimum, torch.maximum, torch.mul "
      ],
      "metadata": {
        "id": "eDOoA31B0a27"
      },
      "execution_count": null,
      "outputs": []
    },
    {
      "cell_type": "code",
      "source": [
        "class GATv2Editted(torch.nn.Module):\n",
        "    def __init__(self, in_channels, hidden_channels, out_channels, heads, message_operation):\n",
        "        super().__init__()\n",
        "        self.conv1 = GATv2ConvEditted(in_channels, hidden_channels,\n",
        "                                      message_operation=message_operation,\n",
        "                                      heads=heads, dropout=0.6)\n",
        "        \n",
        "        self.conv2 = GATv2ConvEditted(hidden_channels * heads, out_channels,\n",
        "                                      message_operation=message_operation,\n",
        "                                      heads=1, concat=False, dropout=0.6)\n",
        "\n",
        "    def forward(self, x, edge_index):\n",
        "        x = F.dropout(x, p=0.6, training=self.training)\n",
        "        x = F.elu(self.conv1(x, edge_index))\n",
        "        x = F.dropout(x, p=0.6, training=self.training)\n",
        "        x = self.conv2(x, edge_index)\n",
        "        return x"
      ],
      "metadata": {
        "id": "XcjWKUPr-E_z"
      },
      "execution_count": 71,
      "outputs": []
    },
    {
      "cell_type": "code",
      "source": [
        "model = GATv2Editted(500, 32, 3, 6, torch.minimum)"
      ],
      "metadata": {
        "id": "4vehojnK-E_0"
      },
      "execution_count": 77,
      "outputs": []
    },
    {
      "cell_type": "code",
      "source": [
        "model"
      ],
      "metadata": {
        "colab": {
          "base_uri": "https://localhost:8080/"
        },
        "outputId": "12c16843-da7f-4101-8148-f7c4c935d73d",
        "id": "nls93BI5-E_0"
      },
      "execution_count": 78,
      "outputs": [
        {
          "output_type": "execute_result",
          "data": {
            "text/plain": [
              "GATv2Editted(\n",
              "  (conv1): GATv2ConvEditted(500, 32, heads=6)\n",
              "  (conv2): GATv2ConvEditted(192, 3, heads=1)\n",
              ")"
            ]
          },
          "metadata": {},
          "execution_count": 78
        }
      ]
    },
    {
      "cell_type": "code",
      "source": [
        "import torch.nn.functional as F\n",
        "\n",
        "optimizer = torch.optim.Adam(model.parameters(), lr=0.01)\n",
        "\n",
        "for epoch in range(200):\n",
        "    pred = model(dataset.x, dataset.edge_index)\n",
        "    loss = F.cross_entropy(pred[dataset.train_mask], dataset.y[dataset.train_mask])\n",
        "\n",
        "    # Backpropagation\n",
        "    optimizer.zero_grad()\n",
        "    loss.backward()\n",
        "    optimizer.step()"
      ],
      "metadata": {
        "id": "x4H7Yg66-E_1"
      },
      "execution_count": null,
      "outputs": []
    },
    {
      "cell_type": "code",
      "source": [
        "with torch.no_grad():\n",
        "  pred = model(dataset.x, dataset.edge_index).argmax(dim=-1)\n",
        "\n",
        "accs = []\n",
        "for mask in [dataset.train_mask, dataset.val_mask, dataset.test_mask]:\n",
        "    accs.append(int((pred[mask] == dataset.y[mask]).sum()) / int(mask.sum()))\n",
        "\n",
        "print(accs)"
      ],
      "metadata": {
        "colab": {
          "base_uri": "https://localhost:8080/"
        },
        "outputId": "f72951a4-b8c4-44e2-aa90-638c496baab4",
        "id": "2YInR7cD-E_1"
      },
      "execution_count": null,
      "outputs": [
        {
          "output_type": "stream",
          "name": "stdout",
          "text": [
            "[0.6725, 0.5625, 0.5692354927847713]\n"
          ]
        }
      ]
    },
    {
      "cell_type": "markdown",
      "source": [
        "  \\begin{equation}\n",
        "        \\mathbf{x}_i^{\\prime} = \\gamma_{\\mathbf{\\Theta}} \\left( \\mathbf{x}_i,\n",
        "        \\square_{j \\in \\mathcal{N}(i)} \\, \\phi_{\\mathbf{\\Theta}}\n",
        "        \\left(\\mathbf{x}_i, \\mathbf{x}_j,\\mathbf{e}_{j,i}\\right) \\right)\n",
        "  \\end{equation}"
      ],
      "metadata": {
        "id": "dVJupzpOr_rI"
      }
    }
  ]
}