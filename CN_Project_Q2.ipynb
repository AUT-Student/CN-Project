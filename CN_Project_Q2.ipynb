{
  "nbformat": 4,
  "nbformat_minor": 0,
  "metadata": {
    "colab": {
      "provenance": [],
      "toc_visible": true,
      "authorship_tag": "ABX9TyMOoAUZFikjyHKqqR+rw6sX",
      "include_colab_link": true
    },
    "kernelspec": {
      "name": "python3",
      "display_name": "Python 3"
    },
    "language_info": {
      "name": "python"
    }
  },
  "cells": [
    {
      "cell_type": "markdown",
      "metadata": {
        "id": "view-in-github",
        "colab_type": "text"
      },
      "source": [
        "<a href=\"https://colab.research.google.com/github/AUT-Student/CN-Project/blob/main/CN_Project_Q2.ipynb\" target=\"_parent\"><img src=\"https://colab.research.google.com/assets/colab-badge.svg\" alt=\"Open In Colab\"/></a>"
      ]
    },
    {
      "cell_type": "markdown",
      "source": [
        "# Libraries"
      ],
      "metadata": {
        "id": "4k8EklYTfZPk"
      }
    },
    {
      "cell_type": "code",
      "execution_count": 1,
      "metadata": {
        "id": "OcBClpjypGns"
      },
      "outputs": [],
      "source": [
        "import torch\n",
        "import scipy\n",
        "import scipy.sparse as sp\n",
        "from torch.nn import Linear, Softmax\n",
        "import numpy as np\n",
        "import torch.nn.functional as F"
      ]
    },
    {
      "cell_type": "code",
      "source": [
        "!pip install pyg-lib torch-scatter torch-sparse -f https://data.pyg.org/whl/torch-1.13.0+cu116.html\n",
        "!pip install torch-geometric\n",
        "!pip install torch-cluster torch-spline-conv -f https://data.pyg.org/whl/torch-1.13.0+cu116.html"
      ],
      "metadata": {
        "colab": {
          "base_uri": "https://localhost:8080/",
          "height": 1000
        },
        "id": "jh4ulrQ3gwio",
        "outputId": "7ff488ac-7733-444e-ced4-d95b5835b74b"
      },
      "execution_count": 2,
      "outputs": [
        {
          "output_type": "stream",
          "name": "stdout",
          "text": [
            "Looking in indexes: https://pypi.org/simple, https://us-python.pkg.dev/colab-wheels/public/simple/\n",
            "Looking in links: https://data.pyg.org/whl/torch-1.13.0+cu116.html\n",
            "Collecting pyg-lib\n",
            "  Downloading https://data.pyg.org/whl/torch-1.13.0%2Bcu116/pyg_lib-0.1.0%2Bpt113cu116-cp38-cp38-linux_x86_64.whl (1.9 MB)\n",
            "\u001b[2K     \u001b[90m━━━━━━━━━━━━━━━━━━━━━━━━━━━━━━━━━━━━━━━━\u001b[0m \u001b[32m1.9/1.9 MB\u001b[0m \u001b[31m22.6 MB/s\u001b[0m eta \u001b[36m0:00:00\u001b[0m\n",
            "\u001b[?25hCollecting torch-scatter\n",
            "  Downloading https://data.pyg.org/whl/torch-1.13.0%2Bcu116/torch_scatter-2.1.0%2Bpt113cu116-cp38-cp38-linux_x86_64.whl (9.4 MB)\n",
            "\u001b[2K     \u001b[90m━━━━━━━━━━━━━━━━━━━━━━━━━━━━━━━━━━━━━━━━\u001b[0m \u001b[32m9.4/9.4 MB\u001b[0m \u001b[31m64.1 MB/s\u001b[0m eta \u001b[36m0:00:00\u001b[0m\n",
            "\u001b[?25hCollecting torch-sparse\n",
            "  Downloading https://data.pyg.org/whl/torch-1.13.0%2Bcu116/torch_sparse-0.6.16%2Bpt113cu116-cp38-cp38-linux_x86_64.whl (4.5 MB)\n",
            "\u001b[2K     \u001b[90m━━━━━━━━━━━━━━━━━━━━━━━━━━━━━━━━━━━━━━━━\u001b[0m \u001b[32m4.5/4.5 MB\u001b[0m \u001b[31m59.3 MB/s\u001b[0m eta \u001b[36m0:00:00\u001b[0m\n",
            "\u001b[?25hRequirement already satisfied: scipy in /usr/local/lib/python3.8/dist-packages (from torch-sparse) (1.7.3)\n",
            "Requirement already satisfied: numpy<1.23.0,>=1.16.5 in /usr/local/lib/python3.8/dist-packages (from scipy->torch-sparse) (1.21.6)\n",
            "Installing collected packages: torch-scatter, pyg-lib, torch-sparse\n",
            "Successfully installed pyg-lib-0.1.0+pt113cu116 torch-scatter-2.1.0+pt113cu116 torch-sparse-0.6.16+pt113cu116\n",
            "Looking in indexes: https://pypi.org/simple, https://us-python.pkg.dev/colab-wheels/public/simple/\n",
            "Collecting torch-geometric\n",
            "  Downloading torch_geometric-2.2.0.tar.gz (564 kB)\n",
            "\u001b[2K     \u001b[90m━━━━━━━━━━━━━━━━━━━━━━━━━━━━━━━━━━━━━━━\u001b[0m \u001b[32m565.0/565.0 KB\u001b[0m \u001b[31m7.4 MB/s\u001b[0m eta \u001b[36m0:00:00\u001b[0m\n",
            "\u001b[?25h  Preparing metadata (setup.py) ... \u001b[?25l\u001b[?25hdone\n",
            "Requirement already satisfied: tqdm in /usr/local/lib/python3.8/dist-packages (from torch-geometric) (4.64.1)\n",
            "Requirement already satisfied: numpy in /usr/local/lib/python3.8/dist-packages (from torch-geometric) (1.21.6)\n",
            "Requirement already satisfied: scipy in /usr/local/lib/python3.8/dist-packages (from torch-geometric) (1.7.3)\n",
            "Requirement already satisfied: jinja2 in /usr/local/lib/python3.8/dist-packages (from torch-geometric) (2.11.3)\n",
            "Requirement already satisfied: requests in /usr/local/lib/python3.8/dist-packages (from torch-geometric) (2.25.1)\n",
            "Requirement already satisfied: pyparsing in /usr/local/lib/python3.8/dist-packages (from torch-geometric) (3.0.9)\n",
            "Requirement already satisfied: scikit-learn in /usr/local/lib/python3.8/dist-packages (from torch-geometric) (1.0.2)\n",
            "Collecting psutil>=5.8.0\n",
            "  Downloading psutil-5.9.4-cp36-abi3-manylinux_2_12_x86_64.manylinux2010_x86_64.manylinux_2_17_x86_64.manylinux2014_x86_64.whl (280 kB)\n",
            "\u001b[2K     \u001b[90m━━━━━━━━━━━━━━━━━━━━━━━━━━━━━━━━━━━━━━\u001b[0m \u001b[32m280.2/280.2 KB\u001b[0m \u001b[31m20.2 MB/s\u001b[0m eta \u001b[36m0:00:00\u001b[0m\n",
            "\u001b[?25hRequirement already satisfied: MarkupSafe>=0.23 in /usr/local/lib/python3.8/dist-packages (from jinja2->torch-geometric) (2.0.1)\n",
            "Requirement already satisfied: idna<3,>=2.5 in /usr/local/lib/python3.8/dist-packages (from requests->torch-geometric) (2.10)\n",
            "Requirement already satisfied: certifi>=2017.4.17 in /usr/local/lib/python3.8/dist-packages (from requests->torch-geometric) (2022.12.7)\n",
            "Requirement already satisfied: chardet<5,>=3.0.2 in /usr/local/lib/python3.8/dist-packages (from requests->torch-geometric) (4.0.0)\n",
            "Requirement already satisfied: urllib3<1.27,>=1.21.1 in /usr/local/lib/python3.8/dist-packages (from requests->torch-geometric) (1.24.3)\n",
            "Requirement already satisfied: threadpoolctl>=2.0.0 in /usr/local/lib/python3.8/dist-packages (from scikit-learn->torch-geometric) (3.1.0)\n",
            "Requirement already satisfied: joblib>=0.11 in /usr/local/lib/python3.8/dist-packages (from scikit-learn->torch-geometric) (1.2.0)\n",
            "Building wheels for collected packages: torch-geometric\n",
            "  Building wheel for torch-geometric (setup.py) ... \u001b[?25l\u001b[?25hdone\n",
            "  Created wheel for torch-geometric: filename=torch_geometric-2.2.0-py3-none-any.whl size=773302 sha256=4713926b8264d237fe034f9432ff97f0d3055c8b21429c3aa62f54022185a5fc\n",
            "  Stored in directory: /root/.cache/pip/wheels/59/a3/20/198928106d3169865ae73afcbd3d3d1796cf6b429b55c65378\n",
            "Successfully built torch-geometric\n",
            "Installing collected packages: psutil, torch-geometric\n",
            "  Attempting uninstall: psutil\n",
            "    Found existing installation: psutil 5.4.8\n",
            "    Uninstalling psutil-5.4.8:\n",
            "      Successfully uninstalled psutil-5.4.8\n",
            "Successfully installed psutil-5.9.4 torch-geometric-2.2.0\n"
          ]
        },
        {
          "output_type": "display_data",
          "data": {
            "application/vnd.colab-display-data+json": {
              "pip_warning": {
                "packages": [
                  "psutil"
                ]
              }
            }
          },
          "metadata": {}
        },
        {
          "output_type": "stream",
          "name": "stdout",
          "text": [
            "Looking in indexes: https://pypi.org/simple, https://us-python.pkg.dev/colab-wheels/public/simple/\n",
            "Looking in links: https://data.pyg.org/whl/torch-1.13.0+cu116.html\n",
            "Collecting torch-cluster\n",
            "  Downloading https://data.pyg.org/whl/torch-1.13.0%2Bcu116/torch_cluster-1.6.0%2Bpt113cu116-cp38-cp38-linux_x86_64.whl (3.2 MB)\n",
            "\u001b[2K     \u001b[90m━━━━━━━━━━━━━━━━━━━━━━━━━━━━━━━━━━━━━━━━\u001b[0m \u001b[32m3.2/3.2 MB\u001b[0m \u001b[31m33.5 MB/s\u001b[0m eta \u001b[36m0:00:00\u001b[0m\n",
            "\u001b[?25hCollecting torch-spline-conv\n",
            "  Downloading https://data.pyg.org/whl/torch-1.13.0%2Bcu116/torch_spline_conv-1.2.1%2Bpt113cu116-cp38-cp38-linux_x86_64.whl (873 kB)\n",
            "\u001b[2K     \u001b[90m━━━━━━━━━━━━━━━━━━━━━━━━━━━━━━━━━━━━━━\u001b[0m \u001b[32m873.9/873.9 KB\u001b[0m \u001b[31m55.6 MB/s\u001b[0m eta \u001b[36m0:00:00\u001b[0m\n",
            "\u001b[?25hRequirement already satisfied: scipy in /usr/local/lib/python3.8/dist-packages (from torch-cluster) (1.7.3)\n",
            "Requirement already satisfied: numpy<1.23.0,>=1.16.5 in /usr/local/lib/python3.8/dist-packages (from scipy->torch-cluster) (1.21.6)\n",
            "Installing collected packages: torch-spline-conv, torch-cluster\n",
            "Successfully installed torch-cluster-1.6.0+pt113cu116 torch-spline-conv-1.2.1+pt113cu116\n"
          ]
        }
      ]
    },
    {
      "cell_type": "code",
      "source": [
        "from torch_geometric.utils import to_scipy_sparse_matrix"
      ],
      "metadata": {
        "id": "055dYQgS5pkg"
      },
      "execution_count": 3,
      "outputs": []
    },
    {
      "cell_type": "markdown",
      "source": [
        "# Datasets"
      ],
      "metadata": {
        "id": "C-kH3L0tC_jE"
      }
    },
    {
      "cell_type": "code",
      "source": [
        "from torch_geometric.datasets.amazon import Amazon\n",
        "from torch_geometric.datasets.planetoid import Planetoid\n",
        "from torch_geometric.transforms.random_node_split import RandomNodeSplit"
      ],
      "metadata": {
        "id": "lA7W8iKj31Wq"
      },
      "execution_count": 311,
      "outputs": []
    },
    {
      "cell_type": "markdown",
      "source": [
        "## Amazon Computers"
      ],
      "metadata": {
        "id": "s3HaCdcW49Gn"
      }
    },
    {
      "cell_type": "code",
      "source": [
        "amazon_computers = Amazon(\"/content\", \"computers\")[0]"
      ],
      "metadata": {
        "colab": {
          "base_uri": "https://localhost:8080/"
        },
        "id": "zW-qDLxB0a8q",
        "outputId": "6c98b11f-fe7d-4df0-e9ba-889e4b8bcaac"
      },
      "execution_count": 88,
      "outputs": [
        {
          "output_type": "stream",
          "name": "stderr",
          "text": [
            "Downloading https://github.com/shchur/gnn-benchmark/raw/master/data/npz/amazon_electronics_computers.npz\n",
            "Processing...\n",
            "Done!\n"
          ]
        }
      ]
    },
    {
      "cell_type": "code",
      "source": [
        "amazon_computers"
      ],
      "metadata": {
        "colab": {
          "base_uri": "https://localhost:8080/"
        },
        "id": "4anDisuwfCZx",
        "outputId": "9c2b02c9-85d6-4659-9224-e150eeb539a1"
      },
      "execution_count": 91,
      "outputs": [
        {
          "output_type": "execute_result",
          "data": {
            "text/plain": [
              "Data(x=[13752, 767], edge_index=[2, 491722], y=[13752])"
            ]
          },
          "metadata": {},
          "execution_count": 91
        }
      ]
    },
    {
      "cell_type": "code",
      "source": [
        "set(amazon_computers.y.numpy())"
      ],
      "metadata": {
        "colab": {
          "base_uri": "https://localhost:8080/"
        },
        "id": "zJqEenFWfEGU",
        "outputId": "7fba8c44-51be-424b-a8ed-4eabff2415b4"
      },
      "execution_count": 92,
      "outputs": [
        {
          "output_type": "execute_result",
          "data": {
            "text/plain": [
              "{0, 1, 2, 3, 4, 5, 6, 7, 8, 9}"
            ]
          },
          "metadata": {},
          "execution_count": 92
        }
      ]
    },
    {
      "cell_type": "code",
      "source": [
        "rns = RandomNodeSplit(num_test=4000, num_val=4000)"
      ],
      "metadata": {
        "id": "8ROaOggH4qru"
      },
      "execution_count": 312,
      "outputs": []
    },
    {
      "cell_type": "code",
      "source": [
        "rns(amazon_computers)"
      ],
      "metadata": {
        "colab": {
          "base_uri": "https://localhost:8080/"
        },
        "id": "NJpARMdH5Pfa",
        "outputId": "f64da513-7704-46b9-b73f-940df39ca451"
      },
      "execution_count": 313,
      "outputs": [
        {
          "output_type": "execute_result",
          "data": {
            "text/plain": [
              "Data(x=[13752, 767], edge_index=[2, 491722], y=[13752], train_mask=[13752], val_mask=[13752], test_mask=[13752])"
            ]
          },
          "metadata": {},
          "execution_count": 313
        }
      ]
    },
    {
      "cell_type": "markdown",
      "source": [
        "## Amazon Photo"
      ],
      "metadata": {
        "id": "6HdT7D6r50Ql"
      }
    },
    {
      "cell_type": "code",
      "source": [
        "amazon_photo = Amazon(\"/content\", \"photo\")[0]"
      ],
      "metadata": {
        "id": "PoICfxF35zZw"
      },
      "execution_count": 320,
      "outputs": []
    },
    {
      "cell_type": "code",
      "source": [
        "amazon_photo"
      ],
      "metadata": {
        "colab": {
          "base_uri": "https://localhost:8080/"
        },
        "id": "Pyxp2BQAew4w",
        "outputId": "cf4dedff-23fa-411a-fda2-571446073b5a"
      },
      "execution_count": 321,
      "outputs": [
        {
          "output_type": "execute_result",
          "data": {
            "text/plain": [
              "Data(x=[7650, 745], edge_index=[2, 238162], y=[7650])"
            ]
          },
          "metadata": {},
          "execution_count": 321
        }
      ]
    },
    {
      "cell_type": "code",
      "source": [
        "set(amazon_photo.y.numpy())"
      ],
      "metadata": {
        "colab": {
          "base_uri": "https://localhost:8080/"
        },
        "id": "Jbo1h4nUe5Fr",
        "outputId": "8a9e06c0-f14c-46c9-c716-765fcad1ec56"
      },
      "execution_count": 322,
      "outputs": [
        {
          "output_type": "execute_result",
          "data": {
            "text/plain": [
              "{0, 1, 2, 3, 4, 5, 6, 7}"
            ]
          },
          "metadata": {},
          "execution_count": 322
        }
      ]
    },
    {
      "cell_type": "code",
      "source": [
        "rns = RandomNodeSplit(num_test=2000, num_val=2000)"
      ],
      "metadata": {
        "id": "R6KTQjRb555Y"
      },
      "execution_count": 323,
      "outputs": []
    },
    {
      "cell_type": "code",
      "source": [
        "rns(amazon_photo)"
      ],
      "metadata": {
        "colab": {
          "base_uri": "https://localhost:8080/"
        },
        "id": "gzkzXw8e59Gw",
        "outputId": "05366ede-248a-4467-e910-b2f1af3cf71f"
      },
      "execution_count": 324,
      "outputs": [
        {
          "output_type": "execute_result",
          "data": {
            "text/plain": [
              "Data(x=[7650, 745], edge_index=[2, 238162], y=[7650], train_mask=[7650], val_mask=[7650], test_mask=[7650])"
            ]
          },
          "metadata": {},
          "execution_count": 324
        }
      ]
    },
    {
      "cell_type": "markdown",
      "source": [
        "## PubMed"
      ],
      "metadata": {
        "id": "z_CEf8QJ5AEi"
      }
    },
    {
      "cell_type": "code",
      "source": [
        "pubmed = Planetoid(\"/content/planetoid\", name=\"PubMed\")[0]\n",
        "print(pubmed)\n",
        "print(set(pubmed.y.numpy()))"
      ],
      "metadata": {
        "id": "OSBf7H6K6V2K",
        "colab": {
          "base_uri": "https://localhost:8080/"
        },
        "outputId": "8544de14-e004-4b87-a36d-4530699cc6ab"
      },
      "execution_count": 152,
      "outputs": [
        {
          "output_type": "stream",
          "name": "stdout",
          "text": [
            "Data(x=[19717, 500], edge_index=[2, 88648], y=[19717], train_mask=[19717], val_mask=[19717], test_mask=[19717])\n",
            "{0, 1, 2}\n"
          ]
        }
      ]
    },
    {
      "cell_type": "code",
      "source": [
        "sum(pubmed.train_mask)"
      ],
      "metadata": {
        "colab": {
          "base_uri": "https://localhost:8080/"
        },
        "id": "AkFgi5sW5CbF",
        "outputId": "da727632-eb7d-4486-fd2c-048737d5346e"
      },
      "execution_count": 308,
      "outputs": [
        {
          "output_type": "execute_result",
          "data": {
            "text/plain": [
              "tensor(60)"
            ]
          },
          "metadata": {},
          "execution_count": 308
        }
      ]
    },
    {
      "cell_type": "code",
      "source": [
        "sum(pubmed.test_mask)"
      ],
      "metadata": {
        "colab": {
          "base_uri": "https://localhost:8080/"
        },
        "id": "ESK_CZ9J5Fg4",
        "outputId": "b2362a8c-daa4-44c5-f233-3a9f4790fce9"
      },
      "execution_count": 309,
      "outputs": [
        {
          "output_type": "execute_result",
          "data": {
            "text/plain": [
              "tensor(1000)"
            ]
          },
          "metadata": {},
          "execution_count": 309
        }
      ]
    },
    {
      "cell_type": "code",
      "source": [
        "sum(pubmed.val_mask)"
      ],
      "metadata": {
        "colab": {
          "base_uri": "https://localhost:8080/"
        },
        "id": "xj8DqOPt5H39",
        "outputId": "0d965a19-e99b-430d-e1fd-ced80bd2db09"
      },
      "execution_count": 310,
      "outputs": [
        {
          "output_type": "execute_result",
          "data": {
            "text/plain": [
              "tensor(500)"
            ]
          },
          "metadata": {},
          "execution_count": 310
        }
      ]
    },
    {
      "cell_type": "code",
      "source": [
        "cora = Planetoid(\"/content/planetoid\", name=\"cora\")[0]\n",
        "print(cora)\n",
        "print(set(cora.y.numpy()))"
      ],
      "metadata": {
        "colab": {
          "base_uri": "https://localhost:8080/"
        },
        "id": "ITvhXWI3hVbz",
        "outputId": "b30316f8-6e29-4966-fa08-e0a321913471"
      },
      "execution_count": 153,
      "outputs": [
        {
          "output_type": "stream",
          "name": "stderr",
          "text": [
            "Downloading https://github.com/kimiyoung/planetoid/raw/master/data/ind.cora.x\n",
            "Downloading https://github.com/kimiyoung/planetoid/raw/master/data/ind.cora.tx\n",
            "Downloading https://github.com/kimiyoung/planetoid/raw/master/data/ind.cora.allx\n",
            "Downloading https://github.com/kimiyoung/planetoid/raw/master/data/ind.cora.y\n",
            "Downloading https://github.com/kimiyoung/planetoid/raw/master/data/ind.cora.ty\n",
            "Downloading https://github.com/kimiyoung/planetoid/raw/master/data/ind.cora.ally\n",
            "Downloading https://github.com/kimiyoung/planetoid/raw/master/data/ind.cora.graph\n",
            "Downloading https://github.com/kimiyoung/planetoid/raw/master/data/ind.cora.test.index\n"
          ]
        },
        {
          "output_type": "stream",
          "name": "stdout",
          "text": [
            "Data(x=[2708, 1433], edge_index=[2, 10556], y=[2708], train_mask=[2708], val_mask=[2708], test_mask=[2708])\n",
            "{0, 1, 2, 3, 4, 5, 6}\n"
          ]
        },
        {
          "output_type": "stream",
          "name": "stderr",
          "text": [
            "Processing...\n",
            "Done!\n"
          ]
        }
      ]
    },
    {
      "cell_type": "code",
      "source": [
        "citeseer = Planetoid(\"/content/planetoid\", name=\"citeseer\")[0]\n",
        "print(citeseer)\n",
        "print(set(citeseer.y.numpy()))"
      ],
      "metadata": {
        "colab": {
          "base_uri": "https://localhost:8080/"
        },
        "id": "zX8iyGObCPsv",
        "outputId": "0b5b2637-865c-4599-8ce3-a4be4c7d10fc"
      },
      "execution_count": 155,
      "outputs": [
        {
          "output_type": "stream",
          "name": "stderr",
          "text": [
            "Downloading https://github.com/kimiyoung/planetoid/raw/master/data/ind.citeseer.x\n",
            "Downloading https://github.com/kimiyoung/planetoid/raw/master/data/ind.citeseer.tx\n",
            "Downloading https://github.com/kimiyoung/planetoid/raw/master/data/ind.citeseer.allx\n",
            "Downloading https://github.com/kimiyoung/planetoid/raw/master/data/ind.citeseer.y\n",
            "Downloading https://github.com/kimiyoung/planetoid/raw/master/data/ind.citeseer.ty\n",
            "Downloading https://github.com/kimiyoung/planetoid/raw/master/data/ind.citeseer.ally\n",
            "Downloading https://github.com/kimiyoung/planetoid/raw/master/data/ind.citeseer.graph\n",
            "Downloading https://github.com/kimiyoung/planetoid/raw/master/data/ind.citeseer.test.index\n"
          ]
        },
        {
          "output_type": "stream",
          "name": "stdout",
          "text": [
            "Data(x=[3327, 3703], edge_index=[2, 9104], y=[3327], train_mask=[3327], val_mask=[3327], test_mask=[3327])\n",
            "{0, 1, 2, 3, 4, 5}\n"
          ]
        },
        {
          "output_type": "stream",
          "name": "stderr",
          "text": [
            "Processing...\n",
            "Done!\n"
          ]
        }
      ]
    },
    {
      "cell_type": "markdown",
      "source": [
        "# Models"
      ],
      "metadata": {
        "id": "kIM4Xvn363oE"
      }
    },
    {
      "cell_type": "markdown",
      "source": [
        "## Model SGC"
      ],
      "metadata": {
        "id": "JTwy6C3K_T7-"
      }
    },
    {
      "cell_type": "code",
      "source": [
        "#Source:\n",
        "#1.   https://docs.dgl.ai/en/0.8.x/_modules/dgl/nn/pytorch/conv/sgconv.html\n",
        "#2.   https://github.com/Tiiiger/SGC\n",
        "\n",
        "class SGC(torch.nn.Module):\n",
        "    def __init__(self, number_features, number_classes, k):\n",
        "      super().__init__()\n",
        "      self.linear = Linear(number_features, number_classes)\n",
        "      self.softmax = Softmax(dim=1)\n",
        "      self.k = k\n",
        "      \n",
        "      torch.nn.init.xavier_uniform_(self.linear.weight)\n",
        "\n",
        "    def create_sgc_matrix(self, dataset):\n",
        "      A = to_scipy_sparse_matrix(dataset.edge_index)\n",
        "      I = sp.eye(dataset.num_nodes)\n",
        "\n",
        "      A_tilde = A + I\n",
        "\n",
        "      D_tilde = sp.diags(A_tilde.sum(axis=0).A1)\n",
        "\n",
        "      S = D_tilde.power(-1/2) * A * D_tilde.power(-1/2)\n",
        "\n",
        "      Sk = S.power(self.k)\n",
        "\n",
        "      X = sp.csr_matrix(dataset.x)\n",
        "\n",
        "      SkX = Sk * sp.csr_matrix(dataset.x)\n",
        "\n",
        "      SkX = torch.tensor(SkX.todense()).to(torch.float32)\n",
        "\n",
        "      return SkX\n",
        "\n",
        "    def forward(self, x):\n",
        "      x = self.linear(x)\n",
        "      return x"
      ],
      "metadata": {
        "id": "MbhCUKbfF2A2"
      },
      "execution_count": 177,
      "outputs": []
    },
    {
      "cell_type": "markdown",
      "source": [
        "## Model GCN"
      ],
      "metadata": {
        "id": "KU5Qf_bC6qrw"
      }
    },
    {
      "cell_type": "code",
      "source": [
        "# https://github.com/pyg-team/pytorch_geometric#train-your-own-gnn-model\n",
        "\n",
        "import torch\n",
        "from torch import Tensor\n",
        "from torch_geometric.nn import GCNConv\n",
        "from torch_geometric.datasets import Planetoid\n",
        "\n",
        "class GCN(torch.nn.Module):\n",
        "    def __init__(self, in_channels, hidden_channels, out_channels):\n",
        "        super().__init__()\n",
        "        self.conv1 = GCNConv(in_channels, hidden_channels)\n",
        "        self.conv2 = GCNConv(hidden_channels, out_channels)\n",
        "\n",
        "    def forward(self, x: Tensor, edge_index: Tensor) -> Tensor:\n",
        "        # x: Node feature matrix of shape [num_nodes, in_channels]\n",
        "        # edge_index: Graph connectivity matrix of shape [2, num_edges]\n",
        "        x = self.conv1(x, edge_index).relu()\n",
        "        x = self.conv2(x, edge_index)\n",
        "        return x"
      ],
      "metadata": {
        "id": "h-EkC5NA6s3l"
      },
      "execution_count": 334,
      "outputs": []
    },
    {
      "cell_type": "markdown",
      "source": [
        "# Train and Test"
      ],
      "metadata": {
        "id": "2WeABDYaBXPw"
      }
    },
    {
      "cell_type": "code",
      "source": [
        "class EarlyStopper:\n",
        "    def __init__(self, patience=1, min_delta=0):\n",
        "        self.patience = patience\n",
        "        self.min_delta = min_delta\n",
        "        self.counter = 0\n",
        "        self.min_validation_loss = np.inf\n",
        "\n",
        "    def early_stop(self, validation_loss):\n",
        "        if validation_loss < self.min_validation_loss:\n",
        "            self.min_validation_loss = validation_loss\n",
        "            self.counter = 0\n",
        "        elif validation_loss > (self.min_validation_loss + self.min_delta):\n",
        "            self.counter += 1\n",
        "            if self.counter >= self.patience:\n",
        "                return True\n",
        "        return False"
      ],
      "metadata": {
        "id": "b0ztPvPtUG7N"
      },
      "execution_count": null,
      "outputs": []
    },
    {
      "cell_type": "code",
      "source": [
        "def train(model, dataset, lr):\n",
        "  x = model.create_sgc_matrix(dataset)\n",
        "  \n",
        "  model.train()\n",
        "\n",
        "  optimizer = torch.optim.Adam(model.parameters(), lr=lr,\n",
        "                           weight_decay=5e-6)\n",
        "  \n",
        "  early_stopper = EarlyStopper(patience=100, min_delta=0.001)\n",
        "  \n",
        "  for epoch in range(1000):\n",
        "    pred = model(x)\n",
        "    train_loss = F.cross_entropy(pred[dataset.train_mask],\n",
        "                                  dataset.y[dataset.train_mask])\n",
        "    \n",
        "    validation_loss = F.cross_entropy(pred[dataset.val_mask],\n",
        "                                      dataset.y[dataset.val_mask])\n",
        "\n",
        "    if epoch%50==0:\n",
        "      print(f\"epoch = {epoch} train_loss = {round(float(train_loss), 4)}, validation_loss={round(float(validation_loss), 4)}\")\n",
        "\n",
        "    # Backpropagation\n",
        "    optimizer.zero_grad()\n",
        "    train_loss.backward()\n",
        "    optimizer.step()  \n",
        "\n",
        "    if early_stopper.early_stop(validation_loss):             \n",
        "        print(epoch)\n",
        "        break"
      ],
      "metadata": {
        "id": "K_PHFPKWF2ex"
      },
      "execution_count": null,
      "outputs": []
    },
    {
      "cell_type": "code",
      "source": [
        "def test(model, dataset):\n",
        "  x = model.create_sgc_matrix(dataset)\n",
        "  model.eval()\n",
        "  with torch.no_grad():\n",
        "    pred = model(x).argmax(dim=-1)\n",
        "\n",
        "  accs = []\n",
        "  for mask in [dataset.train_mask, dataset.val_mask, dataset.test_mask]:\n",
        "      accs.append(int((pred[mask] == dataset.y[mask]).sum()) / int(mask.sum()))\n",
        "\n",
        "  print(f\"Train Accuracy = {accs[0]}\")\n",
        "  print(f\"Valid Accuracy = {accs[1]}\")\n",
        "  print(f\"Test  Accuracy = {accs[2]}\")  "
      ],
      "metadata": {
        "id": "etxL6RpvCbt-"
      },
      "execution_count": null,
      "outputs": []
    },
    {
      "cell_type": "code",
      "source": [
        "def train_gcn(model, dataset):\n",
        "  model.train()\n",
        "\n",
        "  early_stopper = EarlyStopper(patience=50, min_delta=0.01)\n",
        "  optimizer = torch.optim.Adam(model.parameters(), lr=0.01)\n",
        "\n",
        "  for epoch in range(20000):\n",
        "    pred = model(dataset.x, dataset.edge_index)\n",
        "    train_loss = F.cross_entropy(pred[dataset.train_mask],\n",
        "                                  dataset.y[dataset.train_mask])\n",
        "    \n",
        "    validation_loss = F.cross_entropy(pred[dataset.val_mask],\n",
        "                                      dataset.y[dataset.val_mask])\n",
        "\n",
        "    # Backpropagation\n",
        "    optimizer.zero_grad()\n",
        "    train_loss.backward()\n",
        "    optimizer.step()\n",
        "\n",
        "    if early_stopper.early_stop(validation_loss):             \n",
        "        break"
      ],
      "metadata": {
        "id": "PsaUwLA67ASj"
      },
      "execution_count": 354,
      "outputs": []
    },
    {
      "cell_type": "code",
      "source": [
        "def test_gcn(model, dataset):\n",
        "  model.eval()\n",
        "  with torch.no_grad():\n",
        "    pred = model(dataset.x, dataset.edge_index).argmax(dim=-1)\n",
        "\n",
        "  accs = []\n",
        "  for mask in [dataset.train_mask, dataset.val_mask, dataset.test_mask]:\n",
        "      accs.append(int((pred[mask] == dataset.y[mask]).sum()) / int(mask.sum()))\n",
        "\n",
        "  print(f\"Train Accuracy = {accs[0]}\")\n",
        "  print(f\"Valid Accuracy = {accs[1]}\")\n",
        "  print(f\"Test  Accuracy = {accs[2]}\")"
      ],
      "metadata": {
        "id": "yXn7Nfy07DEZ"
      },
      "execution_count": 330,
      "outputs": []
    },
    {
      "cell_type": "markdown",
      "source": [
        "# Results"
      ],
      "metadata": {
        "id": "tzpfzbhFfu7a"
      }
    },
    {
      "cell_type": "markdown",
      "source": [
        "## PubMed"
      ],
      "metadata": {
        "id": "tfT50dj_fwQ-"
      }
    },
    {
      "cell_type": "code",
      "source": [
        "model_pubmed = SGC(number_features=500, number_classes=3, k=2)"
      ],
      "metadata": {
        "id": "UNEvsQq1GRbN"
      },
      "execution_count": 280,
      "outputs": []
    },
    {
      "cell_type": "code",
      "source": [
        "train(model_pubmed, pubmed, lr=0.2)"
      ],
      "metadata": {
        "colab": {
          "base_uri": "https://localhost:8080/"
        },
        "id": "2TQS0AAHGclh",
        "outputId": "b85fa426-8404-4b98-d71e-52e038cd5bd3"
      },
      "execution_count": 281,
      "outputs": [
        {
          "output_type": "stream",
          "name": "stdout",
          "text": [
            "epoch = 0 train_loss = 1.0984, validation_loss=1.102\n",
            "epoch = 50 train_loss = 0.6733, validation_loss=0.9326\n",
            "epoch = 100 train_loss = 0.6254, validation_loss=0.9118\n",
            "epoch = 150 train_loss = 0.6098, validation_loss=0.904\n",
            "epoch = 200 train_loss = 0.603, validation_loss=0.9\n",
            "epoch = 250 train_loss = 0.5994, validation_loss=0.8977\n",
            "epoch = 300 train_loss = 0.5973, validation_loss=0.8962\n",
            "epoch = 350 train_loss = 0.5959, validation_loss=0.8951\n",
            "epoch = 400 train_loss = 0.5949, validation_loss=0.8944\n",
            "epoch = 450 train_loss = 0.5942, validation_loss=0.8939\n",
            "epoch = 500 train_loss = 0.5937, validation_loss=0.8935\n",
            "epoch = 550 train_loss = 0.5934, validation_loss=0.8932\n",
            "epoch = 600 train_loss = 0.5931, validation_loss=0.893\n",
            "epoch = 650 train_loss = 0.5929, validation_loss=0.8929\n",
            "epoch = 700 train_loss = 0.5927, validation_loss=0.8927\n",
            "epoch = 750 train_loss = 0.5926, validation_loss=0.8927\n",
            "epoch = 800 train_loss = 0.5925, validation_loss=0.8926\n",
            "epoch = 850 train_loss = 0.5925, validation_loss=0.8925\n",
            "epoch = 900 train_loss = 0.5924, validation_loss=0.8925\n",
            "epoch = 950 train_loss = 0.5924, validation_loss=0.8925\n"
          ]
        }
      ]
    },
    {
      "cell_type": "code",
      "source": [
        "test(model_pubmed, pubmed)"
      ],
      "metadata": {
        "colab": {
          "base_uri": "https://localhost:8080/"
        },
        "id": "10wxVYx-FJ6k",
        "outputId": "a00ad770-d571-4a9e-fb25-b4512486ad53"
      },
      "execution_count": 283,
      "outputs": [
        {
          "output_type": "stream",
          "name": "stdout",
          "text": [
            "Train Accuracy = 0.9333333333333333\n",
            "Valid Accuracy = 0.714\n",
            "Test  Accuracy = 0.707\n"
          ]
        }
      ]
    },
    {
      "cell_type": "markdown",
      "source": [
        "## Amazon Computers"
      ],
      "metadata": {
        "id": "sj7A8r67hzUZ"
      }
    },
    {
      "cell_type": "code",
      "source": [
        "model_computers =  SGC(number_features=767, number_classes=10, k=2)"
      ],
      "metadata": {
        "id": "nG7uudxBeXO_"
      },
      "execution_count": 317,
      "outputs": []
    },
    {
      "cell_type": "code",
      "source": [
        "train(model_computers, amazon_computers, lr=0.2)"
      ],
      "metadata": {
        "colab": {
          "base_uri": "https://localhost:8080/"
        },
        "id": "C3aD0o9-0nqq",
        "outputId": "a8e3d294-a2de-4208-cd43-6682c6f03bf4"
      },
      "execution_count": 318,
      "outputs": [
        {
          "output_type": "stream",
          "name": "stdout",
          "text": [
            "epoch = 0 train_loss = 2.2926, validation_loss=2.2918\n",
            "epoch = 50 train_loss = 0.6805, validation_loss=0.7242\n",
            "epoch = 100 train_loss = 0.5208, validation_loss=0.5807\n",
            "epoch = 150 train_loss = 0.4671, validation_loss=0.5397\n",
            "epoch = 200 train_loss = 0.4408, validation_loss=0.5231\n",
            "epoch = 250 train_loss = 0.4259, validation_loss=0.5155\n",
            "epoch = 300 train_loss = 0.4168, validation_loss=0.5115\n",
            "epoch = 350 train_loss = 0.411, validation_loss=0.5092\n",
            "epoch = 400 train_loss = 0.4071, validation_loss=0.5079\n",
            "epoch = 450 train_loss = 0.4045, validation_loss=0.507\n",
            "epoch = 500 train_loss = 0.4027, validation_loss=0.5064\n",
            "epoch = 550 train_loss = 0.4015, validation_loss=0.506\n",
            "epoch = 600 train_loss = 0.4007, validation_loss=0.5058\n",
            "epoch = 650 train_loss = 0.4001, validation_loss=0.5056\n",
            "epoch = 700 train_loss = 0.3997, validation_loss=0.5055\n",
            "epoch = 750 train_loss = 0.3994, validation_loss=0.5054\n",
            "epoch = 800 train_loss = 0.3992, validation_loss=0.5053\n",
            "epoch = 850 train_loss = 0.3991, validation_loss=0.5053\n",
            "epoch = 900 train_loss = 0.399, validation_loss=0.5052\n",
            "epoch = 950 train_loss = 0.399, validation_loss=0.5052\n"
          ]
        }
      ]
    },
    {
      "cell_type": "code",
      "source": [
        "test(model_computers, amazon_computers)"
      ],
      "metadata": {
        "colab": {
          "base_uri": "https://localhost:8080/"
        },
        "id": "uL2L5St94Wa3",
        "outputId": "279baa2e-3b08-49fe-996d-ad5160ba2092"
      },
      "execution_count": 319,
      "outputs": [
        {
          "output_type": "stream",
          "name": "stdout",
          "text": [
            "Train Accuracy = 0.8906467315716272\n",
            "Valid Accuracy = 0.85625\n",
            "Test  Accuracy = 0.86325\n"
          ]
        }
      ]
    },
    {
      "cell_type": "markdown",
      "source": [
        "## Amazon Photo"
      ],
      "metadata": {
        "id": "FqGkcRiI6Dns"
      }
    },
    {
      "cell_type": "code",
      "source": [
        "model_photo =  SGC(number_features=745, number_classes=8, k=2)"
      ],
      "metadata": {
        "id": "UL0VqoPd6Haq"
      },
      "execution_count": 325,
      "outputs": []
    },
    {
      "cell_type": "code",
      "source": [
        "train(model_photo, amazon_photo, lr=0.2)"
      ],
      "metadata": {
        "colab": {
          "base_uri": "https://localhost:8080/"
        },
        "outputId": "48b01d0f-696f-4f60-8133-10aa851d5ed8",
        "id": "6B1tMtzc6Haq"
      },
      "execution_count": 327,
      "outputs": [
        {
          "output_type": "stream",
          "name": "stdout",
          "text": [
            "epoch = 0 train_loss = 2.0716, validation_loss=2.0717\n",
            "epoch = 50 train_loss = 0.4832, validation_loss=0.541\n",
            "epoch = 100 train_loss = 0.3686, validation_loss=0.4379\n",
            "epoch = 150 train_loss = 0.3288, validation_loss=0.4127\n",
            "epoch = 200 train_loss = 0.3094, validation_loss=0.4026\n",
            "epoch = 250 train_loss = 0.2986, validation_loss=0.3982\n",
            "epoch = 300 train_loss = 0.2922, validation_loss=0.3963\n",
            "epoch = 350 train_loss = 0.288, validation_loss=0.3956\n",
            "epoch = 400 train_loss = 0.2853, validation_loss=0.3954\n",
            "epoch = 450 train_loss = 0.2835, validation_loss=0.3954\n",
            "epoch = 500 train_loss = 0.2822, validation_loss=0.3955\n",
            "epoch = 550 train_loss = 0.2813, validation_loss=0.3956\n",
            "epoch = 600 train_loss = 0.2807, validation_loss=0.3958\n",
            "epoch = 650 train_loss = 0.2803, validation_loss=0.3959\n",
            "epoch = 700 train_loss = 0.28, validation_loss=0.396\n",
            "epoch = 750 train_loss = 0.2798, validation_loss=0.3961\n",
            "epoch = 800 train_loss = 0.2796, validation_loss=0.3962\n",
            "epoch = 850 train_loss = 0.2795, validation_loss=0.3963\n",
            "epoch = 900 train_loss = 0.2795, validation_loss=0.3964\n",
            "epoch = 950 train_loss = 0.2794, validation_loss=0.3964\n"
          ]
        }
      ]
    },
    {
      "cell_type": "code",
      "source": [
        "test(model_photo, amazon_photo)"
      ],
      "metadata": {
        "colab": {
          "base_uri": "https://localhost:8080/"
        },
        "outputId": "f5dec933-222d-4bc0-ed0a-648a7820b696",
        "id": "C_xQfp6p6Har"
      },
      "execution_count": 328,
      "outputs": [
        {
          "output_type": "stream",
          "name": "stdout",
          "text": [
            "Train Accuracy = 0.9315068493150684\n",
            "Valid Accuracy = 0.912\n",
            "Test  Accuracy = 0.9075\n"
          ]
        }
      ]
    },
    {
      "cell_type": "markdown",
      "source": [
        "# Results GCN"
      ],
      "metadata": {
        "id": "2UXUwDiN7_yb"
      }
    },
    {
      "cell_type": "markdown",
      "source": [
        "## Amazon Computers"
      ],
      "metadata": {
        "id": "wlYYLyTB9lQU"
      }
    },
    {
      "cell_type": "code",
      "source": [
        "model_computers_gcn =  GCN(in_channels=767, hidden_channels=64, out_channels=10)"
      ],
      "metadata": {
        "id": "BLAhV_eO9oKv"
      },
      "execution_count": 360,
      "outputs": []
    },
    {
      "cell_type": "code",
      "source": [
        "train_gcn(model_computers_gcn, amazon_computers)"
      ],
      "metadata": {
        "id": "df9lGo1d9oKw"
      },
      "execution_count": 361,
      "outputs": []
    },
    {
      "cell_type": "code",
      "source": [
        "test_gcn(model_computers_gcn, amazon_computers)"
      ],
      "metadata": {
        "colab": {
          "base_uri": "https://localhost:8080/"
        },
        "outputId": "dba52359-c150-4226-ef3b-3383708e44cb",
        "id": "Mu_nbSxu9oKw"
      },
      "execution_count": 362,
      "outputs": [
        {
          "output_type": "stream",
          "name": "stdout",
          "text": [
            "Train Accuracy = 0.9431502086230876\n",
            "Valid Accuracy = 0.911\n",
            "Test  Accuracy = 0.90975\n"
          ]
        }
      ]
    },
    {
      "cell_type": "markdown",
      "source": [
        "## Amazon Photo"
      ],
      "metadata": {
        "id": "sAl7eSkr9flF"
      }
    },
    {
      "cell_type": "code",
      "source": [
        "model_photo_gcn =  GCN(in_channels=745, hidden_channels=64, out_channels=8)"
      ],
      "metadata": {
        "id": "bZwxvbwH6Y-f"
      },
      "execution_count": 355,
      "outputs": []
    },
    {
      "cell_type": "code",
      "source": [
        "train_gcn(model_photo_gcn, amazon_photo)"
      ],
      "metadata": {
        "id": "Frc6LP6z8GJD"
      },
      "execution_count": 356,
      "outputs": []
    },
    {
      "cell_type": "code",
      "source": [
        "test_gcn(model_photo_gcn, amazon_photo)"
      ],
      "metadata": {
        "colab": {
          "base_uri": "https://localhost:8080/"
        },
        "id": "h7RJ2zP28WPW",
        "outputId": "4e33fcb3-3322-4d70-e1c1-488a6dcc84a5"
      },
      "execution_count": 357,
      "outputs": [
        {
          "output_type": "stream",
          "name": "stdout",
          "text": [
            "Train Accuracy = 0.9605479452054795\n",
            "Valid Accuracy = 0.9415\n",
            "Test  Accuracy = 0.9405\n"
          ]
        }
      ]
    },
    {
      "cell_type": "code",
      "source": [],
      "metadata": {
        "id": "s8smPmx-8fiF"
      },
      "execution_count": null,
      "outputs": []
    }
  ]
}